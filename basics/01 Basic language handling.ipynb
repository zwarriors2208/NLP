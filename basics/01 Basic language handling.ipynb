{
 "cells": [
  {
   "cell_type": "code",
   "execution_count": 121,
   "id": "413aff5b-c0b9-4f31-adf5-c7bce4f04ab4",
   "metadata": {},
   "outputs": [],
   "source": [
    "import os\n",
    "outDir = 'outputs'"
   ]
  },
  {
   "cell_type": "code",
   "execution_count": 47,
   "id": "6ddacd71-3efe-499d-9f42-7536d78e1697",
   "metadata": {},
   "outputs": [],
   "source": [
    "sent = 'They told that their ages are 25 26 and 31 respectively'"
   ]
  },
  {
   "cell_type": "code",
   "execution_count": 49,
   "id": "d8469a8b-6869-4d40-985d-cd424de8539c",
   "metadata": {},
   "outputs": [],
   "source": [
    "y = sent.split()\n",
    "no = []\n",
    "for i in y:\n",
    "    try:\n",
    "        no.append(int(i))\n",
    "    except ValueError:\n",
    "        pass"
   ]
  },
  {
   "cell_type": "code",
   "execution_count": 51,
   "id": "dfb56ca1-5205-41b2-a846-e887ec5ca322",
   "metadata": {},
   "outputs": [
    {
     "data": {
      "text/plain": [
       "27.333333333333332"
      ]
     },
     "execution_count": 51,
     "metadata": {},
     "output_type": "execute_result"
    }
   ],
   "source": [
    "sum(no)/len(no)"
   ]
  },
  {
   "cell_type": "code",
   "execution_count": 59,
   "id": "5b4d25e2-9de3-47ea-8744-d762403c134c",
   "metadata": {},
   "outputs": [],
   "source": [
    "x = [int(i) for i in sent.split() if i.isdigit()]"
   ]
  },
  {
   "cell_type": "code",
   "execution_count": 61,
   "id": "fd30a907-1c7d-4ebd-8a21-a2ca48e1dc0a",
   "metadata": {},
   "outputs": [
    {
     "data": {
      "text/plain": [
       "27.333333333333332"
      ]
     },
     "execution_count": 61,
     "metadata": {},
     "output_type": "execute_result"
    }
   ],
   "source": [
    "sum(x)/len(x)"
   ]
  },
  {
   "cell_type": "markdown",
   "id": "f3c22295-0f56-440e-b73d-8c187e0341cf",
   "metadata": {},
   "source": [
    "- `try goofle input tools online`"
   ]
  },
  {
   "cell_type": "code",
   "execution_count": 90,
   "id": "7b265458-2300-475a-aac8-9ced647828e0",
   "metadata": {},
   "outputs": [],
   "source": [
    "names = a = ['अंकिता', 'प्रिया', 'विजय', 'अतुल कहाते']"
   ]
  },
  {
   "cell_type": "code",
   "execution_count": 79,
   "id": "aa66ee48-a940-427e-9780-5e86db1fe209",
   "metadata": {},
   "outputs": [
    {
     "data": {
      "text/plain": [
       "['अंकिता', 'अतुल कहाते']"
      ]
     },
     "execution_count": 79,
     "metadata": {},
     "output_type": "execute_result"
    }
   ],
   "source": [
    "[x for x in a if x.startswith('अ')]"
   ]
  },
  {
   "cell_type": "code",
   "execution_count": 85,
   "id": "05b9652b-b9f9-4521-bf87-20113ee7eadd",
   "metadata": {},
   "outputs": [
    {
     "data": {
      "text/plain": [
       "'अजय'"
      ]
     },
     "execution_count": 85,
     "metadata": {},
     "output_type": "execute_result"
    }
   ],
   "source": [
    "'विजय'.replace('वि', 'अ')"
   ]
  },
  {
   "cell_type": "code",
   "execution_count": 87,
   "id": "96081e06-faab-4259-9d35-19d21b304edf",
   "metadata": {},
   "outputs": [
    {
     "data": {
      "text/plain": [
       "'अंकिता प्रिया विजय अतुल कहाते'"
      ]
     },
     "execution_count": 87,
     "metadata": {},
     "output_type": "execute_result"
    }
   ],
   "source": [
    "' '.join(a)"
   ]
  },
  {
   "cell_type": "code",
   "execution_count": 92,
   "id": "5a5fc44f-9c8f-40c1-a3a3-1dab6d2798d1",
   "metadata": {},
   "outputs": [
    {
     "data": {
      "text/plain": [
       "[6, 6, 4, 10]"
      ]
     },
     "execution_count": 92,
     "metadata": {},
     "output_type": "execute_result"
    }
   ],
   "source": [
    "[len(x) for x in names]"
   ]
  },
  {
   "cell_type": "code",
   "execution_count": 98,
   "id": "683a3865-13a5-4938-b221-35cac3807033",
   "metadata": {},
   "outputs": [
    {
     "name": "stdout",
     "output_type": "stream",
     "text": [
      "प\n",
      "्\n",
      "र\n",
      "ि\n",
      "य\n",
      "ा\n"
     ]
    }
   ],
   "source": [
    "for i in a[1]:\n",
    "    print(i)"
   ]
  },
  {
   "cell_type": "code",
   "execution_count": 125,
   "id": "2eae5b2c-60ed-4c62-b902-928883fa8f8a",
   "metadata": {},
   "outputs": [],
   "source": [
    "f = open(os.path.join(outDir,'names.txt'), 'w', encoding = 'utf8')\n",
    "for x in range(10):\n",
    "    f.write('अंकिता\\n')\n",
    "\n",
    "f.close()"
   ]
  },
  {
   "cell_type": "code",
   "execution_count": 110,
   "id": "3aff3ad2-4d01-4aac-b263-0d24c58a46b4",
   "metadata": {},
   "outputs": [],
   "source": [
    "with open('names.txt', 'w', encoding='utf-8') as f:\n",
    "    for x in range(10):\n",
    "        f.write('अंकिता\\n')"
   ]
  },
  {
   "cell_type": "code",
   "execution_count": 129,
   "id": "f8e005c5-3fd9-4fa7-b7df-1f464126680d",
   "metadata": {},
   "outputs": [
    {
     "data": {
      "text/plain": [
       "2309"
      ]
     },
     "execution_count": 129,
     "metadata": {},
     "output_type": "execute_result"
    }
   ],
   "source": [
    "ord('अ')"
   ]
  },
  {
   "cell_type": "code",
   "execution_count": 131,
   "id": "055d839f-06de-446d-8d3c-a21b509e4514",
   "metadata": {},
   "outputs": [
    {
     "data": {
      "text/plain": [
       "'अ'"
      ]
     },
     "execution_count": 131,
     "metadata": {},
     "output_type": "execute_result"
    }
   ],
   "source": [
    "chr(2309)"
   ]
  },
  {
   "cell_type": "markdown",
   "id": "7ac4c6f7-f378-4216-aa93-b7112d9d0a0e",
   "metadata": {},
   "source": [
    "- unicode is hexadecimal to type something unicoe we write `\\u` ahead"
   ]
  },
  {
   "cell_type": "code",
   "execution_count": 142,
   "id": "5d560c82-fcb9-4b2e-9017-f39bf7b3da86",
   "metadata": {},
   "outputs": [
    {
     "data": {
      "text/plain": [
       "'हप'"
      ]
     },
     "execution_count": 142,
     "metadata": {},
     "output_type": "execute_result"
    }
   ],
   "source": [
    "x = '\\u0939\\u092A'\n",
    "x"
   ]
  },
  {
   "cell_type": "code",
   "execution_count": 151,
   "id": "9371c609-3dc0-4ebe-a16b-307748925e0f",
   "metadata": {},
   "outputs": [
    {
     "data": {
      "text/plain": [
       "128536"
      ]
     },
     "execution_count": 151,
     "metadata": {},
     "output_type": "execute_result"
    }
   ],
   "source": [
    "emoji = '😘 😛 🍑'\n",
    "ord(emoji[0])"
   ]
  },
  {
   "cell_type": "code",
   "execution_count": 237,
   "id": "de47ed29-e367-4f6c-ba38-7d6c11a29eb8",
   "metadata": {},
   "outputs": [
    {
     "name": "stdout",
     "output_type": "stream",
     "text": [
      "😘  😙  😚  😛  😜  😝  😞  😟  😠  😡  😢  😣  😤  😥  😦  😧  😨  😩  😪  😫  😬  😭  😮  😯  😰  😱  😲  😳  😴  😵  😶  😷  😸  😹  😺  😻  😼  😽  😾  😿  🙀  🙁  🙂  🙃  🙄  🙅  🙆  🙇  🙈  🙉  🙊  🙋  🙌  🙍  🙎  🙏  🙐  🙑  🙒  🙓  🙔  🙕  🙖  🙗  🙘  🙙  🙚  🙛  🙜  🙝  🙞  🙟  🙠  🙡  🙢  🙣  🙤  🙥  🙦  🙧  🙨  🙩  🙪  🙫  🙬  🙭  🙮  🙯  🙰  🙱  🙲  🙳  🙴  🙵  🙶  🙷  🙸  🙹  🙺  🙻  🙼  🙽  🙾  🙿  🚀  🚁  🚂  🚃  🚄  🚅  🚆  🚇  🚈  🚉  🚊  🚋  🚌  🚍  🚎  🚏  🚐  🚑  🚒  🚓  🚔  🚕  🚖  🚗  🚘  🚙  🚚  🚛  🚜  🚝  🚞  🚟  🚠  🚡  🚢  🚣  🚤  🚥  🚦  🚧  🚨  🚩  🚪  🚫  🚬  🚭  🚮  🚯  🚰  🚱  🚲  🚳  🚴  🚵  🚶  🚷  🚸  🚹  🚺  🚻  🚼  🚽  🚾  🚿  🛀  🛁  🛂  🛃  🛄  🛅  🛆  🛇  🛈  🛉  🛊  🛋  🛌  🛍  🛎  🛏  🛐  🛑  🛒  🛓  🛔  🛕  🛖  🛗  🛘  🛙  🛚  🛛  🛜  🛝  🛞  🛟  🛠  🛡  🛢  🛣  🛤  🛥  🛦  🛧  🛨  🛩  🛪  🛫  🛬  🛭  🛮  🛯  🛰  🛱  🛲  🛳  🛴  🛵  🛶  🛷  🛸  🛹  🛺  🛻  🛼  🛽  🛾  🛿  🜀  🜁  🜂  🜃  🜄  🜅  🜆  🜇  🜈  🜉  🜊  🜋  🜌  🜍  🜎  🜏  🜐  🜑  🜒  🜓  🜔  🜕  🜖  🜗  🜘  🜙  🜚  🜛  🜜  🜝  🜞  🜟  🜠  🜡  🜢  🜣  🜤  🜥  🜦  🜧  🜨  🜩  🜪  🜫  🜬  🜭  🜮  🜯  🜰  🜱  🜲  🜳  🜴  🜵  🜶  🜷  🜸  🜹  🜺  🜻  🜼  🜽  🜾  🜿  🝀  🝁  🝂  🝃  "
     ]
    }
   ],
   "source": [
    "for i in range(300):\n",
    "    print(chr(128536+i), end = '  ')"
   ]
  },
  {
   "cell_type": "code",
   "execution_count": 246,
   "id": "2cb17371-01c1-4843-b2cb-6ea690b7c1e5",
   "metadata": {},
   "outputs": [
    {
     "ename": "SyntaxError",
     "evalue": "(unicode error) 'unicodeescape' codec can't decode bytes in position 0-1: truncated \\uXXXX escape (2932595737.py, line 1)",
     "output_type": "error",
     "traceback": [
      "\u001b[1;36m  Cell \u001b[1;32mIn[246], line 1\u001b[1;36m\u001b[0m\n\u001b[1;33m    '\\u🛭'\u001b[0m\n\u001b[1;37m    ^\u001b[0m\n\u001b[1;31mSyntaxError\u001b[0m\u001b[1;31m:\u001b[0m (unicode error) 'unicodeescape' codec can't decode bytes in position 0-1: truncated \\uXXXX escape\n"
     ]
    }
   ],
   "source": [
    "'\\u🛭'"
   ]
  },
  {
   "cell_type": "code",
   "execution_count": null,
   "id": "60ecfc68-7db6-42c4-9e0a-8c3995ea317b",
   "metadata": {},
   "outputs": [],
   "source": []
  }
 ],
 "metadata": {
  "kernelspec": {
   "display_name": "Python 3 (ipykernel)",
   "language": "python",
   "name": "python3"
  },
  "language_info": {
   "codemirror_mode": {
    "name": "ipython",
    "version": 3
   },
   "file_extension": ".py",
   "mimetype": "text/x-python",
   "name": "python",
   "nbconvert_exporter": "python",
   "pygments_lexer": "ipython3",
   "version": "3.12.3"
  }
 },
 "nbformat": 4,
 "nbformat_minor": 5
}
