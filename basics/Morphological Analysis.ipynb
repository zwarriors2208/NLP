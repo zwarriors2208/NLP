{
 "cells": [
  {
   "cell_type": "code",
   "execution_count": 1,
   "id": "4221a73c-de3d-404a-9987-c582785b782c",
   "metadata": {},
   "outputs": [],
   "source": [
    "# Install libraries\n",
    "# pip install morfessor polyglot"
   ]
  },
  {
   "cell_type": "code",
   "execution_count": 3,
   "id": "e6173aed-5a12-4467-8d88-3b57a4ba26b9",
   "metadata": {},
   "outputs": [
    {
     "name": "stdout",
     "output_type": "stream",
     "text": [
      "Collecting morfessor\n",
      "  Using cached Morfessor-2.0.6-py3-none-any.whl.metadata (628 bytes)\n",
      "Requirement already satisfied: polyglot in c:\\users\\dai.studentsdc\\appdata\\local\\anaconda3\\lib\\site-packages (16.7.4)\n",
      "Using cached Morfessor-2.0.6-py3-none-any.whl (35 kB)\n",
      "Installing collected packages: morfessor\n",
      "Successfully installed morfessor-2.0.6\n",
      "Note: you may need to restart the kernel to use updated packages.\n"
     ]
    }
   ],
   "source": [
    "pip install morfessor polyglot\n"
   ]
  },
  {
   "cell_type": "code",
   "execution_count": 7,
   "id": "6cd083b4-efa4-47f1-b146-311c4eac73e3",
   "metadata": {},
   "outputs": [
    {
     "name": "stdout",
     "output_type": "stream",
     "text": [
      "Collecting PyICU\n",
      "  Using cached PyICU-2.14.tar.gz (263 kB)\n",
      "  Installing build dependencies: started\n",
      "  Installing build dependencies: finished with status 'done'\n",
      "  Getting requirements to build wheel: started\n",
      "  Getting requirements to build wheel: finished with status 'error'\n",
      "Note: you may need to restart the kernel to use updated packages.\n"
     ]
    },
    {
     "name": "stderr",
     "output_type": "stream",
     "text": [
      "  error: subprocess-exited-with-error\n",
      "  \n",
      "  Getting requirements to build wheel did not run successfully.\n",
      "  exit code: 1\n",
      "  \n",
      "  [66 lines of output]\n",
      "  (running 'icu-config --version')\n",
      "  (running 'pkg-config --modversion icu-i18n')\n",
      "  Traceback (most recent call last):\n",
      "    File \"<string>\", line 89, in <module>\n",
      "    File \"<frozen os>\", line 685, in __getitem__\n",
      "  KeyError: 'ICU_VERSION'\n",
      "  \n",
      "  During handling of the above exception, another exception occurred:\n",
      "  \n",
      "  Traceback (most recent call last):\n",
      "    File \"<string>\", line 92, in <module>\n",
      "    File \"<string>\", line 19, in check_output\n",
      "    File \"C:\\Users\\DAI.STUDENTSDC\\AppData\\Local\\anaconda3\\Lib\\subprocess.py\", line 466, in check_output\n",
      "      return run(*popenargs, stdout=PIPE, timeout=timeout, check=True,\n",
      "             ^^^^^^^^^^^^^^^^^^^^^^^^^^^^^^^^^^^^^^^^^^^^^^^^^^^^^^^^^\n",
      "    File \"C:\\Users\\DAI.STUDENTSDC\\AppData\\Local\\anaconda3\\Lib\\subprocess.py\", line 548, in run\n",
      "      with Popen(*popenargs, **kwargs) as process:\n",
      "           ^^^^^^^^^^^^^^^^^^^^^^^^^^^\n",
      "    File \"C:\\Users\\DAI.STUDENTSDC\\AppData\\Local\\anaconda3\\Lib\\subprocess.py\", line 1026, in __init__\n",
      "      self._execute_child(args, executable, preexec_fn, close_fds,\n",
      "    File \"C:\\Users\\DAI.STUDENTSDC\\AppData\\Local\\anaconda3\\Lib\\subprocess.py\", line 1538, in _execute_child\n",
      "      hp, ht, pid, tid = _winapi.CreateProcess(executable, args,\n",
      "                         ^^^^^^^^^^^^^^^^^^^^^^^^^^^^^^^^^^^^^^^\n",
      "  FileNotFoundError: [WinError 2] The system cannot find the file specified\n",
      "  \n",
      "  During handling of the above exception, another exception occurred:\n",
      "  \n",
      "  Traceback (most recent call last):\n",
      "    File \"<string>\", line 96, in <module>\n",
      "    File \"<string>\", line 19, in check_output\n",
      "    File \"C:\\Users\\DAI.STUDENTSDC\\AppData\\Local\\anaconda3\\Lib\\subprocess.py\", line 466, in check_output\n",
      "      return run(*popenargs, stdout=PIPE, timeout=timeout, check=True,\n",
      "             ^^^^^^^^^^^^^^^^^^^^^^^^^^^^^^^^^^^^^^^^^^^^^^^^^^^^^^^^^\n",
      "    File \"C:\\Users\\DAI.STUDENTSDC\\AppData\\Local\\anaconda3\\Lib\\subprocess.py\", line 548, in run\n",
      "      with Popen(*popenargs, **kwargs) as process:\n",
      "           ^^^^^^^^^^^^^^^^^^^^^^^^^^^\n",
      "    File \"C:\\Users\\DAI.STUDENTSDC\\AppData\\Local\\anaconda3\\Lib\\subprocess.py\", line 1026, in __init__\n",
      "      self._execute_child(args, executable, preexec_fn, close_fds,\n",
      "    File \"C:\\Users\\DAI.STUDENTSDC\\AppData\\Local\\anaconda3\\Lib\\subprocess.py\", line 1538, in _execute_child\n",
      "      hp, ht, pid, tid = _winapi.CreateProcess(executable, args,\n",
      "                         ^^^^^^^^^^^^^^^^^^^^^^^^^^^^^^^^^^^^^^^\n",
      "  FileNotFoundError: [WinError 2] The system cannot find the file specified\n",
      "  \n",
      "  During handling of the above exception, another exception occurred:\n",
      "  \n",
      "  Traceback (most recent call last):\n",
      "    File \"C:\\Users\\DAI.STUDENTSDC\\AppData\\Local\\anaconda3\\Lib\\site-packages\\pip\\_vendor\\pyproject_hooks\\_in_process\\_in_process.py\", line 353, in <module>\n",
      "      main()\n",
      "    File \"C:\\Users\\DAI.STUDENTSDC\\AppData\\Local\\anaconda3\\Lib\\site-packages\\pip\\_vendor\\pyproject_hooks\\_in_process\\_in_process.py\", line 335, in main\n",
      "      json_out['return_val'] = hook(**hook_input['kwargs'])\n",
      "                               ^^^^^^^^^^^^^^^^^^^^^^^^^^^^\n",
      "    File \"C:\\Users\\DAI.STUDENTSDC\\AppData\\Local\\anaconda3\\Lib\\site-packages\\pip\\_vendor\\pyproject_hooks\\_in_process\\_in_process.py\", line 118, in get_requires_for_build_wheel\n",
      "      return hook(config_settings)\n",
      "             ^^^^^^^^^^^^^^^^^^^^^\n",
      "    File \"C:\\Users\\DAI.STUDENTSDC\\AppData\\Local\\Temp\\pip-build-env-jvhzsmgr\\overlay\\Lib\\site-packages\\setuptools\\build_meta.py\", line 334, in get_requires_for_build_wheel\n",
      "      return self._get_build_requires(config_settings, requirements=[])\n",
      "             ^^^^^^^^^^^^^^^^^^^^^^^^^^^^^^^^^^^^^^^^^^^^^^^^^^^^^^^^^^\n",
      "    File \"C:\\Users\\DAI.STUDENTSDC\\AppData\\Local\\Temp\\pip-build-env-jvhzsmgr\\overlay\\Lib\\site-packages\\setuptools\\build_meta.py\", line 304, in _get_build_requires\n",
      "      self.run_setup()\n",
      "    File \"C:\\Users\\DAI.STUDENTSDC\\AppData\\Local\\Temp\\pip-build-env-jvhzsmgr\\overlay\\Lib\\site-packages\\setuptools\\build_meta.py\", line 320, in run_setup\n",
      "      exec(code, locals())\n",
      "    File \"<string>\", line 99, in <module>\n",
      "  RuntimeError:\n",
      "  Please install pkg-config on your system or set the ICU_VERSION environment\n",
      "  variable to the version of ICU you have installed.\n",
      "  \n",
      "  [end of output]\n",
      "  \n",
      "  note: This error originates from a subprocess, and is likely not a problem with pip.\n",
      "error: subprocess-exited-with-error\n",
      "\n",
      "Getting requirements to build wheel did not run successfully.\n",
      "exit code: 1\n",
      "\n",
      "See above for output.\n",
      "\n",
      "note: This error originates from a subprocess, and is likely not a problem with pip.\n"
     ]
    }
   ],
   "source": [
    "pip install PyICU pycld2"
   ]
  },
  {
   "cell_type": "code",
   "execution_count": 18,
   "id": "f01c1d9f-4c9a-4a4b-9559-2329df9ed5b1",
   "metadata": {},
   "outputs": [
    {
     "name": "stderr",
     "output_type": "stream",
     "text": [
      "WARNING: Requirement 'path_to_downloaded_wheel.whl' looks like a filename, but the file does not exist\n",
      "ERROR: path_to_downloaded_wheel.whl is not a valid wheel filename.\n"
     ]
    }
   ],
   "source": [
    "!pip install path_to_downloaded_wheel.whl\n",
    "\n"
   ]
  },
  {
   "cell_type": "code",
   "execution_count": 20,
   "id": "8eeedb2d-1ece-4a89-9669-de908d59101c",
   "metadata": {},
   "outputs": [
    {
     "name": "stderr",
     "output_type": "stream",
     "text": [
      "'choco' is not recognized as an internal or external command,\n",
      "operable program or batch file.\n"
     ]
    }
   ],
   "source": [
    "!choco install pkgconfiglite\n"
   ]
  },
  {
   "cell_type": "code",
   "execution_count": 11,
   "id": "62ce3651-ce03-47bd-a234-72725c0c7271",
   "metadata": {},
   "outputs": [
    {
     "name": "stdout",
     "output_type": "stream",
     "text": [
      "Requirement already satisfied: morfessor in c:\\users\\dai.studentsdc\\appdata\\local\\anaconda3\\lib\\site-packages (2.0.6)\n",
      "Requirement already satisfied: polyglot in c:\\users\\dai.studentsdc\\appdata\\local\\anaconda3\\lib\\site-packages (16.7.4)\n",
      "Collecting PyICU\n",
      "  Using cached PyICU-2.14.tar.gz (263 kB)\n",
      "  Installing build dependencies: started\n",
      "  Installing build dependencies: finished with status 'done'\n",
      "  Getting requirements to build wheel: started\n",
      "  Getting requirements to build wheel: finished with status 'error'\n"
     ]
    },
    {
     "name": "stderr",
     "output_type": "stream",
     "text": [
      "  error: subprocess-exited-with-error\n",
      "  \n",
      "  Getting requirements to build wheel did not run successfully.\n",
      "  exit code: 1\n",
      "  \n",
      "  [66 lines of output]\n",
      "  (running 'icu-config --version')\n",
      "  (running 'pkg-config --modversion icu-i18n')\n",
      "  Traceback (most recent call last):\n",
      "    File \"<string>\", line 89, in <module>\n",
      "    File \"<frozen os>\", line 685, in __getitem__\n",
      "  KeyError: 'ICU_VERSION'\n",
      "  \n",
      "  During handling of the above exception, another exception occurred:\n",
      "  \n",
      "  Traceback (most recent call last):\n",
      "    File \"<string>\", line 92, in <module>\n",
      "    File \"<string>\", line 19, in check_output\n",
      "    File \"C:\\Users\\DAI.STUDENTSDC\\AppData\\Local\\anaconda3\\Lib\\subprocess.py\", line 466, in check_output\n",
      "      return run(*popenargs, stdout=PIPE, timeout=timeout, check=True,\n",
      "             ^^^^^^^^^^^^^^^^^^^^^^^^^^^^^^^^^^^^^^^^^^^^^^^^^^^^^^^^^\n",
      "    File \"C:\\Users\\DAI.STUDENTSDC\\AppData\\Local\\anaconda3\\Lib\\subprocess.py\", line 548, in run\n",
      "      with Popen(*popenargs, **kwargs) as process:\n",
      "           ^^^^^^^^^^^^^^^^^^^^^^^^^^^\n",
      "    File \"C:\\Users\\DAI.STUDENTSDC\\AppData\\Local\\anaconda3\\Lib\\subprocess.py\", line 1026, in __init__\n",
      "      self._execute_child(args, executable, preexec_fn, close_fds,\n",
      "    File \"C:\\Users\\DAI.STUDENTSDC\\AppData\\Local\\anaconda3\\Lib\\subprocess.py\", line 1538, in _execute_child\n",
      "      hp, ht, pid, tid = _winapi.CreateProcess(executable, args,\n",
      "                         ^^^^^^^^^^^^^^^^^^^^^^^^^^^^^^^^^^^^^^^\n",
      "  FileNotFoundError: [WinError 2] The system cannot find the file specified\n",
      "  \n",
      "  During handling of the above exception, another exception occurred:\n",
      "  \n",
      "  Traceback (most recent call last):\n",
      "    File \"<string>\", line 96, in <module>\n",
      "    File \"<string>\", line 19, in check_output\n",
      "    File \"C:\\Users\\DAI.STUDENTSDC\\AppData\\Local\\anaconda3\\Lib\\subprocess.py\", line 466, in check_output\n",
      "      return run(*popenargs, stdout=PIPE, timeout=timeout, check=True,\n",
      "             ^^^^^^^^^^^^^^^^^^^^^^^^^^^^^^^^^^^^^^^^^^^^^^^^^^^^^^^^^\n",
      "    File \"C:\\Users\\DAI.STUDENTSDC\\AppData\\Local\\anaconda3\\Lib\\subprocess.py\", line 548, in run\n",
      "      with Popen(*popenargs, **kwargs) as process:\n",
      "           ^^^^^^^^^^^^^^^^^^^^^^^^^^^\n",
      "    File \"C:\\Users\\DAI.STUDENTSDC\\AppData\\Local\\anaconda3\\Lib\\subprocess.py\", line 1026, in __init__\n",
      "      self._execute_child(args, executable, preexec_fn, close_fds,\n",
      "    File \"C:\\Users\\DAI.STUDENTSDC\\AppData\\Local\\anaconda3\\Lib\\subprocess.py\", line 1538, in _execute_child\n",
      "      hp, ht, pid, tid = _winapi.CreateProcess(executable, args,\n",
      "                         ^^^^^^^^^^^^^^^^^^^^^^^^^^^^^^^^^^^^^^^\n",
      "  FileNotFoundError: [WinError 2] The system cannot find the file specified\n",
      "  \n",
      "  During handling of the above exception, another exception occurred:\n",
      "  \n",
      "  Traceback (most recent call last):\n",
      "    File \"C:\\Users\\DAI.STUDENTSDC\\AppData\\Local\\anaconda3\\Lib\\site-packages\\pip\\_vendor\\pyproject_hooks\\_in_process\\_in_process.py\", line 353, in <module>\n",
      "      main()\n",
      "    File \"C:\\Users\\DAI.STUDENTSDC\\AppData\\Local\\anaconda3\\Lib\\site-packages\\pip\\_vendor\\pyproject_hooks\\_in_process\\_in_process.py\", line 335, in main\n",
      "      json_out['return_val'] = hook(**hook_input['kwargs'])\n",
      "                               ^^^^^^^^^^^^^^^^^^^^^^^^^^^^\n",
      "    File \"C:\\Users\\DAI.STUDENTSDC\\AppData\\Local\\anaconda3\\Lib\\site-packages\\pip\\_vendor\\pyproject_hooks\\_in_process\\_in_process.py\", line 118, in get_requires_for_build_wheel\n",
      "      return hook(config_settings)\n",
      "             ^^^^^^^^^^^^^^^^^^^^^\n",
      "    File \"C:\\Users\\DAI.STUDENTSDC\\AppData\\Local\\Temp\\pip-build-env-7u0d67fl\\overlay\\Lib\\site-packages\\setuptools\\build_meta.py\", line 334, in get_requires_for_build_wheel\n",
      "      return self._get_build_requires(config_settings, requirements=[])\n",
      "             ^^^^^^^^^^^^^^^^^^^^^^^^^^^^^^^^^^^^^^^^^^^^^^^^^^^^^^^^^^\n",
      "    File \"C:\\Users\\DAI.STUDENTSDC\\AppData\\Local\\Temp\\pip-build-env-7u0d67fl\\overlay\\Lib\\site-packages\\setuptools\\build_meta.py\", line 304, in _get_build_requires\n",
      "      self.run_setup()\n",
      "    File \"C:\\Users\\DAI.STUDENTSDC\\AppData\\Local\\Temp\\pip-build-env-7u0d67fl\\overlay\\Lib\\site-packages\\setuptools\\build_meta.py\", line 320, in run_setup\n",
      "      exec(code, locals())\n",
      "    File \"<string>\", line 99, in <module>\n",
      "  RuntimeError:\n",
      "  Please install pkg-config on your system or set the ICU_VERSION environment\n",
      "  variable to the version of ICU you have installed.\n",
      "  \n",
      "  [end of output]\n",
      "  \n",
      "  note: This error originates from a subprocess, and is likely not a problem with pip.\n",
      "error: subprocess-exited-with-error\n",
      "\n",
      "Getting requirements to build wheel did not run successfully.\n",
      "exit code: 1\n",
      "\n",
      "See above for output.\n",
      "\n",
      "note: This error originates from a subprocess, and is likely not a problem with pip.\n"
     ]
    },
    {
     "ename": "ModuleNotFoundError",
     "evalue": "No module named 'icu'",
     "output_type": "error",
     "traceback": [
      "\u001b[1;31m---------------------------------------------------------------------------\u001b[0m",
      "\u001b[1;31mModuleNotFoundError\u001b[0m                       Traceback (most recent call last)",
      "Cell \u001b[1;32mIn[11], line 2\u001b[0m\n\u001b[0;32m      1\u001b[0m get_ipython()\u001b[38;5;241m.\u001b[39msystem(\u001b[38;5;124m'\u001b[39m\u001b[38;5;124mpip install morfessor polyglot PyICU pycld2\u001b[39m\u001b[38;5;124m'\u001b[39m)\n\u001b[1;32m----> 2\u001b[0m \u001b[38;5;28;01mfrom\u001b[39;00m \u001b[38;5;21;01mpolyglot\u001b[39;00m\u001b[38;5;21;01m.\u001b[39;00m\u001b[38;5;21;01mdownloader\u001b[39;00m \u001b[38;5;28;01mimport\u001b[39;00m downloader\n\u001b[0;32m      4\u001b[0m downloader\u001b[38;5;241m.\u001b[39mdownload(\u001b[38;5;124m\"\u001b[39m\u001b[38;5;124mmorph2.en\u001b[39m\u001b[38;5;124m\"\u001b[39m)\n",
      "File \u001b[1;32m~\\AppData\\Local\\anaconda3\\Lib\\site-packages\\polyglot\\downloader.py:91\u001b[0m\n\u001b[0;32m     87\u001b[0m \u001b[38;5;28;01mfrom\u001b[39;00m \u001b[38;5;21;01mjson\u001b[39;00m \u001b[38;5;28;01mimport\u001b[39;00m loads\n\u001b[0;32m     90\u001b[0m \u001b[38;5;28;01mfrom\u001b[39;00m \u001b[38;5;21;01mpolyglot\u001b[39;00m \u001b[38;5;28;01mimport\u001b[39;00m polyglot_path\n\u001b[1;32m---> 91\u001b[0m \u001b[38;5;28;01mfrom\u001b[39;00m \u001b[38;5;21;01mpolyglot\u001b[39;00m\u001b[38;5;21;01m.\u001b[39;00m\u001b[38;5;21;01mdetect\u001b[39;00m\u001b[38;5;21;01m.\u001b[39;00m\u001b[38;5;21;01mlangids\u001b[39;00m \u001b[38;5;28;01mimport\u001b[39;00m isoLangs\n\u001b[0;32m     92\u001b[0m \u001b[38;5;28;01mfrom\u001b[39;00m \u001b[38;5;21;01mpolyglot\u001b[39;00m\u001b[38;5;21;01m.\u001b[39;00m\u001b[38;5;21;01mutils\u001b[39;00m \u001b[38;5;28;01mimport\u001b[39;00m pretty_list\n\u001b[0;32m     93\u001b[0m \u001b[38;5;28;01mfrom\u001b[39;00m \u001b[38;5;21;01micu\u001b[39;00m \u001b[38;5;28;01mimport\u001b[39;00m Locale\n",
      "File \u001b[1;32m~\\AppData\\Local\\anaconda3\\Lib\\site-packages\\polyglot\\detect\\__init__.py:1\u001b[0m\n\u001b[1;32m----> 1\u001b[0m \u001b[38;5;28;01mfrom\u001b[39;00m \u001b[38;5;21;01m.\u001b[39;00m\u001b[38;5;21;01mbase\u001b[39;00m \u001b[38;5;28;01mimport\u001b[39;00m Detector, Language\n\u001b[0;32m      3\u001b[0m __all__ \u001b[38;5;241m=\u001b[39m [\u001b[38;5;124m'\u001b[39m\u001b[38;5;124mDetector\u001b[39m\u001b[38;5;124m'\u001b[39m, \u001b[38;5;124m'\u001b[39m\u001b[38;5;124mLanguage\u001b[39m\u001b[38;5;124m'\u001b[39m]\n",
      "File \u001b[1;32m~\\AppData\\Local\\anaconda3\\Lib\\site-packages\\polyglot\\detect\\base.py:11\u001b[0m\n\u001b[0;32m      5\u001b[0m \u001b[38;5;124;03m\"\"\"Detecting languages\"\"\"\u001b[39;00m\n\u001b[0;32m      8\u001b[0m \u001b[38;5;28;01mimport\u001b[39;00m \u001b[38;5;21;01mlogging\u001b[39;00m\n\u001b[1;32m---> 11\u001b[0m \u001b[38;5;28;01mfrom\u001b[39;00m \u001b[38;5;21;01micu\u001b[39;00m \u001b[38;5;28;01mimport\u001b[39;00m Locale\n\u001b[0;32m     12\u001b[0m \u001b[38;5;28;01mimport\u001b[39;00m \u001b[38;5;21;01mpycld2\u001b[39;00m \u001b[38;5;28;01mas\u001b[39;00m \u001b[38;5;21;01mcld2\u001b[39;00m\n\u001b[0;32m     14\u001b[0m logger \u001b[38;5;241m=\u001b[39m logging\u001b[38;5;241m.\u001b[39mgetLogger(\u001b[38;5;18m__name__\u001b[39m)\n",
      "\u001b[1;31mModuleNotFoundError\u001b[0m: No module named 'icu'"
     ]
    }
   ],
   "source": [
    "!pip install morfessor polyglot PyICU pycld2\n",
    "from polyglot.downloader import downloader\n",
    "\n",
    "downloader.download(\"morph2.en\")"
   ]
  },
  {
   "cell_type": "code",
   "execution_count": 5,
   "id": "5e1ab9da-306b-4444-91e3-d9d3e3ecaa33",
   "metadata": {
    "scrolled": true
   },
   "outputs": [
    {
     "ename": "ModuleNotFoundError",
     "evalue": "No module named 'icu'",
     "output_type": "error",
     "traceback": [
      "\u001b[1;31m---------------------------------------------------------------------------\u001b[0m",
      "\u001b[1;31mModuleNotFoundError\u001b[0m                       Traceback (most recent call last)",
      "Cell \u001b[1;32mIn[5], line 1\u001b[0m\n\u001b[1;32m----> 1\u001b[0m \u001b[38;5;28;01mfrom\u001b[39;00m \u001b[38;5;21;01mpolyglot\u001b[39;00m\u001b[38;5;21;01m.\u001b[39;00m\u001b[38;5;21;01mdownloader\u001b[39;00m \u001b[38;5;28;01mimport\u001b[39;00m downloader\n\u001b[0;32m      3\u001b[0m downloader\u001b[38;5;241m.\u001b[39mdownload(\u001b[38;5;124m\"\u001b[39m\u001b[38;5;124mmorph2.en\u001b[39m\u001b[38;5;124m\"\u001b[39m)\n\u001b[0;32m      4\u001b[0m downloader\u001b[38;5;241m.\u001b[39mdownload(\u001b[38;5;124m\"\u001b[39m\u001b[38;5;124mmorph2.mr\u001b[39m\u001b[38;5;124m\"\u001b[39m)\n",
      "File \u001b[1;32m~\\AppData\\Local\\anaconda3\\Lib\\site-packages\\polyglot\\downloader.py:91\u001b[0m\n\u001b[0;32m     87\u001b[0m \u001b[38;5;28;01mfrom\u001b[39;00m \u001b[38;5;21;01mjson\u001b[39;00m \u001b[38;5;28;01mimport\u001b[39;00m loads\n\u001b[0;32m     90\u001b[0m \u001b[38;5;28;01mfrom\u001b[39;00m \u001b[38;5;21;01mpolyglot\u001b[39;00m \u001b[38;5;28;01mimport\u001b[39;00m polyglot_path\n\u001b[1;32m---> 91\u001b[0m \u001b[38;5;28;01mfrom\u001b[39;00m \u001b[38;5;21;01mpolyglot\u001b[39;00m\u001b[38;5;21;01m.\u001b[39;00m\u001b[38;5;21;01mdetect\u001b[39;00m\u001b[38;5;21;01m.\u001b[39;00m\u001b[38;5;21;01mlangids\u001b[39;00m \u001b[38;5;28;01mimport\u001b[39;00m isoLangs\n\u001b[0;32m     92\u001b[0m \u001b[38;5;28;01mfrom\u001b[39;00m \u001b[38;5;21;01mpolyglot\u001b[39;00m\u001b[38;5;21;01m.\u001b[39;00m\u001b[38;5;21;01mutils\u001b[39;00m \u001b[38;5;28;01mimport\u001b[39;00m pretty_list\n\u001b[0;32m     93\u001b[0m \u001b[38;5;28;01mfrom\u001b[39;00m \u001b[38;5;21;01micu\u001b[39;00m \u001b[38;5;28;01mimport\u001b[39;00m Locale\n",
      "File \u001b[1;32m~\\AppData\\Local\\anaconda3\\Lib\\site-packages\\polyglot\\detect\\__init__.py:1\u001b[0m\n\u001b[1;32m----> 1\u001b[0m \u001b[38;5;28;01mfrom\u001b[39;00m \u001b[38;5;21;01m.\u001b[39;00m\u001b[38;5;21;01mbase\u001b[39;00m \u001b[38;5;28;01mimport\u001b[39;00m Detector, Language\n\u001b[0;32m      3\u001b[0m __all__ \u001b[38;5;241m=\u001b[39m [\u001b[38;5;124m'\u001b[39m\u001b[38;5;124mDetector\u001b[39m\u001b[38;5;124m'\u001b[39m, \u001b[38;5;124m'\u001b[39m\u001b[38;5;124mLanguage\u001b[39m\u001b[38;5;124m'\u001b[39m]\n",
      "File \u001b[1;32m~\\AppData\\Local\\anaconda3\\Lib\\site-packages\\polyglot\\detect\\base.py:11\u001b[0m\n\u001b[0;32m      5\u001b[0m \u001b[38;5;124;03m\"\"\"Detecting languages\"\"\"\u001b[39;00m\n\u001b[0;32m      8\u001b[0m \u001b[38;5;28;01mimport\u001b[39;00m \u001b[38;5;21;01mlogging\u001b[39;00m\n\u001b[1;32m---> 11\u001b[0m \u001b[38;5;28;01mfrom\u001b[39;00m \u001b[38;5;21;01micu\u001b[39;00m \u001b[38;5;28;01mimport\u001b[39;00m Locale\n\u001b[0;32m     12\u001b[0m \u001b[38;5;28;01mimport\u001b[39;00m \u001b[38;5;21;01mpycld2\u001b[39;00m \u001b[38;5;28;01mas\u001b[39;00m \u001b[38;5;21;01mcld2\u001b[39;00m\n\u001b[0;32m     14\u001b[0m logger \u001b[38;5;241m=\u001b[39m logging\u001b[38;5;241m.\u001b[39mgetLogger(\u001b[38;5;18m__name__\u001b[39m)\n",
      "\u001b[1;31mModuleNotFoundError\u001b[0m: No module named 'icu'"
     ]
    }
   ],
   "source": [
    "from polyglot.downloader import downloader\n",
    "\n",
    "downloader.download(\"morph2.en\")\n",
    "downloader.download(\"morph2.mr\")"
   ]
  },
  {
   "cell_type": "code",
   "execution_count": null,
   "id": "18e42221-a699-4dbf-ada6-d2f4527dba5a",
   "metadata": {},
   "outputs": [],
   "source": []
  },
  {
   "cell_type": "code",
   "execution_count": null,
   "id": "ffbe2cb7-da9d-4f1e-8277-830370e2c64c",
   "metadata": {
    "scrolled": true
   },
   "outputs": [],
   "source": [
    "from polyglot.text import Text, Word\n",
    "words = ['cats', 'computing', 'association', 'programming', 'leadership', 'miscommunication', 'identifiable'\n",
    ",'psychologically', 'engineering', 'tabular', 'realistic', 'colorfulness']\n",
    "for w in words:\n",
    "  w = Word(w, language=\"en\")\n",
    "  print(\"%s -> %s\" % (w, w.morphemes))"
   ]
  },
  {
   "cell_type": "code",
   "execution_count": null,
   "id": "aed3db8e-daae-410f-9cbc-0aecfd178632",
   "metadata": {},
   "outputs": [],
   "source": [
    "words = ['प्रमाणीकरण'  'जलविद्युत' 'राज्यशास्त्र' 'जलप्राधिकरण' 'मानसशास्त्रीय' 'रविवार' 'महाद्वीप' ]\n",
    "for w in words:\n",
    "  w = Word(w, language=\"mr\")\n",
    "  print(w , '\\t\\t',  w.morphemes)"
   ]
  },
  {
   "cell_type": "code",
   "execution_count": null,
   "id": "7d99824b-696c-47aa-800a-dfb58e2bf200",
   "metadata": {},
   "outputs": [],
   "source": []
  },
  {
   "cell_type": "code",
   "execution_count": null,
   "id": "18bb816a-e068-4bed-886e-6a333fb58bad",
   "metadata": {},
   "outputs": [],
   "source": []
  },
  {
   "cell_type": "code",
   "execution_count": null,
   "id": "1e0d88d0-d632-4a72-9f23-2dd9a80b5004",
   "metadata": {},
   "outputs": [],
   "source": []
  },
  {
   "cell_type": "code",
   "execution_count": null,
   "id": "db28a357-b0bc-4503-9af0-648dae542f19",
   "metadata": {},
   "outputs": [],
   "source": []
  },
  {
   "cell_type": "code",
   "execution_count": null,
   "id": "45e7157b-fe39-4c90-a2dd-66ab17f064bb",
   "metadata": {},
   "outputs": [],
   "source": []
  },
  {
   "cell_type": "code",
   "execution_count": null,
   "id": "5c97b414-a66b-4fb7-808d-11e568378735",
   "metadata": {},
   "outputs": [],
   "source": []
  },
  {
   "cell_type": "code",
   "execution_count": null,
   "id": "8879c0c3-c482-451c-aa77-19b3577e19d0",
   "metadata": {},
   "outputs": [],
   "source": []
  },
  {
   "cell_type": "code",
   "execution_count": null,
   "id": "224cfbcc-af8c-4b05-b196-007585ea46b1",
   "metadata": {},
   "outputs": [],
   "source": []
  }
 ],
 "metadata": {
  "kernelspec": {
   "display_name": "Python 3 (ipykernel)",
   "language": "python",
   "name": "python3"
  },
  "language_info": {
   "codemirror_mode": {
    "name": "ipython",
    "version": 3
   },
   "file_extension": ".py",
   "mimetype": "text/x-python",
   "name": "python",
   "nbconvert_exporter": "python",
   "pygments_lexer": "ipython3",
   "version": "3.12.3"
  }
 },
 "nbformat": 4,
 "nbformat_minor": 5
}
