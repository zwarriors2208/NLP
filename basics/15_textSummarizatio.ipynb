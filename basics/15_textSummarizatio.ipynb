{
 "cells": [
  {
   "cell_type": "markdown",
   "id": "460f1ec6-6695-476a-9cc1-8b606fc8d1b4",
   "metadata": {},
   "source": [
    "# Extractive Summarization"
   ]
  },
  {
   "cell_type": "code",
   "execution_count": 28,
   "id": "357da552-f851-4334-b970-ef49816bcc59",
   "metadata": {},
   "outputs": [
    {
     "name": "stdout",
     "output_type": "stream",
     "text": [
      "Requirement already satisfied: gensim in c:\\users\\dai.studentsdc\\appdata\\local\\anaconda3\\lib\\site-packages (4.3.2)\n",
      "Collecting sumy\n",
      "  Using cached sumy-0.11.0-py2.py3-none-any.whl.metadata (7.5 kB)\n",
      "Requirement already satisfied: numpy>=1.18.5 in c:\\users\\dai.studentsdc\\appdata\\local\\anaconda3\\lib\\site-packages (from gensim) (1.26.4)\n",
      "Requirement already satisfied: scipy>=1.7.0 in c:\\users\\dai.studentsdc\\appdata\\local\\anaconda3\\lib\\site-packages (from gensim) (1.11.4)\n",
      "Requirement already satisfied: smart-open>=1.8.1 in c:\\users\\dai.studentsdc\\appdata\\local\\anaconda3\\lib\\site-packages (from gensim) (5.2.1)\n",
      "Collecting docopt<0.7,>=0.6.1 (from sumy)\n",
      "  Using cached docopt-0.6.2-py2.py3-none-any.whl\n",
      "Collecting breadability>=0.1.20 (from sumy)\n",
      "  Using cached breadability-0.1.20-py2.py3-none-any.whl\n",
      "Requirement already satisfied: requests>=2.7.0 in c:\\users\\dai.studentsdc\\appdata\\local\\anaconda3\\lib\\site-packages (from sumy) (2.32.2)\n",
      "Collecting pycountry>=18.2.23 (from sumy)\n",
      "  Using cached pycountry-24.6.1-py3-none-any.whl.metadata (12 kB)\n",
      "Requirement already satisfied: nltk>=3.0.2 in c:\\users\\dai.studentsdc\\appdata\\local\\anaconda3\\lib\\site-packages (from sumy) (3.9.1)\n",
      "Requirement already satisfied: chardet in c:\\users\\dai.studentsdc\\appdata\\local\\anaconda3\\lib\\site-packages (from breadability>=0.1.20->sumy) (4.0.0)\n",
      "Requirement already satisfied: lxml>=2.0 in c:\\users\\dai.studentsdc\\appdata\\local\\anaconda3\\lib\\site-packages (from breadability>=0.1.20->sumy) (5.2.1)\n",
      "Requirement already satisfied: click in c:\\users\\dai.studentsdc\\appdata\\local\\anaconda3\\lib\\site-packages (from nltk>=3.0.2->sumy) (8.1.7)\n",
      "Requirement already satisfied: joblib in c:\\users\\dai.studentsdc\\appdata\\local\\anaconda3\\lib\\site-packages (from nltk>=3.0.2->sumy) (1.4.2)\n",
      "Requirement already satisfied: regex>=2021.8.3 in c:\\users\\dai.studentsdc\\appdata\\local\\anaconda3\\lib\\site-packages (from nltk>=3.0.2->sumy) (2023.10.3)\n",
      "Requirement already satisfied: tqdm in c:\\users\\dai.studentsdc\\appdata\\local\\anaconda3\\lib\\site-packages (from nltk>=3.0.2->sumy) (4.66.5)\n",
      "Requirement already satisfied: charset-normalizer<4,>=2 in c:\\users\\dai.studentsdc\\appdata\\local\\anaconda3\\lib\\site-packages (from requests>=2.7.0->sumy) (2.0.4)\n",
      "Requirement already satisfied: idna<4,>=2.5 in c:\\users\\dai.studentsdc\\appdata\\local\\anaconda3\\lib\\site-packages (from requests>=2.7.0->sumy) (3.7)\n",
      "Requirement already satisfied: urllib3<3,>=1.21.1 in c:\\users\\dai.studentsdc\\appdata\\local\\anaconda3\\lib\\site-packages (from requests>=2.7.0->sumy) (2.2.2)\n",
      "Requirement already satisfied: certifi>=2017.4.17 in c:\\users\\dai.studentsdc\\appdata\\local\\anaconda3\\lib\\site-packages (from requests>=2.7.0->sumy) (2024.8.30)\n",
      "Requirement already satisfied: colorama in c:\\users\\dai.studentsdc\\appdata\\local\\anaconda3\\lib\\site-packages (from click->nltk>=3.0.2->sumy) (0.4.6)\n",
      "Using cached sumy-0.11.0-py2.py3-none-any.whl (97 kB)\n",
      "Using cached pycountry-24.6.1-py3-none-any.whl (6.3 MB)\n",
      "Installing collected packages: docopt, pycountry, breadability, sumy\n",
      "Successfully installed breadability-0.1.20 docopt-0.6.2 pycountry-24.6.1 sumy-0.11.0\n"
     ]
    }
   ],
   "source": [
    "# installing the libraries\n",
    "!pip install gensim sumy"
   ]
  },
  {
   "cell_type": "code",
   "execution_count": 36,
   "id": "c6b8f35b-8fe0-4e9d-8b91-25a2a7cd6b74",
   "metadata": {},
   "outputs": [],
   "source": [
    "text = '''The tiger (Panthera tigris) is a large cat and a member of the genus Panthera native to Asia. It has a powerful, muscular body with a large head and paws, a long tail and orange fur with black, mostly vertical stripes. It is traditionally classified into nine recent subspecies, though some recognise only two subspecies, mainland Asian tigers and the island tigers of the Sunda Islands.\n",
    "\n",
    "Throughout the tiger's range, it inhabits mainly forests, from coniferous and temperate broadleaf and mixed forests in the Russian Far East and Northeast China to tropical and subtropical moist broadleaf forests on the Indian subcontinent and Southeast Asia. The tiger is an apex predator and preys mainly on ungulates, which it takes by ambush. It lives a mostly solitary life and occupies home ranges, defending these from individuals of the same sex. The range of a male tiger overlaps with that of multiple females with whom he mates. Females give birth to usually two or three cubs that stay with their mother for about two years. When becoming independent, they leave their mother's home range and establish their own.\n",
    "\n",
    "Since the early 20th century, tiger populations have lost at least 93% of their historic range and are locally extinct in West and Central Asia, in large areas of China and on the islands of Java and Bali. Today, the tiger's range is severely fragmented. It is listed as Endangered on the IUCN Red List of Threatened Species, as its range is thought to have declined by 53% to 68% since the late 1990s. Major threats to tigers are habitat destruction and fragmentation due to deforestation, poaching for fur and the illegal trade of body parts for medicinal purposes. Tigers are also victims of human–wildlife conflict as they attack and prey on livestock in areas where natural prey is scarce. The tiger is legally protected in all range countries. National conservation measures consist of action plans, anti-poaching patrols and schemes for monitoring tiger populations. In several range countries, wildlife corridors have been established and tiger reintroduction is planned.\n",
    "\n",
    "The tiger is among the most popular of the world's charismatic megafauna. It has been kept in captivity since ancient times and has been trained to perform in circuses and other entertainment shows. The tiger featured prominently in the ancient mythology and folklore of cultures throughout its historic range and has continued to appear in culture worldwide.'''"
   ]
  },
  {
   "cell_type": "code",
   "execution_count": 38,
   "id": "f72b7be1-bd62-4ef7-8c48-cf84fc7be28f",
   "metadata": {},
   "outputs": [
    {
     "name": "stdout",
     "output_type": "stream",
     "text": [
      "The tiger (Panthera tigris) is a large cat and a member of the genus Panthera native to Asia. It has a powerful, muscular body with a large head and paws, a long tail and orange fur with black, mostly vertical stripes. It is traditionally classified into nine recent subspecies, though some recognise only two subspecies, mainland Asian tigers and the island tigers of the Sunda Islands.\n",
      "\n",
      "Throughout the tiger's range, it inhabits mainly forests, from coniferous and temperate broadleaf and mixed forests in the Russian Far East and Northeast China to tropical and subtropical moist broadleaf forests on the Indian subcontinent and Southeast Asia. The tiger is an apex predator and preys mainly on ungulates, which it takes by ambush. It lives a mostly solitary life and occupies home ranges, defending these from individuals of the same sex. The range of a male tiger overlaps with that of multiple females with whom he mates. Females give birth to usually two or three cubs that stay with their mother for about two years. When becoming independent, they leave their mother's home range and establish their own.\n",
      "\n",
      "Since the early 20th century, tiger populations have lost at least 93% of their historic range and are locally extinct in West and Central Asia, in large areas of China and on the islands of Java and Bali. Today, the tiger's range is severely fragmented. It is listed as Endangered on the IUCN Red List of Threatened Species, as its range is thought to have declined by 53% to 68% since the late 1990s. Major threats to tigers are habitat destruction and fragmentation due to deforestation, poaching for fur and the illegal trade of body parts for medicinal purposes. Tigers are also victims of human–wildlife conflict as they attack and prey on livestock in areas where natural prey is scarce. The tiger is legally protected in all range countries. National conservation measures consist of action plans, anti-poaching patrols and schemes for monitoring tiger populations. In several range countries, wildlife corridors have been established and tiger reintroduction is planned.\n",
      "\n",
      "The tiger is among the most popular of the world's charismatic megafauna. It has been kept in captivity since ancient times and has been trained to perform in circuses and other entertainment shows. The tiger featured prominently in the ancient mythology and folklore of cultures throughout its historic range and has continued to appear in culture worldwide.\n"
     ]
    }
   ],
   "source": [
    "print(text)"
   ]
  },
  {
   "cell_type": "markdown",
   "id": "3f38bb8b-8027-428e-9425-ebca08118d3f",
   "metadata": {},
   "source": [
    "### TextRank Algorithm"
   ]
  },
  {
   "cell_type": "code",
   "execution_count": 41,
   "id": "f094b68d-e79f-4c89-8815-759e7e42f95b",
   "metadata": {},
   "outputs": [],
   "source": [
    "# import the textrank summarizer\n",
    "from sumy.summarizers.text_rank import TextRankSummarizer\n",
    "\n",
    "# import parser and tokenizer\n",
    "from sumy.parsers.plaintext import PlaintextParser\n",
    "from sumy.nlp.tokenizers import Tokenizer"
   ]
  },
  {
   "cell_type": "code",
   "execution_count": 43,
   "id": "f203a020-0189-4b4b-89dc-1d674c7f5e16",
   "metadata": {},
   "outputs": [],
   "source": [
    "from nltk.tokenize import sent_tokenize"
   ]
  },
  {
   "cell_type": "code",
   "execution_count": 45,
   "id": "50a18a24-3f8c-4d61-b830-02e7404d39a1",
   "metadata": {},
   "outputs": [
    {
     "data": {
      "text/plain": [
       "20"
      ]
     },
     "execution_count": 45,
     "metadata": {},
     "output_type": "execute_result"
    }
   ],
   "source": [
    "len(sent_tokenize(text))"
   ]
  },
  {
   "cell_type": "code",
   "execution_count": 48,
   "id": "912c85e9-0f18-48d1-961c-9e424dc152cb",
   "metadata": {},
   "outputs": [],
   "source": [
    "## initialize the parser\n",
    "my_parser = PlaintextParser.from_string(text, Tokenizer('english'))"
   ]
  },
  {
   "cell_type": "code",
   "execution_count": 72,
   "id": "3b74d6d6-c5c0-446b-905c-869aee1150bb",
   "metadata": {},
   "outputs": [],
   "source": [
    "# create the object of TextRank\n",
    "text_rank_summarizer = TextRankSummarizer()\n",
    "\n",
    "summary = text_rank_summarizer(my_parser.document, sentences_count = 3)"
   ]
  },
  {
   "cell_type": "code",
   "execution_count": 74,
   "id": "b39fe1ae-4c2c-43ab-9e2a-602bf0c043a2",
   "metadata": {},
   "outputs": [
    {
     "name": "stdout",
     "output_type": "stream",
     "text": [
      "Throughout the tiger's range, it inhabits mainly forests, from coniferous and temperate broadleaf and mixed forests in the Russian Far East and Northeast China to tropical and subtropical moist broadleaf forests on the Indian subcontinent and Southeast Asia. \n",
      "\n",
      "Since the early 20th century, tiger populations have lost at least 93% of their historic range and are locally extinct in West and Central Asia, in large areas of China and on the islands of Java and Bali. \n",
      "\n",
      "The tiger featured prominently in the ancient mythology and folklore of cultures throughout its historic range and has continued to appear in culture worldwide. \n",
      "\n"
     ]
    }
   ],
   "source": [
    "for sentence in summary:\n",
    "    print(sentence, '\\n')"
   ]
  },
  {
   "cell_type": "markdown",
   "id": "5956bf77-b526-44ca-a4c5-1a432d1b60f3",
   "metadata": {},
   "source": [
    "#### marathi"
   ]
  },
  {
   "cell_type": "code",
   "execution_count": 77,
   "id": "026c4a44-dde8-4f32-a215-43cc61800dd9",
   "metadata": {},
   "outputs": [],
   "source": [
    "hindi = ''' 'वाघ मार्जार कुळातील प्राणी असून भारताचा राष्ट्रीय प्राणी आहे[२]. मार्जार कुळातील सर्वात मोठा प्राणी म्हणून याची गणना होते व अन्न साखळीतील सर्वोच्च स्थान वाघ भूषवतो. वाघ या नावाची व्युत्पत्ती संस्कृत मधील 'व्याघ्र' या शब्दावरून आली आहे. इंग्रजीत वाघाला 'टायगर असे म्हणतात. मराठीत भल्या मोठ्या वाघाला 'ढाण्या' वाघ म्हणतात. वाघ हा शिकार करण्यात परिपक्व आहे.\n",
    "\n",
    "इ.स. २०१० पासून जगभरात २९ जुलै हा जागतिक व्याघ्र दिन म्हणून पाळला जातो. भारतात वाघ हा संरक्षित प्राणी असून त्याची शिकार करणे हा दंडनीय अपराध आहे.\n",
    "\n",
    "एके काळी पश्चिमेस पूर्व अँटोलिया [३]प्रदेश पासून अमूर नदी [४]पात्रात आणि दक्षिणेस हिमालयाच्या पायथ्यापासून सुली बेटांपर्यंतच्या बालीपर्यंत सर्वत्र वाघ पसरले. २० व्या शतकाच्या सुरुवातीस, वाघाची संख्या पूर्वीहून ९३% ने कमी झाली आहे तसेच पश्चिम आणि मध्य आशियात, जावा आणि बाली बेटांमधून आणि आग्नेय, दक्षिण आशिया आणि चीनच्या मोठ्या भागांतून लोप पावली आहे. सध्याची वाघ प्रजाती भारतीय उपखंड आणि सुमात्रावरील सायबेरियन समशीतोष्ण जंगलांपासून ते उप-उष्णकटिबंधीय व उष्णकटिबंधीय जंगलांपर्यंत पसरलेली आहे. १९८६ पासून वाघाला आययूसीएन रेड लिस्टमध्ये लुप्तप्राय प्रजाती म्हणून सूचीबद्ध केले आहे. २०१५ पर्यंत जगातील प्रौढ वाघांची संख्या ३०६२ ते ३९४८ असावी असा अंदाज आहे. भारतात सध्या सर्वात अधिक वाघांची संख्या आहे. वाघांची संख्या कमी होण्याच्या मुख्य कारणांमध्ये त्यांचे प्राकृतिक आवास स्थान नष्ट करणे, खंडित करणे आणि शिकार करणे समाविष्ट आहे. काही देशांमधील अधिक दाट लोकवस्ती चे अतिक्रमण या ठिकाणी कारणीभूत आहे.\n",
    "वाघाचे खरे माहेरघर हे भारत मानले जाते. आजही तेथे काही शेकड्यांनी वाघ शिल्लक आहेत. तिथून वाघ मांचूरिया चीन, आग्नेय अशियातून भारतात आला असे मानले जाते[ संदर्भ हवा ]. यातील बऱ्याच भागात पूर्वी वाघ मुबलक प्रमाणात आढळत होता परंतु शिकार व वसतिस्थानाचा नाश यांमुळे तेथून वाघ नामशेष झाला. जंगली वाघ हा आज प्रामुख्याने भारत, ब्रह्मदेश, थायलंड, चीन व रशिया या देशांत आढळतो तसेच प्राणिसंग्रहालयातील वाघ आज जगभर पोहोचले आहेत व ते वाघांच्या एकूण संख्येचा मोठा भाग आहेत. वाघ (पेंथेरा टायग्रिस) हा मांजर कुटुंब, फेलिडे याचा सर्वात मोठा जिवंत सदस्य आहे. हा शिकार करून खातो. हा आशिया, मुख्यतः भारत, भूतान, चीन, कोरिया आणि साइबेरियन रशियामध्ये राहतो. २०२० साली जंगली वाघांतील ७० टक्के वाघ भारतात आहेत. भारतामध्ये २०१४ मध्ये २२२६ वाघ होते. ४ वर्षांनी २०१८ मध्ये ही संख्या वाढून २९६७ वर पोचली.[५]\n",
    "\n",
    "वाघांची संख्या भारतात सर्वाधिक असली तरी भारतात देखील वाघ आज दुर्मिळ झाले असून त्यांची संख्या चिंताजनक आहे. भारतातील पंजाब, हरियाणा ही राज्ये सोडल्यास सर्व राज्यात वाघाचे थोडे थोडे अस्तित्त्व आहे.\n",
    "\n",
    "भारतातील वाघांच्या आढळाचे ५ उपविभाग आहेत --\n",
    "\n",
    "हिमालय व तराई विभाग - यात जम्मू आणि काश्मीर, हिमाचल प्रदेश, उत्तरांचल, उत्तरप्रदेश, बिहार, सिक्कीम, आसाम अरुणाचल प्रदेश व इशान्य भारतातील राज्ये येतात. यातील हिमालयाच्या तराई जंगलांमध्ये वाघांचे वसतीस्थान आहे.\n",
    "अरवली पर्वताच्या पूर्व भागातील शुष्क जंगलांमध्ये वाघांचे अस्तित्त्व आहे. यांत रणथंभोर सरिस्का सारखी राष्ट्रीय उद्याने येतात.\n",
    "सुंदरबन व ओडिशा .\n",
    "मध्य भारतातील पानगळी जंगलांमध्ये वाघांचे सर्वाधिक अस्तित्त्व आढळते. यात कान्हा, बांधवगड, मेळघाट(गुगमाळ्), ताडोबा यासारखी राष्ट्रीय उद्याने व अभयारण्ये येतात.\n",
    "सह्याद्री व मलबार किनारा यात प्रामुख्याने सह्याद्रीचा दक्षिण भाग येतो. बंदीपूर, मदुमलाई पेरियार इत्यादी. महाराष्ट्रातील सह्याद्रीत केवळ कोयना व चांदोली अभयारण्यात वाघांचे अस्तित्त्व आहे.[६]\n",
    "वाघाचे वसतिस्थान हे मुख्यत्वे दाट ते अतिशय घनदाट जंगलात असते. वाघाच्या शिकार करण्याच्या पद्धतीमुळे त्याने त्याचे वसतिस्थान निवडले असावे. राजस्थानातील शुष्क जंगले, तसेच सुंदरबनमधील खारफ़ुटीची जंगले, काझ़ीरंगातील गवताळ जंगल असे विविध प्रकारच्या जंगलात वाघाचे वास्तव्य आहे. तरीदेखील वाघ हा बिबट्यासारखा कोणत्याही प्रकारच्या जंगलात राहण्यास सरावला नाही. तसेच प्रत्येक वाघांचे शिकारीचे क्षेत्र हे बरेच मोठे असते (साधारणपणे १०० चौ.किमी). त्यामुळे वाघ साधारणपणे मोठी जंगले पसंत करतात. म्हणूनच पूर्वीच्या मध्यम आकाराच्या जंगलात वाघ दिसत व आज ती जंगले हे लहान झाल्यामुळे वाघांचे अस्तित्त्व संपृष्टात आले[ संदर्भ हवा ]. (उदा: महाराष्ट्रातील सह्याद्री व कोकणातील जंगले)\n",
    "\n",
    "नुकत्याच झालेल्या एका सर्वेक्षणानुसार,भारतात वाघांची संख्या वाढली असून ती आता २९६७ झाल्याचे सांगण्यात येते. तसेच, मध्य भारतातील, ताडोबा, पेंच, कान्हा व मेळघाट आदी जंगल परिसरात एकूण सुमारे ७१८ वाघ असल्याचे यात दृष्टीपथात आले.हे सर्वेक्षण 'वाईल्ड लाईफ कंझर्वेशन ट्रस्ट' तर्फे कॅमेरे लावून करण्यात आले.[ संदर्भ हवा ]'''"
   ]
  },
  {
   "cell_type": "code",
   "execution_count": 87,
   "id": "619253e8-5833-4e12-ada2-b45306313475",
   "metadata": {},
   "outputs": [
    {
     "name": "stderr",
     "output_type": "stream",
     "text": [
      "[nltk_data] Downloading package punkt_tab to\n",
      "[nltk_data]     C:\\Users\\DAI.STUDENTSDC\\AppData\\Roaming\\nltk_data...\n",
      "[nltk_data]   Package punkt_tab is already up-to-date!\n"
     ]
    },
    {
     "data": {
      "text/plain": [
       "True"
      ]
     },
     "execution_count": 87,
     "metadata": {},
     "output_type": "execute_result"
    }
   ],
   "source": [
    "import nltk\n",
    "nltk.download('punkt_tab')"
   ]
  },
  {
   "cell_type": "code",
   "execution_count": 93,
   "id": "ca062169-78a4-4da0-9647-4140f27dfc1f",
   "metadata": {},
   "outputs": [],
   "source": [
    "# import the textrank summarizer\n",
    "from sumy.summarizers.text_rank import TextRankSummarizer\n",
    "\n",
    "# import parser and tokenizer\n",
    "from sumy.parsers.plaintext import PlaintextParser\n",
    "from sumy.nlp.tokenizers import Tokenizer\n",
    "my_parser = PlaintextParser.from_string(hindi, Tokenizer('english'))\n",
    "text_rank_summarizer = TextRankSummarizer()\n",
    "summary = text_rank_summarizer(my_parser.document, sentences_count = 5)"
   ]
  },
  {
   "cell_type": "code",
   "execution_count": 99,
   "id": "9a151100-2d40-4ccb-ac57-ed53dcdfaf0a",
   "metadata": {},
   "outputs": [
    {
     "name": "stdout",
     "output_type": "stream",
     "text": [
      "यातील बऱ्याच भागात पूर्वी वाघ मुबलक प्रमाणात आढळत होता परंतु शिकार व वसतिस्थानाचा नाश यांमुळे तेथून वाघ नामशेष झाला.\n",
      "\n",
      "जंगली वाघ हा आज प्रामुख्याने भारत, ब्रह्मदेश, थायलंड, चीन व रशिया या देशांत आढळतो तसेच प्राणिसंग्रहालयातील वाघ आज जगभर पोहोचले आहेत व ते वाघांच्या एकूण संख्येचा मोठा भाग आहेत.\n",
      "\n",
      "४ वर्षांनी २०१८ मध्ये ही संख्या वाढून २९६७ वर पोचली.\n",
      "\n",
      "हिमालय व तराई विभाग - यात जम्मू आणि काश्मीर, हिमाचल प्रदेश, उत्तरांचल, उत्तरप्रदेश, बिहार, सिक्कीम, आसाम अरुणाचल प्रदेश व इशान्य भारतातील राज्ये येतात.\n",
      "\n",
      "म्हणूनच पूर्वीच्या मध्यम आकाराच्या जंगलात वाघ दिसत व आज ती जंगले हे लहान झाल्यामुळे वाघांचे अस्तित्त्व संपृष्टात आले[ संदर्भ हवा ].\n",
      "\n"
     ]
    }
   ],
   "source": [
    "for sentence in summary:\n",
    "    print(sentence)\n",
    "    print()"
   ]
  },
  {
   "cell_type": "markdown",
   "id": "26567706-cf8e-47ae-9c3f-ebd59eabb624",
   "metadata": {},
   "source": [
    "## Lex Rank Algorithm"
   ]
  },
  {
   "cell_type": "code",
   "execution_count": 105,
   "id": "c82070f8-9b72-4403-b65a-3bf2ed5c2a8d",
   "metadata": {},
   "outputs": [],
   "source": [
    "# import the lexrank summarizer \n",
    "from sumy.summarizers.lex_rank import LexRankSummarizer"
   ]
  },
  {
   "cell_type": "code",
   "execution_count": 107,
   "id": "d919953f-67a4-4a51-a42f-abb1790ec9b9",
   "metadata": {},
   "outputs": [],
   "source": [
    "# initialize the parser\n",
    "my_parser = PlaintextParser.from_string(text, Tokenizer('english'))\n",
    "\n",
    "# create the object of LexRank\n",
    "lex_rank_summarizer = LexRankSummarizer()\n",
    "\n",
    "summary = lex_rank_summarizer(my_parser.document, sentences_count = 3)"
   ]
  },
  {
   "cell_type": "code",
   "execution_count": 109,
   "id": "a99f0380-a588-4433-8420-4406c5749dd1",
   "metadata": {},
   "outputs": [
    {
     "name": "stdout",
     "output_type": "stream",
     "text": [
      "It has a powerful, muscular body with a large head and paws, a long tail and orange fur with black, mostly vertical stripes. \n",
      "\n",
      "Females give birth to usually two or three cubs that stay with their mother for about two years. \n",
      "\n",
      "It is listed as Endangered on the IUCN Red List of Threatened Species, as its range is thought to have declined by 53% to 68% since the late 1990s. \n",
      "\n"
     ]
    }
   ],
   "source": [
    "for sentence in summary:\n",
    "    print(sentence, '\\n')"
   ]
  },
  {
   "cell_type": "markdown",
   "id": "b7d3bd46-ae00-4845-a9a8-a6a0a5e01f5b",
   "metadata": {},
   "source": [
    "## LSA algorithm "
   ]
  },
  {
   "cell_type": "code",
   "execution_count": 119,
   "id": "aca74742-17b4-4906-8823-b72c310792ce",
   "metadata": {},
   "outputs": [],
   "source": [
    "# import the lsa summarizer\n",
    "from sumy.summarizers.lsa import LsaSummarizer"
   ]
  },
  {
   "cell_type": "code",
   "execution_count": 121,
   "id": "da4b12db-f09e-4e4d-92bd-d9bbe02a74c5",
   "metadata": {},
   "outputs": [],
   "source": [
    "# initialize the parser\n",
    "my_parser = PlaintextParser.from_string(text, Tokenizer('english'))\n",
    "\n",
    "\n",
    "# create the object of LSA\n",
    "lsa_summarizer = LsaSummarizer()\n",
    "\n",
    "summary = lsa_summarizer(my_parser.document, sentences_count = 5)"
   ]
  },
  {
   "cell_type": "code",
   "execution_count": 123,
   "id": "c2a323ae-5028-4201-9516-07a8cd8ef072",
   "metadata": {
    "scrolled": true
   },
   "outputs": [
    {
     "name": "stdout",
     "output_type": "stream",
     "text": [
      "The tiger is an apex predator and preys mainly on ungulates, which it takes by ambush. \n",
      "\n",
      "It lives a mostly solitary life and occupies home ranges, defending these from individuals of the same sex. \n",
      "\n",
      "It is listed as Endangered on the IUCN Red List of Threatened Species, as its range is thought to have declined by 53% to 68% since the late 1990s. \n",
      "\n",
      "National conservation measures consist of action plans, anti-poaching patrols and schemes for monitoring tiger populations. \n",
      "\n",
      "In several range countries, wildlife corridors have been established and tiger reintroduction is planned. \n",
      "\n"
     ]
    }
   ],
   "source": [
    "for sentence in summary:\n",
    "    print(sentence, '\\n')"
   ]
  },
  {
   "cell_type": "markdown",
   "id": "c311640b-cc81-4052-a7cc-4b35403fafc0",
   "metadata": {},
   "source": [
    "# Abstractive Summarization"
   ]
  },
  {
   "cell_type": "code",
   "execution_count": 128,
   "id": "5153e1d1-fc86-4be6-9f83-f4696fd57e87",
   "metadata": {},
   "outputs": [
    {
     "name": "stdout",
     "output_type": "stream",
     "text": [
      "Collecting transformers\n",
      "  Downloading transformers-4.47.0-py3-none-any.whl.metadata (43 kB)\n",
      "     ---------------------------------------- 0.0/43.5 kB ? eta -:--:--\n",
      "     ---------------------------------------- 43.5/43.5 kB 2.1 MB/s eta 0:00:00\n",
      "Requirement already satisfied: filelock in c:\\users\\dai.studentsdc\\appdata\\local\\anaconda3\\lib\\site-packages (from transformers) (3.13.1)\n",
      "Requirement already satisfied: huggingface-hub<1.0,>=0.24.0 in c:\\users\\dai.studentsdc\\appdata\\local\\anaconda3\\lib\\site-packages (from transformers) (0.26.2)\n",
      "Requirement already satisfied: numpy>=1.17 in c:\\users\\dai.studentsdc\\appdata\\local\\anaconda3\\lib\\site-packages (from transformers) (1.26.4)\n",
      "Requirement already satisfied: packaging>=20.0 in c:\\users\\dai.studentsdc\\appdata\\local\\anaconda3\\lib\\site-packages (from transformers) (23.2)\n",
      "Requirement already satisfied: pyyaml>=5.1 in c:\\users\\dai.studentsdc\\appdata\\local\\anaconda3\\lib\\site-packages (from transformers) (6.0.1)\n",
      "Requirement already satisfied: regex!=2019.12.17 in c:\\users\\dai.studentsdc\\appdata\\local\\anaconda3\\lib\\site-packages (from transformers) (2023.10.3)\n",
      "Requirement already satisfied: requests in c:\\users\\dai.studentsdc\\appdata\\local\\anaconda3\\lib\\site-packages (from transformers) (2.32.2)\n",
      "Collecting tokenizers<0.22,>=0.21 (from transformers)\n",
      "  Downloading tokenizers-0.21.0-cp39-abi3-win_amd64.whl.metadata (6.9 kB)\n",
      "Collecting safetensors>=0.4.1 (from transformers)\n",
      "  Downloading safetensors-0.4.5-cp312-none-win_amd64.whl.metadata (3.9 kB)\n",
      "Requirement already satisfied: tqdm>=4.27 in c:\\users\\dai.studentsdc\\appdata\\local\\anaconda3\\lib\\site-packages (from transformers) (4.66.5)\n",
      "Requirement already satisfied: fsspec>=2023.5.0 in c:\\users\\dai.studentsdc\\appdata\\local\\anaconda3\\lib\\site-packages (from huggingface-hub<1.0,>=0.24.0->transformers) (2024.3.1)\n",
      "Requirement already satisfied: typing-extensions>=3.7.4.3 in c:\\users\\dai.studentsdc\\appdata\\local\\anaconda3\\lib\\site-packages (from huggingface-hub<1.0,>=0.24.0->transformers) (4.11.0)\n",
      "Requirement already satisfied: colorama in c:\\users\\dai.studentsdc\\appdata\\local\\anaconda3\\lib\\site-packages (from tqdm>=4.27->transformers) (0.4.6)\n",
      "Requirement already satisfied: charset-normalizer<4,>=2 in c:\\users\\dai.studentsdc\\appdata\\local\\anaconda3\\lib\\site-packages (from requests->transformers) (2.0.4)\n",
      "Requirement already satisfied: idna<4,>=2.5 in c:\\users\\dai.studentsdc\\appdata\\local\\anaconda3\\lib\\site-packages (from requests->transformers) (3.7)\n",
      "Requirement already satisfied: urllib3<3,>=1.21.1 in c:\\users\\dai.studentsdc\\appdata\\local\\anaconda3\\lib\\site-packages (from requests->transformers) (2.2.2)\n",
      "Requirement already satisfied: certifi>=2017.4.17 in c:\\users\\dai.studentsdc\\appdata\\local\\anaconda3\\lib\\site-packages (from requests->transformers) (2024.8.30)\n",
      "Downloading transformers-4.47.0-py3-none-any.whl (10.1 MB)\n",
      "   ---------------------------------------- 0.0/10.1 MB ? eta -:--:--\n",
      "   ----- ---------------------------------- 1.4/10.1 MB 44.6 MB/s eta 0:00:01\n",
      "   ------------------------ --------------- 6.1/10.1 MB 78.4 MB/s eta 0:00:01\n",
      "   ------------------------------------ --- 9.1/10.1 MB 73.0 MB/s eta 0:00:01\n",
      "   ---------------------------------------  10.1/10.1 MB 71.8 MB/s eta 0:00:01\n",
      "   ---------------------------------------- 10.1/10.1 MB 53.8 MB/s eta 0:00:00\n",
      "Downloading safetensors-0.4.5-cp312-none-win_amd64.whl (286 kB)\n",
      "   ---------------------------------------- 0.0/286.3 kB ? eta -:--:--\n",
      "   --------------------------------------- 286.3/286.3 kB 17.3 MB/s eta 0:00:00\n",
      "Downloading tokenizers-0.21.0-cp39-abi3-win_amd64.whl (2.4 MB)\n",
      "   ---------------------------------------- 0.0/2.4 MB ? eta -:--:--\n",
      "   ---------------------------------------- 2.4/2.4 MB 76.7 MB/s eta 0:00:00\n",
      "Installing collected packages: safetensors, tokenizers, transformers\n",
      "Successfully installed safetensors-0.4.5 tokenizers-0.21.0 transformers-4.47.0\n"
     ]
    }
   ],
   "source": [
    "!pip install transformers"
   ]
  },
  {
   "cell_type": "code",
   "execution_count": 153,
   "id": "32c65cce-6c06-42f0-9cfb-33212fd6ed02",
   "metadata": {},
   "outputs": [],
   "source": [
    "from transformers import pipeline"
   ]
  },
  {
   "cell_type": "code",
   "execution_count": 155,
   "id": "bbe7774a-a40e-4d2d-a65f-75c01b4a614e",
   "metadata": {
    "scrolled": true
   },
   "outputs": [],
   "source": [
    "# !pip install tf_keras"
   ]
  },
  {
   "cell_type": "code",
   "execution_count": 157,
   "id": "824b5048-54dd-472e-9afe-b93b36a0d017",
   "metadata": {
    "scrolled": true
   },
   "outputs": [
    {
     "name": "stderr",
     "output_type": "stream",
     "text": [
      "Device set to use cpu\n"
     ]
    }
   ],
   "source": [
    "summarizer = pipeline('summarization', model = 't5-base') #, model = 't5-base'"
   ]
  },
  {
   "cell_type": "code",
   "execution_count": null,
   "id": "bdfdbce9-1834-4499-b3ba-4f8e73ea2656",
   "metadata": {},
   "outputs": [],
   "source": [
    "text='''The tiger (Panthera tigris) is a large cat and a member of the genus Panthera native to Asia. It has a powerful, muscular body with a large head and paws, a long tail and orange fur with black, mostly vertical stripes. It is traditionally classified into nine recent subspecies, though some recognise only two subspecies, mainland Asian tigers and the island tigers of the Sunda Islands.\n",
    "\n",
    "Throughout the tiger's range, it inhabits mainly forests, from coniferous and temperate broadleaf and mixed forests in the Russian Far East and Northeast China to tropical and subtropical moist broadleaf forests on the Indian subcontinent and Southeast Asia. The tiger is an apex predator and preys mainly on ungulates, which it takes by ambush. It lives a mostly solitary life and occupies home ranges, defending these from individuals of the same sex. The range of a male tiger overlaps with that of multiple females with whom he mates. Females give birth to usually two or three cubs that stay with their mother for about two years. When becoming independent, they leave their mother's home range and establish their own.\n",
    "\n",
    "Since the early 20th century, tiger populations have lost at least 93% of their historic range and are locally extinct in West and Central Asia, in large areas of China and on the islands of Java and Bali. Today, the tiger's range is severely fragmented. It is listed as Endangered on the IUCN Red List of Threatened Species, as its range is thought to have declined by 53% to 68% since the late 1990s. Major threats to tigers are habitat destruction and fragmentation due to deforestation, poaching for fur and the illegal trade of body parts for medicinal purposes. Tigers are also victims of human–wildlife conflict as they attack and prey on livestock in areas where natural prey is scarce. The tiger is legally protected in all range countries. National conservation measures consist of action plans, anti-poaching patrols and schemes for monitoring tiger populations. In several range countries, wildlife corridors have been established and tiger reintroduction is planned.\n",
    "\n",
    "The tiger is among the most popular of the world's charismatic megafauna. It has been kept in captivity since ancient times and has been trained to perform in circuses and other entertainment shows. The tiger featured prominently in the ancient mythology and folklore of cultures throughout its historic range and has continued to appear in culture worldwide.'''"
   ]
  },
  {
   "cell_type": "code",
   "execution_count": 163,
   "id": "9cb98ae7-f331-46f1-a3bf-b6cefc72f33d",
   "metadata": {},
   "outputs": [],
   "source": [
    "summary = summarizer(text, max_length = 200, min_length =20)"
   ]
  },
  {
   "cell_type": "code",
   "execution_count": 165,
   "id": "c3af79cb-a84b-48ba-923f-4fffa7ab76bc",
   "metadata": {},
   "outputs": [
    {
     "data": {
      "text/plain": [
       "[{'summary_text': 'the tiger (Panthera tigris) is a large cat and a member of the genus Panthera native to Asia . it is traditionally classified into nine recent subspecies, though some recognise only two sub-species . since the early 20th century, tigers have lost at least 93% of their historic range and are locally extinct .'}]"
      ]
     },
     "execution_count": 165,
     "metadata": {},
     "output_type": "execute_result"
    }
   ],
   "source": [
    "summary"
   ]
  },
  {
   "cell_type": "code",
   "execution_count": 167,
   "id": "aeb6a27e-225c-403c-9dbd-90de3dea6b95",
   "metadata": {},
   "outputs": [
    {
     "data": {
      "text/plain": [
       "'the tiger (Panthera tigris) is a large cat and a member of the genus Panthera native to Asia . it is traditionally classified into nine recent subspecies, though some recognise only two sub-species . since the early 20th century, tigers have lost at least 93% of their historic range and are locally extinct .'"
      ]
     },
     "execution_count": 167,
     "metadata": {},
     "output_type": "execute_result"
    }
   ],
   "source": [
    "summary[0]['summary_text']"
   ]
  },
  {
   "cell_type": "code",
   "execution_count": 173,
   "id": "f0ddb0d5-9c9e-42f8-a28d-1ce4d09e2481",
   "metadata": {},
   "outputs": [
    {
     "name": "stderr",
     "output_type": "stream",
     "text": [
      "No model was supplied, defaulted to sshleifer/distilbart-cnn-12-6 and revision a4f8f3e (https://huggingface.co/sshleifer/distilbart-cnn-12-6).\n",
      "Using a pipeline without specifying a model name and revision in production is not recommended.\n",
      "Device set to use cpu\n"
     ]
    }
   ],
   "source": [
    "summarizer= pipeline('summarization') # distilbart is the default module"
   ]
  },
  {
   "cell_type": "code",
   "execution_count": 175,
   "id": "62593f8e-645d-455b-9cf7-0d7fa93283d0",
   "metadata": {},
   "outputs": [],
   "source": [
    "summary = summarizer(text, max_length = 200, min_length =20)"
   ]
  },
  {
   "cell_type": "code",
   "execution_count": 177,
   "id": "69266d37-b021-47c8-8ee2-e30a1fbc2037",
   "metadata": {},
   "outputs": [
    {
     "data": {
      "text/plain": [
       "' The tiger (Panthera tigris) is a large cat and a member of the genus Panthera native to Asia . It has a powerful, muscular body with a large head and paws, a long tail and orange fur with black, mostly vertical stripes . It is listed as Endangered on the IUCN Red List of Threatened Species .'"
      ]
     },
     "execution_count": 177,
     "metadata": {},
     "output_type": "execute_result"
    }
   ],
   "source": [
    "summary[0]['summary_text']"
   ]
  },
  {
   "cell_type": "code",
   "execution_count": null,
   "id": "3d942620-bb0f-43cd-a4b6-731e0c77ccbf",
   "metadata": {},
   "outputs": [],
   "source": [
    "summarizer = pipeline('summarization', model = 't5-base') #, model = 't5-base"
   ]
  }
 ],
 "metadata": {
  "kernelspec": {
   "display_name": "Python 3 (ipykernel)",
   "language": "python",
   "name": "python3"
  },
  "language_info": {
   "codemirror_mode": {
    "name": "ipython",
    "version": 3
   },
   "file_extension": ".py",
   "mimetype": "text/x-python",
   "name": "python",
   "nbconvert_exporter": "python",
   "pygments_lexer": "ipython3",
   "version": "3.12.3"
  }
 },
 "nbformat": 4,
 "nbformat_minor": 5
}
