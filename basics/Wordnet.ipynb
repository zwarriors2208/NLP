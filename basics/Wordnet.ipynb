{
 "cells": [
  {
   "cell_type": "code",
   "execution_count": 1,
   "id": "fe448568-77ac-4ae9-941d-cc6093af7e75",
   "metadata": {},
   "outputs": [
    {
     "name": "stderr",
     "output_type": "stream",
     "text": [
      "[nltk_data] Downloading package wordnet to\n",
      "[nltk_data]     C:\\Users\\DAI.STUDENTSDC\\AppData\\Roaming\\nltk_data...\n",
      "[nltk_data]   Package wordnet is already up-to-date!\n"
     ]
    },
    {
     "data": {
      "text/plain": [
       "True"
      ]
     },
     "execution_count": 1,
     "metadata": {},
     "output_type": "execute_result"
    }
   ],
   "source": [
    "import nltk\n",
    "nltk.download('wordnet')"
   ]
  },
  {
   "cell_type": "markdown",
   "id": "d589128d-3e95-443a-85b5-6c9830031828",
   "metadata": {},
   "source": [
    "# using synsets ( set of synonyms)"
   ]
  },
  {
   "cell_type": "code",
   "execution_count": 7,
   "id": "8dc2eae0-8459-4243-9971-13933697eb2a",
   "metadata": {},
   "outputs": [
    {
     "data": {
      "text/plain": [
       "[Synset('make.v.03'),\n",
       " Synset('create.v.02'),\n",
       " Synset('create.v.03'),\n",
       " Synset('create.v.04'),\n",
       " Synset('create.v.05'),\n",
       " Synset('produce.v.02')]"
      ]
     },
     "execution_count": 7,
     "metadata": {},
     "output_type": "execute_result"
    }
   ],
   "source": [
    "from nltk.corpus import wordnet\n",
    "x = wordnet.synsets('create')\n",
    "x # means make 3rd version and produce 2nd version matches with create"
   ]
  },
  {
   "cell_type": "code",
   "execution_count": 9,
   "id": "86893cdf-034c-4963-a15f-0b51dbe8802c",
   "metadata": {},
   "outputs": [],
   "source": [
    "synonyms = set()\n",
    "\n",
    "for word in wordnet.synsets('create'):\n",
    "    synonyms.add(word.lemmas()[0].name())"
   ]
  },
  {
   "cell_type": "code",
   "execution_count": 11,
   "id": "cabcba2a-10f1-4a9f-8f47-5cd2dc038a14",
   "metadata": {},
   "outputs": [
    {
     "data": {
      "text/plain": [
       "{'create', 'make', 'produce'}"
      ]
     },
     "execution_count": 11,
     "metadata": {},
     "output_type": "execute_result"
    }
   ],
   "source": [
    "synonyms"
   ]
  },
  {
   "cell_type": "code",
   "execution_count": 17,
   "id": "0d0da42a-2df0-49df-8c10-ed7be90253b4",
   "metadata": {},
   "outputs": [
    {
     "data": {
      "text/plain": [
       "'make'"
      ]
     },
     "execution_count": 17,
     "metadata": {},
     "output_type": "execute_result"
    }
   ],
   "source": [
    "wordnet.synsets('create')[0].lemmas()[0].name()"
   ]
  },
  {
   "cell_type": "code",
   "execution_count": 19,
   "id": "ef91d67d-88e0-4ff7-bf28-8c49f961180f",
   "metadata": {},
   "outputs": [
    {
     "data": {
      "text/plain": [
       "[Lemma('make.v.03.make'), Lemma('make.v.03.create')]"
      ]
     },
     "execution_count": 19,
     "metadata": {},
     "output_type": "execute_result"
    }
   ],
   "source": [
    "wordnet.synsets('create')[0].lemmas() # make is a verb with its 3rd version matching with create"
   ]
  },
  {
   "cell_type": "code",
   "execution_count": 21,
   "id": "e5de9a23-57a7-4d40-96d3-fc3cda2b165b",
   "metadata": {},
   "outputs": [
    {
     "data": {
      "text/plain": [
       "[Lemma('post.n.01.post'), Lemma('post.n.01.station')]"
      ]
     },
     "execution_count": 21,
     "metadata": {},
     "output_type": "execute_result"
    }
   ],
   "source": [
    "wordnet.synsets('post')[0].lemmas() # post is a noun with it 1st version matching with station"
   ]
  },
  {
   "cell_type": "code",
   "execution_count": 23,
   "id": "6c844e97-2969-439f-a246-67f35fb30af6",
   "metadata": {},
   "outputs": [],
   "source": [
    "synonyms = set()\n",
    "\n",
    "for word in wordnet.synsets('post'):\n",
    "    synonyms.add(word.lemmas()[0].name())"
   ]
  },
  {
   "cell_type": "code",
   "execution_count": 25,
   "id": "0cc895e1-3b27-448d-87b2-8561d08321a0",
   "metadata": {},
   "outputs": [
    {
     "data": {
      "text/plain": [
       "{'Post', 'mail', 'military_post', 'position', 'post', 'stake', 'station'}"
      ]
     },
     "execution_count": 25,
     "metadata": {},
     "output_type": "execute_result"
    }
   ],
   "source": [
    "synonyms"
   ]
  },
  {
   "cell_type": "code",
   "execution_count": 27,
   "id": "a68e117c-0d11-4c67-a955-46dcaa256af4",
   "metadata": {},
   "outputs": [],
   "source": [
    "#### extract definition and meaning from wordnet\n",
    "\n"
   ]
  },
  {
   "cell_type": "code",
   "execution_count": 33,
   "id": "c70f57dd-28f9-45eb-8663-2ec16aeb777f",
   "metadata": {},
   "outputs": [
    {
     "name": "stdout",
     "output_type": "stream",
     "text": [
      "Word and Type : post.n.01\n",
      "Synonym : post\n",
      "The meaning of the word : the position where someone (as a guard or sentry) stands or is assigned to stand\n",
      "Example :['a soldier manned the entrance post', 'a sentry station']\n"
     ]
    }
   ],
   "source": [
    "synset = wordnet.synsets('post')\n",
    "print('Word and Type : ' + synset[0].name())\n",
    "print('Synonym : ' + synset[0].lemmas()[0].name())\n",
    "print('The meaning of the word : ' + synset[0].definition())\n",
    "print('Example :' + str(synset[0].examples()))"
   ]
  },
  {
   "cell_type": "code",
   "execution_count": 39,
   "id": "7fcb349d-04be-4340-b31d-e070b913ca0c",
   "metadata": {},
   "outputs": [
    {
     "name": "stdout",
     "output_type": "stream",
     "text": [
      "Word and Type : position.n.06\n",
      "Synonym : position\n",
      "The meaning of the word : a job in an organization\n",
      "Example :['he occupied a post in the treasury']\n"
     ]
    }
   ],
   "source": [
    "synset = wordnet.synsets('post')\n",
    "print('Word and Type : ' + synset[2].name())\n",
    "print('Synonym : ' + synset[2].lemmas()[0].name())\n",
    "print('The meaning of the word : ' + synset[2].definition())\n",
    "print('Example :' + str(synset[2].examples()))"
   ]
  },
  {
   "cell_type": "code",
   "execution_count": 41,
   "id": "b7341e75-58db-4065-9c2a-d91d0228c243",
   "metadata": {},
   "outputs": [
    {
     "name": "stdout",
     "output_type": "stream",
     "text": [
      "Word and Type : post.n.09\n",
      "Synonym : post\n",
      "The meaning of the word : a pole or stake set up to mark something (as the start or end of a race track)\n",
      "Example :['a pair of posts marked the goal', 'the corner of the lot was indicated by a stake']\n"
     ]
    }
   ],
   "source": [
    "synset = wordnet.synsets('post')\n",
    "print('Word and Type : ' + synset[8].name())\n",
    "print('Synonym : ' + synset[8].lemmas()[0].name())\n",
    "print('The meaning of the word : ' + synset[8].definition())\n",
    "print('Example :' + str(synset[8].examples()))"
   ]
  },
  {
   "cell_type": "code",
   "execution_count": 43,
   "id": "1f84065f-7894-40e9-b161-3e97f8984df6",
   "metadata": {},
   "outputs": [
    {
     "name": "stdout",
     "output_type": "stream",
     "text": [
      "Word and Type : post.v.05\n",
      "Synonym : post\n",
      "The meaning of the word : display, as of records in sports games\n",
      "Example :[]\n"
     ]
    }
   ],
   "source": [
    "synset = wordnet.synsets('post')\n",
    "print('Word and Type : ' + synset[15].name())\n",
    "print('Synonym : ' + synset[15].lemmas()[0].name())\n",
    "print('The meaning of the word : ' + synset[15].definition())\n",
    "print('Example :' + str(synset[15].examples()))"
   ]
  },
  {
   "cell_type": "code",
   "execution_count": 45,
   "id": "0d3c6353-d297-4d6c-9300-36f4a6785f8d",
   "metadata": {},
   "outputs": [
    {
     "data": {
      "text/plain": [
       "[Synset('post.n.01'),\n",
       " Synset('military_post.n.01'),\n",
       " Synset('position.n.06'),\n",
       " Synset('post.n.04'),\n",
       " Synset('post.n.05'),\n",
       " Synset('post.n.06'),\n",
       " Synset('post.n.07'),\n",
       " Synset('mail.n.04'),\n",
       " Synset('post.n.09'),\n",
       " Synset('mail.n.02'),\n",
       " Synset('post.n.11'),\n",
       " Synset('post.v.01'),\n",
       " Synset('post.v.02'),\n",
       " Synset('post.v.03'),\n",
       " Synset('station.v.01'),\n",
       " Synset('post.v.05'),\n",
       " Synset('post.v.06'),\n",
       " Synset('post.v.07'),\n",
       " Synset('post.v.08'),\n",
       " Synset('stake.v.03'),\n",
       " Synset('post.v.10'),\n",
       " Synset('mail.v.02'),\n",
       " Synset('post.v.12')]"
      ]
     },
     "execution_count": 45,
     "metadata": {},
     "output_type": "execute_result"
    }
   ],
   "source": [
    "synset"
   ]
  },
  {
   "cell_type": "code",
   "execution_count": 35,
   "id": "791385d7-f0d4-4b33-93c5-75a69635bb35",
   "metadata": {},
   "outputs": [
    {
     "name": "stdout",
     "output_type": "stream",
     "text": [
      "Word and Type : beautiful.a.01\n",
      "Synonym : beautiful\n",
      "The meaning of the word : delighting the senses or exciting intellectual or emotional admiration\n",
      "Example :['a beautiful child', 'beautiful country', 'a beautiful painting', 'a beautiful theory', 'a beautiful party']\n"
     ]
    }
   ],
   "source": [
    "synset = wordnet.synsets('beautiful')\n",
    "print('Word and Type : ' + synset[0].name())\n",
    "print('Synonym : ' + synset[0].lemmas()[0].name())\n",
    "print('The meaning of the word : ' + synset[0].definition())\n",
    "print('Example :' + str(synset[0].examples()))"
   ]
  },
  {
   "cell_type": "code",
   "execution_count": 53,
   "id": "4424d7f7-d805-40ea-81e3-1d555f1dd921",
   "metadata": {
    "scrolled": true
   },
   "outputs": [
    {
     "name": "stdout",
     "output_type": "stream",
     "text": [
      "sound.n.01\n",
      "the particular auditory effect produced by a given cause\n",
      "-----------------\n",
      "sound.n.02\n",
      "the subjective sensation of hearing something\n",
      "-----------------\n",
      "sound.n.03\n",
      "mechanical vibrations transmitted by an elastic medium\n",
      "-----------------\n",
      "sound.n.04\n",
      "the sudden occurrence of an audible event\n",
      "-----------------\n",
      "audio.n.01\n",
      "the audible part of a transmitted signal\n",
      "-----------------\n",
      "phone.n.02\n",
      "(phonetics) an individual sound unit of speech without concern as to whether or not it is a phoneme of some language\n",
      "-----------------\n",
      "strait.n.01\n",
      "a narrow channel of the sea joining two larger bodies of water\n",
      "-----------------\n",
      "sound.n.08\n",
      "a large ocean inlet or deep bay\n",
      "-----------------\n",
      "sound.v.01\n",
      "appear in a certain way\n",
      "-----------------\n",
      "sound.v.02\n",
      "make a certain noise or sound\n",
      "-----------------\n",
      "sound.v.03\n",
      "give off a certain sound or sounds\n",
      "-----------------\n",
      "sound.v.04\n",
      "announce by means of a sound\n",
      "-----------------\n",
      "voice.v.02\n",
      "utter with vibrating vocal chords\n",
      "-----------------\n",
      "sound.v.06\n",
      "cause to sound\n",
      "-----------------\n",
      "fathom.v.02\n",
      "measure the depth of (a body of water) with a sounding line\n",
      "-----------------\n",
      "sound.a.01\n",
      "financially secure and safe\n",
      "-----------------\n",
      "healthy.s.04\n",
      "exercising or showing good judgment\n",
      "-----------------\n",
      "sound.a.03\n",
      "in good condition; free from defect or damage or decay\n",
      "-----------------\n",
      "good.s.17\n",
      "in excellent physical condition\n",
      "-----------------\n",
      "reasoned.s.01\n",
      "logically valid\n",
      "-----------------\n",
      "legal.s.03\n",
      "having legal efficacy or force\n",
      "-----------------\n",
      "sound.s.07\n",
      "free from moral defect\n",
      "-----------------\n",
      "heavy.s.26\n",
      "(of sleep) deep and complete\n",
      "-----------------\n",
      "sound.s.09\n",
      "thorough\n",
      "-----------------\n"
     ]
    }
   ],
   "source": [
    "for word in wordnet.synsets('sound'):\n",
    "    print(word.name())\n",
    "    print(word.definition())\n",
    "    print('-----------------')"
   ]
  },
  {
   "cell_type": "code",
   "execution_count": 57,
   "id": "38dc52f7-1681-481a-96ef-e688d2f5a69a",
   "metadata": {},
   "outputs": [
    {
     "name": "stdout",
     "output_type": "stream",
     "text": [
      "sound.v.01\n",
      "sound.v.02\n",
      "sound.v.03\n",
      "sound.v.04\n",
      "voice.v.02\n",
      "sound.v.06\n",
      "fathom.v.02\n"
     ]
    }
   ],
   "source": [
    "for word in wordnet.synsets('sound', pos= 'v'): # Only verb form \n",
    "    print(word.name())"
   ]
  },
  {
   "cell_type": "code",
   "execution_count": 59,
   "id": "a0c48722-f593-4d14-ac12-594951d86f77",
   "metadata": {},
   "outputs": [],
   "source": [
    "# read a word from user and print all meaning of it \n",
    "# read a word from th euser and print all noun meanin gof it"
   ]
  },
  {
   "cell_type": "code",
   "execution_count": 97,
   "id": "938cf28f-523b-43e6-9dc3-9a7361a9f03d",
   "metadata": {},
   "outputs": [
    {
     "name": "stdin",
     "output_type": "stream",
     "text": [
      "enter the word specs\n"
     ]
    },
    {
     "name": "stdout",
     "output_type": "stream",
     "text": [
      "spectacles.n.01 ---> optical instrument consisting of a frame that holds a pair of lenses for correcting defective vision\n",
      "specification.n.01 ---> a detailed description of design criteria for a piece of work\n"
     ]
    }
   ],
   "source": [
    "def meaning(a):\n",
    "    synset = wordnet.synsets(a)\n",
    "    for word in synset:\n",
    "        print(word.name(), '--->', word.definition())\n",
    "        # print(word.lemmas()[0].name(), '--->', word.definition())\n",
    "x = input('enter the word')\n",
    "meaning(x)\n",
    "    "
   ]
  },
  {
   "cell_type": "markdown",
   "id": "59fab83f-2421-4366-bd0d-0eb8e64c2a99",
   "metadata": {},
   "source": [
    "### to get the words by `pos`"
   ]
  },
  {
   "cell_type": "code",
   "execution_count": 81,
   "id": "c519e735-0347-40fd-ba09-ea5ec9e7b161",
   "metadata": {},
   "outputs": [
    {
     "name": "stdin",
     "output_type": "stream",
     "text": [
      "enter the word bat\n"
     ]
    },
    {
     "name": "stdout",
     "output_type": "stream",
     "text": [
      "bat.n.01 ---> nocturnal mouselike mammal with forelimbs modified to form membranous wings and anatomical adaptations for echolocation by which they navigate\n",
      "bat.n.02 ---> (baseball) a turn trying to get a hit\n",
      "squash_racket.n.01 ---> a small racket with a long handle used for playing squash\n",
      "cricket_bat.n.01 ---> the club used in playing cricket\n",
      "bat.n.05 ---> a club used for hitting a ball in various games\n"
     ]
    }
   ],
   "source": [
    "def meaning(a):\n",
    "    import re\n",
    "    synset = wordnet.synsets(a, pos = 'n')\n",
    "    for word in synset: \n",
    "        print(word.name(), '--->', word.definition())\n",
    "        # print(word.lemmas()[0].name(), '--->', word.definition())\n",
    "x = input('enter the word')\n",
    "meaning(x)\n",
    "    "
   ]
  },
  {
   "cell_type": "code",
   "execution_count": 99,
   "id": "50358974-f02b-4c57-a5df-de0203a17634",
   "metadata": {},
   "outputs": [],
   "source": [
    "## different forms of the meaning for a word"
   ]
  },
  {
   "cell_type": "code",
   "execution_count": 105,
   "id": "ccc20508-aabb-4228-bb53-b4c275d05298",
   "metadata": {},
   "outputs": [],
   "source": [
    "verbs, nouns, adj = set(), set(), set()\n",
    "for word in wordnet.synsets('sound', pos = 'n'):\n",
    "    nouns.add(word.lemmas()[0].name())\n",
    "for word in wordnet.synsets('sound', pos = 'v'):\n",
    "    verbs.add(word.lemmas()[0].name())\n",
    "for word in wordnet.synsets('sound', pos = 'a'):\n",
    "    adj.add(word.lemmas()[0].name())"
   ]
  },
  {
   "cell_type": "code",
   "execution_count": 115,
   "id": "0b3c3a0f-b7c7-4209-82e0-a2aa522e2357",
   "metadata": {},
   "outputs": [],
   "source": [
    "adj.remove('sound')\n",
    "verbs.remove('sound')\n",
    "nouns.remove('sound')"
   ]
  },
  {
   "cell_type": "code",
   "execution_count": 117,
   "id": "976d28cf-e01c-4648-9cd2-9c370ec2238b",
   "metadata": {},
   "outputs": [
    {
     "data": {
      "text/plain": [
       "{'fathom', 'voice'}"
      ]
     },
     "execution_count": 117,
     "metadata": {},
     "output_type": "execute_result"
    }
   ],
   "source": [
    "verbs"
   ]
  },
  {
   "cell_type": "code",
   "execution_count": 119,
   "id": "c7a8e2f9-5a5f-400e-b03d-dc92ec91d607",
   "metadata": {},
   "outputs": [
    {
     "data": {
      "text/plain": [
       "{'audio', 'phone', 'strait'}"
      ]
     },
     "execution_count": 119,
     "metadata": {},
     "output_type": "execute_result"
    }
   ],
   "source": [
    "nouns"
   ]
  },
  {
   "cell_type": "code",
   "execution_count": 121,
   "id": "c8e225f4-4e93-495b-998a-1f0ccb262c01",
   "metadata": {},
   "outputs": [
    {
     "data": {
      "text/plain": [
       "{'good', 'healthy', 'heavy', 'legal', 'reasoned'}"
      ]
     },
     "execution_count": 121,
     "metadata": {},
     "output_type": "execute_result"
    }
   ],
   "source": [
    "adj"
   ]
  },
  {
   "cell_type": "markdown",
   "id": "02f25a53-6d92-435a-9183-e7a5a9043bbd",
   "metadata": {},
   "source": [
    "### find antonyms"
   ]
  },
  {
   "cell_type": "code",
   "execution_count": 153,
   "id": "bd361842-dfe4-41fc-85f1-5e8567c31855",
   "metadata": {},
   "outputs": [
    {
     "name": "stdout",
     "output_type": "stream",
     "text": [
      "Antonyms:  {'atonality'}\n"
     ]
    }
   ],
   "source": [
    "ant =set()\n",
    "for synset in wordnet.synsets(\"key\"):\n",
    "    for lemma in synset.lemmas():\n",
    "        if lemma.antonyms():\n",
    "            ant.add(lemma.antonyms()[0].name())\n",
    "print('Antonyms: ', ant)"
   ]
  },
  {
   "cell_type": "markdown",
   "id": "76b43630-12f3-4849-8f05-f5b9b69db732",
   "metadata": {},
   "source": [
    "### Finding the hypernims(animal)/hyponyms(cat, dog)"
   ]
  },
  {
   "cell_type": "code",
   "execution_count": 165,
   "id": "1a419ac7-d716-439e-a873-269b54e8cbb9",
   "metadata": {},
   "outputs": [
    {
     "name": "stdout",
     "output_type": "stream",
     "text": [
      "dog is a hyponyms of domestic_animal.n.01\n",
      "dog is a hyponyms of canine.n.02\n",
      "dog is a hyponyms of unpleasant_woman.n.01\n",
      "dog is a hyponyms of chap.n.01\n",
      "dog is a hyponyms of villain.n.01\n",
      "dog is a hyponyms of sausage.n.01\n",
      "dog is a hyponyms of catch.n.06\n",
      "dog is a hyponyms of support.n.10\n",
      "dog is a hyponyms of pursue.v.02\n"
     ]
    }
   ],
   "source": [
    "word = 'dog'\n",
    "synsets = wordnet.synsets(word)\n",
    "\n",
    "for synset in synsets:\n",
    "    # get hypernyms parent concept\n",
    "    hypernyms = synset.hypernyms()\n",
    "    # check if there are any hypernyms\n",
    "    if hypernyms:\n",
    "        # print hypernyms (can access name property of text)\n",
    "        for hypernym in hypernyms:\n",
    "            print(f\"{word} is a hyponyms of {hypernym.name()}\")"
   ]
  },
  {
   "cell_type": "markdown",
   "id": "c7edcc9d-5fdf-4503-b91e-96445f826519",
   "metadata": {},
   "source": [
    "### finding meronyms"
   ]
  },
  {
   "cell_type": "code",
   "execution_count": 186,
   "id": "7d691e4b-1650-4bf9-8a91-55c59429d55a",
   "metadata": {},
   "outputs": [
    {
     "name": "stdout",
     "output_type": "stream",
     "text": [
      "car has a meronym:  car_seat.n.01\n",
      "car has a meronym:  high_gear.n.01\n",
      "car has a meronym:  window.n.02\n",
      "car has a meronym:  tail_fin.n.02\n",
      "car has a meronym:  third_gear.n.01\n",
      "car has a meronym:  running_board.n.01\n",
      "car has a meronym:  hood.n.09\n",
      "car has a meronym:  luggage_compartment.n.01\n",
      "car has a meronym:  air_bag.n.01\n",
      "car has a meronym:  automobile_engine.n.01\n",
      "car has a meronym:  roof.n.02\n",
      "car has a meronym:  gasoline_engine.n.01\n",
      "car has a meronym:  auto_accessory.n.01\n",
      "car has a meronym:  sunroof.n.01\n",
      "car has a meronym:  automobile_horn.n.01\n",
      "car has a meronym:  rear_window.n.01\n",
      "car has a meronym:  buffer.n.06\n",
      "car has a meronym:  fender.n.01\n",
      "car has a meronym:  glove_compartment.n.01\n",
      "car has a meronym:  car_window.n.01\n",
      "car has a meronym:  floorboard.n.02\n",
      "car has a meronym:  accelerator.n.01\n",
      "car has a meronym:  grille.n.02\n",
      "car has a meronym:  car_mirror.n.01\n",
      "car has a meronym:  first_gear.n.01\n",
      "car has a meronym:  reverse.n.02\n",
      "car has a meronym:  stabilizer_bar.n.01\n",
      "car has a meronym:  bumper.n.02\n",
      "car has a meronym:  car_door.n.01\n",
      "car has a meronym:  suspension.n.05\n"
     ]
    }
   ],
   "source": [
    "word = 'car'\n",
    "synsets = wordnet.synsets(word)\n",
    "for synset in synsets:\n",
    "    # get member meronyms (component parts)\n",
    "    meronyms = synset.part_meronyms()\n",
    "\n",
    "    #check if there are any meronyms\n",
    "    if meronyms:\n",
    "        # print meronyms (can access name propery fot the text\n",
    "        for meronym in meronyms:\n",
    "            print(word, 'has a meronym: ', meronym.name())"
   ]
  },
  {
   "cell_type": "markdown",
   "id": "11876a29-83ce-4835-962d-c989c57cd7c4",
   "metadata": {},
   "source": [
    "# WSD(word sense disambiguation)"
   ]
  },
  {
   "cell_type": "code",
   "execution_count": 231,
   "id": "2ae963c0-0863-4725-9d82-0a2635923fc2",
   "metadata": {},
   "outputs": [],
   "source": [
    "from nltk.tokenize import word_tokenize\n",
    "from nltk.wsd import lesk"
   ]
  },
  {
   "cell_type": "code",
   "execution_count": 233,
   "id": "44762237-f3bd-4c5e-b237-f051b63a59a6",
   "metadata": {},
   "outputs": [],
   "source": [
    "a1 = lesk(word_tokenize('We have to jam the signal arround us.'), 'jam')"
   ]
  },
  {
   "cell_type": "code",
   "execution_count": 235,
   "id": "9b0e5988-9be3-467b-97cb-fac514c2d93c",
   "metadata": {},
   "outputs": [
    {
     "data": {
      "text/plain": [
       "'deliberate radiation or reflection of electromagnetic energy for the purpose of disrupting enemy use of electronic devices or systems'"
      ]
     },
     "execution_count": 235,
     "metadata": {},
     "output_type": "execute_result"
    }
   ],
   "source": [
    "a1.definition()"
   ]
  },
  {
   "cell_type": "code",
   "execution_count": 237,
   "id": "57cb113a-5724-44d6-b516-d37f98e5fa1a",
   "metadata": {},
   "outputs": [],
   "source": [
    "a2 = lesk(word_tokenize('i am stuck in heavy jam'), 'jam')"
   ]
  },
  {
   "cell_type": "code",
   "execution_count": 239,
   "id": "0ba6f264-d825-44e1-9bac-c6c571c845d0",
   "metadata": {},
   "outputs": [
    {
     "data": {
      "text/plain": [
       "'get stuck and immobilized'"
      ]
     },
     "execution_count": 239,
     "metadata": {},
     "output_type": "execute_result"
    }
   ],
   "source": [
    "a2.definition()"
   ]
  },
  {
   "cell_type": "code",
   "execution_count": 241,
   "id": "e9fd3f96-fedd-48c0-a843-88aea14726d0",
   "metadata": {},
   "outputs": [
    {
     "data": {
      "text/plain": [
       "['the mechanism jammed']"
      ]
     },
     "execution_count": 241,
     "metadata": {},
     "output_type": "execute_result"
    }
   ],
   "source": [
    "a2.examples()"
   ]
  },
  {
   "cell_type": "code",
   "execution_count": 243,
   "id": "f31085fa-7646-423a-b9b2-619ae0d075ff",
   "metadata": {},
   "outputs": [
    {
     "data": {
      "text/plain": [
       "[Synset('spot_jamming.n.01'), Synset('barrage_jamming.n.01')]"
      ]
     },
     "execution_count": 243,
     "metadata": {},
     "output_type": "execute_result"
    }
   ],
   "source": [
    "a1.hyponyms()"
   ]
  },
  {
   "cell_type": "code",
   "execution_count": 245,
   "id": "501c2169-f1e4-4e0f-9a51-cabb31118400",
   "metadata": {},
   "outputs": [],
   "source": [
    "from nltk.corpus import wordnet\n",
    "x = wordnet.synsets('jam')"
   ]
  },
  {
   "cell_type": "code",
   "execution_count": 283,
   "id": "bd1887d8-66db-47e7-bb82-7964bfe805b7",
   "metadata": {},
   "outputs": [],
   "source": [
    "a3 = lesk(word_tokenize('she ate fruit jam'), 'jam')"
   ]
  },
  {
   "cell_type": "code",
   "execution_count": 285,
   "id": "5b5d9077-4327-42fb-b0cc-cd71aef0f4a1",
   "metadata": {},
   "outputs": [
    {
     "data": {
      "text/plain": [
       "'preserve of crushed fruit'"
      ]
     },
     "execution_count": 285,
     "metadata": {},
     "output_type": "execute_result"
    }
   ],
   "source": [
    "a3.definition()"
   ]
  },
  {
   "cell_type": "code",
   "execution_count": 289,
   "id": "8c0173fc-1ef3-4ede-b10b-be6549c23aea",
   "metadata": {},
   "outputs": [
    {
     "data": {
      "text/plain": [
       "'prefer or wish to do something'"
      ]
     },
     "execution_count": 289,
     "metadata": {},
     "output_type": "execute_result"
    }
   ],
   "source": [
    "d1 = lesk(word_tokenize('He like flowers.'), 'like')\n",
    "d1.definition()"
   ]
  }
 ],
 "metadata": {
  "kernelspec": {
   "display_name": "Python 3 (ipykernel)",
   "language": "python",
   "name": "python3"
  },
  "language_info": {
   "codemirror_mode": {
    "name": "ipython",
    "version": 3
   },
   "file_extension": ".py",
   "mimetype": "text/x-python",
   "name": "python",
   "nbconvert_exporter": "python",
   "pygments_lexer": "ipython3",
   "version": "3.12.3"
  }
 },
 "nbformat": 4,
 "nbformat_minor": 5
}
