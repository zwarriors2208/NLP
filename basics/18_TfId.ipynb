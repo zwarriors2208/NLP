{
 "cells": [
  {
   "cell_type": "code",
   "execution_count": 1,
   "id": "c2755904-a70b-4b94-b08a-8a35ba891c55",
   "metadata": {},
   "outputs": [],
   "source": [
    "sent1 = \"It is a good practice for us.\"\n",
    "sent2 = 'It was also good to know about it.'"
   ]
  },
  {
   "cell_type": "code",
   "execution_count": 7,
   "id": "c6c30ca9-60bd-4b80-be97-2969ec0e7e38",
   "metadata": {},
   "outputs": [],
   "source": [
    "from nltk.tokenize import word_tokenize\n",
    "import pandas as pd"
   ]
  },
  {
   "cell_type": "code",
   "execution_count": 9,
   "id": "7422478b-07e1-46b3-86db-7b65a0903953",
   "metadata": {},
   "outputs": [],
   "source": [
    "from sklearn.feature_extraction.text import TfidfVectorizer"
   ]
  },
  {
   "cell_type": "code",
   "execution_count": 11,
   "id": "2d4f767c-d972-4a74-903c-b25d37db2b63",
   "metadata": {},
   "outputs": [],
   "source": [
    "tfidf = TfidfVectorizer()"
   ]
  },
  {
   "cell_type": "code",
   "execution_count": 13,
   "id": "75f8c9c8-0abf-47e2-92cf-342680e95509",
   "metadata": {},
   "outputs": [
    {
     "data": {
      "text/plain": [
       "array([[0.        , 0.        , 0.44665616, 0.31779954, 0.44665616,\n",
       "        0.31779954, 0.        , 0.44665616, 0.        , 0.44665616,\n",
       "        0.        ],\n",
       "       [0.36439074, 0.36439074, 0.        , 0.25926702, 0.        ,\n",
       "        0.51853403, 0.36439074, 0.        , 0.36439074, 0.        ,\n",
       "        0.36439074]])"
      ]
     },
     "execution_count": 13,
     "metadata": {},
     "output_type": "execute_result"
    }
   ],
   "source": [
    "x_new =tfidf.fit_transform([sent1, sent2])\n",
    "x_new.toarray()"
   ]
  },
  {
   "cell_type": "code",
   "execution_count": 17,
   "id": "bfe9c603-376e-4f3d-ac7c-e57781ee7bac",
   "metadata": {},
   "outputs": [
    {
     "data": {
      "text/html": [
       "<div>\n",
       "<style scoped>\n",
       "    .dataframe tbody tr th:only-of-type {\n",
       "        vertical-align: middle;\n",
       "    }\n",
       "\n",
       "    .dataframe tbody tr th {\n",
       "        vertical-align: top;\n",
       "    }\n",
       "\n",
       "    .dataframe thead th {\n",
       "        text-align: right;\n",
       "    }\n",
       "</style>\n",
       "<table border=\"1\" class=\"dataframe\">\n",
       "  <thead>\n",
       "    <tr style=\"text-align: right;\">\n",
       "      <th></th>\n",
       "      <th>about</th>\n",
       "      <th>also</th>\n",
       "      <th>for</th>\n",
       "      <th>good</th>\n",
       "      <th>is</th>\n",
       "      <th>it</th>\n",
       "      <th>know</th>\n",
       "      <th>practice</th>\n",
       "      <th>to</th>\n",
       "      <th>us</th>\n",
       "      <th>was</th>\n",
       "    </tr>\n",
       "  </thead>\n",
       "  <tbody>\n",
       "    <tr>\n",
       "      <th>0</th>\n",
       "      <td>0.000000</td>\n",
       "      <td>0.000000</td>\n",
       "      <td>0.446656</td>\n",
       "      <td>0.317800</td>\n",
       "      <td>0.446656</td>\n",
       "      <td>0.317800</td>\n",
       "      <td>0.000000</td>\n",
       "      <td>0.446656</td>\n",
       "      <td>0.000000</td>\n",
       "      <td>0.446656</td>\n",
       "      <td>0.000000</td>\n",
       "    </tr>\n",
       "    <tr>\n",
       "      <th>1</th>\n",
       "      <td>0.364391</td>\n",
       "      <td>0.364391</td>\n",
       "      <td>0.000000</td>\n",
       "      <td>0.259267</td>\n",
       "      <td>0.000000</td>\n",
       "      <td>0.518534</td>\n",
       "      <td>0.364391</td>\n",
       "      <td>0.000000</td>\n",
       "      <td>0.364391</td>\n",
       "      <td>0.000000</td>\n",
       "      <td>0.364391</td>\n",
       "    </tr>\n",
       "  </tbody>\n",
       "</table>\n",
       "</div>"
      ],
      "text/plain": [
       "      about      also       for      good        is        it      know  \\\n",
       "0  0.000000  0.000000  0.446656  0.317800  0.446656  0.317800  0.000000   \n",
       "1  0.364391  0.364391  0.000000  0.259267  0.000000  0.518534  0.364391   \n",
       "\n",
       "   practice        to        us       was  \n",
       "0  0.446656  0.000000  0.446656  0.000000  \n",
       "1  0.000000  0.364391  0.000000  0.364391  "
      ]
     },
     "execution_count": 17,
     "metadata": {},
     "output_type": "execute_result"
    }
   ],
   "source": [
    "df = pd.DataFrame(data = x_new.toarray(), columns = tfidf.get_feature_names_out())\n",
    "df"
   ]
  },
  {
   "cell_type": "markdown",
   "id": "7b0063ad-eec8-4109-b900-039b421019dd",
   "metadata": {},
   "source": [
    "#### doing from txt file"
   ]
  },
  {
   "cell_type": "code",
   "execution_count": 81,
   "id": "45156f81-a07a-44f1-8ea3-35064030892b",
   "metadata": {},
   "outputs": [],
   "source": [
    "with open(r\"C:\\Users\\DAI.STUDENTSDC\\Desktop\\NLP_CV\\dataset\\untitled.txt\", 'r') as f:\n",
    "    # sent = [line.strip() for line in f]\n",
    "    sent = f.readlines()"
   ]
  },
  {
   "cell_type": "code",
   "execution_count": 97,
   "id": "248a17b7-ebc7-4599-ad10-facc9cdc9741",
   "metadata": {},
   "outputs": [
    {
     "data": {
      "text/plain": [
       "'Can you please pass me the salt?\\nI will meet you at the park in 30 minutes.\\nI need to finish this work before the deadline.\\nWhat time does the movie start tonight?\\nPlease do not forget to lock the door when you leave.'"
      ]
     },
     "execution_count": 97,
     "metadata": {},
     "output_type": "execute_result"
    }
   ],
   "source": [
    "with open(r\"C:\\Users\\DAI.STUDENTSDC\\Desktop\\NLP_CV\\dataset\\untitled.txt\", 'r') as f1:\n",
    "    e=f1.read()\n",
    "eg"
   ]
  },
  {
   "cell_type": "code",
   "execution_count": 83,
   "id": "f0ce4864-7825-4e6d-9629-bf4a358b3993",
   "metadata": {},
   "outputs": [
    {
     "data": {
      "text/plain": [
       "['Can you please pass me the salt?\\n',\n",
       " 'I will meet you at the park in 30 minutes.\\n',\n",
       " 'I need to finish this work before the deadline.\\n',\n",
       " 'What time does the movie start tonight?\\n',\n",
       " 'Please do not forget to lock the door when you leave.']"
      ]
     },
     "execution_count": 83,
     "metadata": {},
     "output_type": "execute_result"
    }
   ],
   "source": [
    "sent"
   ]
  },
  {
   "cell_type": "code",
   "execution_count": 85,
   "id": "f5f37050-cb4d-4737-ba43-11ec1d47ec42",
   "metadata": {},
   "outputs": [],
   "source": [
    "tfidf = TfidfVectorizer()\n",
    "x_1 = tfidf.fit_transform(sent)"
   ]
  },
  {
   "cell_type": "code",
   "execution_count": 87,
   "id": "1a172a16-8621-4d57-b341-1427dfbad926",
   "metadata": {},
   "outputs": [],
   "source": [
    "df = pd.DataFrame(data = x_1.toarray(), columns = tfidf.get_feature_names_out())"
   ]
  },
  {
   "cell_type": "code",
   "execution_count": 89,
   "id": "9fd41b69-5dcf-495a-af73-be155d8ef43f",
   "metadata": {},
   "outputs": [
    {
     "data": {
      "text/html": [
       "<div>\n",
       "<style scoped>\n",
       "    .dataframe tbody tr th:only-of-type {\n",
       "        vertical-align: middle;\n",
       "    }\n",
       "\n",
       "    .dataframe tbody tr th {\n",
       "        vertical-align: top;\n",
       "    }\n",
       "\n",
       "    .dataframe thead th {\n",
       "        text-align: right;\n",
       "    }\n",
       "</style>\n",
       "<table border=\"1\" class=\"dataframe\">\n",
       "  <thead>\n",
       "    <tr style=\"text-align: right;\">\n",
       "      <th></th>\n",
       "      <th>30</th>\n",
       "      <th>at</th>\n",
       "      <th>before</th>\n",
       "      <th>can</th>\n",
       "      <th>deadline</th>\n",
       "      <th>do</th>\n",
       "      <th>does</th>\n",
       "      <th>door</th>\n",
       "      <th>finish</th>\n",
       "      <th>forget</th>\n",
       "      <th>...</th>\n",
       "      <th>the</th>\n",
       "      <th>this</th>\n",
       "      <th>time</th>\n",
       "      <th>to</th>\n",
       "      <th>tonight</th>\n",
       "      <th>what</th>\n",
       "      <th>when</th>\n",
       "      <th>will</th>\n",
       "      <th>work</th>\n",
       "      <th>you</th>\n",
       "    </tr>\n",
       "  </thead>\n",
       "  <tbody>\n",
       "    <tr>\n",
       "      <th>0</th>\n",
       "      <td>0.000000</td>\n",
       "      <td>0.000000</td>\n",
       "      <td>0.000000</td>\n",
       "      <td>0.433291</td>\n",
       "      <td>0.000000</td>\n",
       "      <td>0.000000</td>\n",
       "      <td>0.000000</td>\n",
       "      <td>0.000000</td>\n",
       "      <td>0.000000</td>\n",
       "      <td>0.000000</td>\n",
       "      <td>...</td>\n",
       "      <td>0.206465</td>\n",
       "      <td>0.000000</td>\n",
       "      <td>0.000000</td>\n",
       "      <td>0.000000</td>\n",
       "      <td>0.000000</td>\n",
       "      <td>0.000000</td>\n",
       "      <td>0.000000</td>\n",
       "      <td>0.000000</td>\n",
       "      <td>0.000000</td>\n",
       "      <td>0.290180</td>\n",
       "    </tr>\n",
       "    <tr>\n",
       "      <th>1</th>\n",
       "      <td>0.360948</td>\n",
       "      <td>0.360948</td>\n",
       "      <td>0.000000</td>\n",
       "      <td>0.000000</td>\n",
       "      <td>0.000000</td>\n",
       "      <td>0.000000</td>\n",
       "      <td>0.000000</td>\n",
       "      <td>0.000000</td>\n",
       "      <td>0.000000</td>\n",
       "      <td>0.000000</td>\n",
       "      <td>...</td>\n",
       "      <td>0.171994</td>\n",
       "      <td>0.000000</td>\n",
       "      <td>0.000000</td>\n",
       "      <td>0.000000</td>\n",
       "      <td>0.000000</td>\n",
       "      <td>0.000000</td>\n",
       "      <td>0.000000</td>\n",
       "      <td>0.360948</td>\n",
       "      <td>0.000000</td>\n",
       "      <td>0.241731</td>\n",
       "    </tr>\n",
       "    <tr>\n",
       "      <th>2</th>\n",
       "      <td>0.000000</td>\n",
       "      <td>0.000000</td>\n",
       "      <td>0.381303</td>\n",
       "      <td>0.000000</td>\n",
       "      <td>0.381303</td>\n",
       "      <td>0.000000</td>\n",
       "      <td>0.000000</td>\n",
       "      <td>0.000000</td>\n",
       "      <td>0.381303</td>\n",
       "      <td>0.000000</td>\n",
       "      <td>...</td>\n",
       "      <td>0.181693</td>\n",
       "      <td>0.381303</td>\n",
       "      <td>0.000000</td>\n",
       "      <td>0.307633</td>\n",
       "      <td>0.000000</td>\n",
       "      <td>0.000000</td>\n",
       "      <td>0.000000</td>\n",
       "      <td>0.000000</td>\n",
       "      <td>0.381303</td>\n",
       "      <td>0.000000</td>\n",
       "    </tr>\n",
       "    <tr>\n",
       "      <th>3</th>\n",
       "      <td>0.000000</td>\n",
       "      <td>0.000000</td>\n",
       "      <td>0.000000</td>\n",
       "      <td>0.000000</td>\n",
       "      <td>0.000000</td>\n",
       "      <td>0.000000</td>\n",
       "      <td>0.400736</td>\n",
       "      <td>0.000000</td>\n",
       "      <td>0.000000</td>\n",
       "      <td>0.000000</td>\n",
       "      <td>...</td>\n",
       "      <td>0.190953</td>\n",
       "      <td>0.000000</td>\n",
       "      <td>0.400736</td>\n",
       "      <td>0.000000</td>\n",
       "      <td>0.400736</td>\n",
       "      <td>0.400736</td>\n",
       "      <td>0.000000</td>\n",
       "      <td>0.000000</td>\n",
       "      <td>0.000000</td>\n",
       "      <td>0.000000</td>\n",
       "    </tr>\n",
       "    <tr>\n",
       "      <th>4</th>\n",
       "      <td>0.000000</td>\n",
       "      <td>0.000000</td>\n",
       "      <td>0.000000</td>\n",
       "      <td>0.000000</td>\n",
       "      <td>0.000000</td>\n",
       "      <td>0.333753</td>\n",
       "      <td>0.000000</td>\n",
       "      <td>0.333753</td>\n",
       "      <td>0.000000</td>\n",
       "      <td>0.333753</td>\n",
       "      <td>...</td>\n",
       "      <td>0.159035</td>\n",
       "      <td>0.000000</td>\n",
       "      <td>0.000000</td>\n",
       "      <td>0.269269</td>\n",
       "      <td>0.000000</td>\n",
       "      <td>0.000000</td>\n",
       "      <td>0.333753</td>\n",
       "      <td>0.000000</td>\n",
       "      <td>0.000000</td>\n",
       "      <td>0.223518</td>\n",
       "    </tr>\n",
       "  </tbody>\n",
       "</table>\n",
       "<p>5 rows × 34 columns</p>\n",
       "</div>"
      ],
      "text/plain": [
       "         30        at    before       can  deadline        do      does  \\\n",
       "0  0.000000  0.000000  0.000000  0.433291  0.000000  0.000000  0.000000   \n",
       "1  0.360948  0.360948  0.000000  0.000000  0.000000  0.000000  0.000000   \n",
       "2  0.000000  0.000000  0.381303  0.000000  0.381303  0.000000  0.000000   \n",
       "3  0.000000  0.000000  0.000000  0.000000  0.000000  0.000000  0.400736   \n",
       "4  0.000000  0.000000  0.000000  0.000000  0.000000  0.333753  0.000000   \n",
       "\n",
       "       door    finish    forget  ...       the      this      time        to  \\\n",
       "0  0.000000  0.000000  0.000000  ...  0.206465  0.000000  0.000000  0.000000   \n",
       "1  0.000000  0.000000  0.000000  ...  0.171994  0.000000  0.000000  0.000000   \n",
       "2  0.000000  0.381303  0.000000  ...  0.181693  0.381303  0.000000  0.307633   \n",
       "3  0.000000  0.000000  0.000000  ...  0.190953  0.000000  0.400736  0.000000   \n",
       "4  0.333753  0.000000  0.333753  ...  0.159035  0.000000  0.000000  0.269269   \n",
       "\n",
       "    tonight      what      when      will      work       you  \n",
       "0  0.000000  0.000000  0.000000  0.000000  0.000000  0.290180  \n",
       "1  0.000000  0.000000  0.000000  0.360948  0.000000  0.241731  \n",
       "2  0.000000  0.000000  0.000000  0.000000  0.381303  0.000000  \n",
       "3  0.400736  0.400736  0.000000  0.000000  0.000000  0.000000  \n",
       "4  0.000000  0.000000  0.333753  0.000000  0.000000  0.223518  \n",
       "\n",
       "[5 rows x 34 columns]"
      ]
     },
     "execution_count": 89,
     "metadata": {},
     "output_type": "execute_result"
    }
   ],
   "source": [
    "df"
   ]
  },
  {
   "cell_type": "code",
   "execution_count": null,
   "id": "5bd63bdb-4856-45c6-a6fd-424be2a1a36b",
   "metadata": {},
   "outputs": [],
   "source": []
  },
  {
   "cell_type": "code",
   "execution_count": null,
   "id": "12844ef9-d3e5-4f8d-a500-7264a5fb087e",
   "metadata": {},
   "outputs": [],
   "source": []
  }
 ],
 "metadata": {
  "kernelspec": {
   "display_name": "Python 3 (ipykernel)",
   "language": "python",
   "name": "python3"
  },
  "language_info": {
   "codemirror_mode": {
    "name": "ipython",
    "version": 3
   },
   "file_extension": ".py",
   "mimetype": "text/x-python",
   "name": "python",
   "nbconvert_exporter": "python",
   "pygments_lexer": "ipython3",
   "version": "3.12.3"
  }
 },
 "nbformat": 4,
 "nbformat_minor": 5
}
