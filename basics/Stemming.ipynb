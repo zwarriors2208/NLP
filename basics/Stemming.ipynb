{
 "cells": [
  {
   "cell_type": "code",
   "execution_count": 35,
   "id": "bbe20663-0418-45f5-89a6-7fd63b6d60a1",
   "metadata": {},
   "outputs": [],
   "source": [
    "words1 = 'managing', 'manage', 'management', 'managerial', 'managed'\n",
    "words2 = 'worked', 'workable', 'working', 'worked'\n",
    "words3 = 'big', 'biggest', 'bigger'\n",
    "words4 = 'go', 'gone', 'went', 'going'\n",
    "words5 = 'association', 'associated', 'associate'"
   ]
  },
  {
   "cell_type": "markdown",
   "id": "5ee3a0ad-dcbc-4f67-a8c7-a661313c3fad",
   "metadata": {},
   "source": [
    "## porter stemmer"
   ]
  },
  {
   "cell_type": "code",
   "execution_count": 38,
   "id": "f494f865-a2b6-4e19-ab25-53949b5d4916",
   "metadata": {},
   "outputs": [
    {
     "data": {
      "text/plain": [
       "'manag'"
      ]
     },
     "execution_count": 38,
     "metadata": {},
     "output_type": "execute_result"
    }
   ],
   "source": [
    "from nltk.stem import PorterStemmer\n",
    "ps =PorterStemmer()\n",
    "ps.stem(words1[2])"
   ]
  },
  {
   "cell_type": "code",
   "execution_count": 42,
   "id": "d1533dd4-576c-490b-abe1-38961c904d6f",
   "metadata": {},
   "outputs": [
    {
     "data": {
      "text/plain": [
       "'biggest'"
      ]
     },
     "execution_count": 42,
     "metadata": {},
     "output_type": "execute_result"
    }
   ],
   "source": [
    "ps.stem(words3[1])"
   ]
  },
  {
   "cell_type": "code",
   "execution_count": 50,
   "id": "39c580bd-44af-4d11-a049-1d4bf59bf91f",
   "metadata": {},
   "outputs": [
    {
     "data": {
      "text/plain": [
       "'go'"
      ]
     },
     "execution_count": 50,
     "metadata": {},
     "output_type": "execute_result"
    }
   ],
   "source": [
    "ps.stem(words4[3])"
   ]
  },
  {
   "cell_type": "code",
   "execution_count": 54,
   "id": "9714f1ea-096e-46bb-8f0c-cd53b0b506a1",
   "metadata": {},
   "outputs": [
    {
     "name": "stdout",
     "output_type": "stream",
     "text": [
      "managing --> manag\n",
      "manage --> manag\n",
      "management --> manag\n",
      "managerial --> manageri\n",
      "managed --> manag\n"
     ]
    }
   ],
   "source": [
    "\n",
    "for word in words1:\n",
    "    print(word, '-->', ps.stem(word))"
   ]
  },
  {
   "cell_type": "code",
   "execution_count": 56,
   "id": "b8270ade-13fb-4a13-918f-22831460fccf",
   "metadata": {},
   "outputs": [
    {
     "name": "stdout",
     "output_type": "stream",
     "text": [
      "worked --> work\n",
      "workable --> workabl\n",
      "working --> work\n",
      "worked --> work\n"
     ]
    }
   ],
   "source": [
    "for word in words2:\n",
    "    print(word, '-->', ps.stem(word))"
   ]
  },
  {
   "cell_type": "code",
   "execution_count": 58,
   "id": "cc2633e3-b6ca-49f6-8aad-f511f91c92da",
   "metadata": {},
   "outputs": [
    {
     "name": "stdout",
     "output_type": "stream",
     "text": [
      "big --> big\n",
      "biggest --> biggest\n",
      "bigger --> bigger\n"
     ]
    }
   ],
   "source": [
    "for word in words3:\n",
    "    print(word, '-->', ps.stem(word))"
   ]
  },
  {
   "cell_type": "code",
   "execution_count": 60,
   "id": "9ee4af4c-07a6-4a8c-b81d-c8b52ef26cd3",
   "metadata": {},
   "outputs": [
    {
     "name": "stdout",
     "output_type": "stream",
     "text": [
      "go --> go\n",
      "gone --> gone\n",
      "went --> went\n",
      "going --> go\n"
     ]
    }
   ],
   "source": [
    "for word in words4:\n",
    "    print(word, '-->', ps.stem(word))"
   ]
  },
  {
   "cell_type": "code",
   "execution_count": 62,
   "id": "8d228580-cdda-481a-a8f4-f0692666de65",
   "metadata": {},
   "outputs": [
    {
     "name": "stdout",
     "output_type": "stream",
     "text": [
      "association --> associ\n",
      "associated --> associ\n",
      "associate --> associ\n"
     ]
    }
   ],
   "source": [
    "for word in words5:\n",
    "    print(word, '-->', ps.stem(word))"
   ]
  },
  {
   "cell_type": "markdown",
   "id": "f49b09de-d1dc-40a6-a8f7-7abaaaf54d8e",
   "metadata": {},
   "source": [
    "affixes are removed y stemmers\n"
   ]
  },
  {
   "cell_type": "code",
   "execution_count": null,
   "id": "a8b13b3a-ab0a-4dfa-bc74-6610f7760498",
   "metadata": {},
   "outputs": [],
   "source": [
    "it will be useful in ml and other training algorithm but it is not much accurate because it is no brainer but the better method will have less speed \n",
    "almost 10 times slower than this one"
   ]
  },
  {
   "cell_type": "code",
   "execution_count": 98,
   "id": "c614c70c-7ce6-4512-839d-06a236619578",
   "metadata": {},
   "outputs": [],
   "source": [
    "text = 'Hola Amigo! How are you? I like Python Programming'"
   ]
  },
  {
   "cell_type": "code",
   "execution_count": 100,
   "id": "98adc334-c851-404b-84a7-a1a24e0b752f",
   "metadata": {},
   "outputs": [],
   "source": [
    "from nltk.tokenize import word_tokenize\n",
    "from nltk.corpus import stopwords\n",
    "import string"
   ]
  },
  {
   "cell_type": "code",
   "execution_count": 102,
   "id": "a7c07736-730f-4aba-8bad-bb594dd1e423",
   "metadata": {},
   "outputs": [],
   "source": [
    "# removing punctuations\n",
    "tokens1 = [word for word in word_tokenize(text) if word not in string.punctuation]"
   ]
  },
  {
   "cell_type": "code",
   "execution_count": 104,
   "id": "ec182a9f-8a89-4ad7-994c-e3ab3be0408a",
   "metadata": {},
   "outputs": [
    {
     "data": {
      "text/plain": [
       "['Hola', 'Amigo', 'like', 'Python', 'Programming']"
      ]
     },
     "execution_count": 104,
     "metadata": {},
     "output_type": "execute_result"
    }
   ],
   "source": [
    "swords = stopwords.words('english')\n",
    "tokens2 = [word for word in tokens1 if word.lower() not in swords]\n",
    "tokens2"
   ]
  },
  {
   "cell_type": "code",
   "execution_count": 105,
   "id": "655bd925-2152-4ebc-8276-8ccba0b873c0",
   "metadata": {},
   "outputs": [],
   "source": [
    "tokens3 = [ps.stem(word) for word in tokens2] "
   ]
  },
  {
   "cell_type": "code",
   "execution_count": 108,
   "id": "b12b61cc-6d4a-4af5-bb2e-0e63cf5793e1",
   "metadata": {},
   "outputs": [
    {
     "data": {
      "text/plain": [
       "['hola', 'amigo', 'like', 'python', 'program']"
      ]
     },
     "execution_count": 108,
     "metadata": {},
     "output_type": "execute_result"
    }
   ],
   "source": [
    "tokens3"
   ]
  },
  {
   "cell_type": "markdown",
   "id": "8c5c6289-ec36-46e5-b62a-f4733c888fa0",
   "metadata": {},
   "source": [
    "### Lancaster Stemmer\n",
    "- the purpose of stemmer is to increase the frequency of the word\n",
    "- it may or may not retain the meaning of the word"
   ]
  },
  {
   "cell_type": "code",
   "execution_count": 112,
   "id": "53bae9b4-f81c-4017-9627-111523f3268c",
   "metadata": {},
   "outputs": [],
   "source": [
    "from nltk.stem import LancasterStemmer"
   ]
  },
  {
   "cell_type": "code",
   "execution_count": 114,
   "id": "1c024fde-e24d-4387-ab4e-6365b67b6716",
   "metadata": {},
   "outputs": [
    {
     "data": {
      "text/plain": [
       "'man'"
      ]
     },
     "execution_count": 114,
     "metadata": {},
     "output_type": "execute_result"
    }
   ],
   "source": [
    "ls = LancasterStemmer()\n",
    "ls.stem(words1[3])"
   ]
  },
  {
   "cell_type": "code",
   "execution_count": 118,
   "id": "afc8a8d4-8cf3-4b44-bd96-348333687d1b",
   "metadata": {},
   "outputs": [
    {
     "name": "stdout",
     "output_type": "stream",
     "text": [
      "managing --> man\n",
      "manage --> man\n",
      "management --> man\n",
      "managerial --> man\n",
      "managed --> man\n",
      "\n",
      "\n",
      "\n",
      "worked --> work\n",
      "workable --> work\n",
      "working --> work\n",
      "worked --> work\n",
      "\n",
      "\n",
      "\n",
      "big --> big\n",
      "biggest --> biggest\n",
      "bigger --> big\n",
      "\n",
      "\n",
      "\n",
      "go --> go\n",
      "gone --> gon\n",
      "went --> went\n",
      "going --> going\n",
      "\n",
      "\n",
      "\n",
      "association --> assocy\n",
      "associated --> assocy\n",
      "associate --> assocy\n"
     ]
    }
   ],
   "source": [
    "for word in words1:\n",
    "    print(word, '-->', ls.stem(word))\n",
    "print('\\n\\n')\n",
    "for word in words2:\n",
    "    print(word, '-->', ls.stem(word))\n",
    "print('\\n\\n')\n",
    "for word in words3:\n",
    "    print(word, '-->', ls.stem(word))\n",
    "print('\\n\\n')\n",
    "for word in words4:\n",
    "    print(word, '-->', ls.stem(word))\n",
    "print('\\n\\n')\n",
    "for word in words5:\n",
    "    print(word, '-->', ls.stem(word))"
   ]
  },
  {
   "cell_type": "code",
   "execution_count": 122,
   "id": "d0174fb1-a1b0-4d8c-967a-03bd9e9ccdfd",
   "metadata": {},
   "outputs": [
    {
     "data": {
      "text/plain": [
       "'men'"
      ]
     },
     "execution_count": 122,
     "metadata": {},
     "output_type": "execute_result"
    }
   ],
   "source": [
    "ls.stem('men')"
   ]
  },
  {
   "cell_type": "markdown",
   "id": "b70f8fbf-3f55-4d15-ac93-c90bc8297faf",
   "metadata": {},
   "source": [
    "### snowball stemmer\n",
    "- it is same as porter but it support multiple  languages\n",
    "  \n",
    "- it supports multiple languages like dutch, spannish, portguese etc"
   ]
  },
  {
   "cell_type": "code",
   "execution_count": 127,
   "id": "519e7848-991a-4b50-ae03-30eb17bab68f",
   "metadata": {},
   "outputs": [],
   "source": [
    "from nltk.stem import SnowballStemmer"
   ]
  },
  {
   "cell_type": "code",
   "execution_count": 131,
   "id": "b481b29a-b710-4db3-bfb1-df41bf8c8faa",
   "metadata": {},
   "outputs": [
    {
     "name": "stdout",
     "output_type": "stream",
     "text": [
      "managing --> manag\n",
      "manage --> manag\n",
      "management --> manag\n",
      "managerial --> manageri\n",
      "managed --> manag\n",
      "\n",
      "\n",
      "\n",
      "worked --> work\n",
      "workable --> workabl\n",
      "working --> work\n",
      "worked --> work\n",
      "\n",
      "\n",
      "\n",
      "big --> big\n",
      "biggest --> biggest\n",
      "bigger --> bigger\n",
      "\n",
      "\n",
      "\n",
      "go --> go\n",
      "gone --> gone\n",
      "went --> went\n",
      "going --> go\n",
      "\n",
      "\n",
      "\n",
      "association --> associ\n",
      "associated --> associ\n",
      "associate --> associ\n"
     ]
    }
   ],
   "source": [
    "ss = SnowballStemmer('english')\n",
    "for word in words1:\n",
    "    print(word, '-->', ss.stem(word))\n",
    "print('\\n\\n')\n",
    "for word in words2:\n",
    "    print(word, '-->', ss.stem(word))\n",
    "print('\\n\\n')\n",
    "for word in words3:\n",
    "    print(word, '-->', ss.stem(word))\n",
    "print('\\n\\n')\n",
    "for word in words4:\n",
    "    print(word, '-->', ss.stem(word))\n",
    "print('\\n\\n')\n",
    "for word in words5:\n",
    "    print(word, '-->', ss.stem(word))"
   ]
  },
  {
   "cell_type": "code",
   "execution_count": 140,
   "id": "b53af813-5328-4fed-ad6c-0be1283c3d85",
   "metadata": {},
   "outputs": [],
   "source": [
    "ss = SnowballStemmer('spanish')\n"
   ]
  },
  {
   "cell_type": "code",
   "execution_count": 142,
   "id": "32bddc85-ffcb-44f7-a392-d507bb5fd071",
   "metadata": {},
   "outputs": [],
   "source": [
    "tokens3 = [ss.stem(word) for word in tokens2] "
   ]
  },
  {
   "cell_type": "code",
   "execution_count": 144,
   "id": "2ad5e3b9-9f69-47ee-8592-051a93cb466b",
   "metadata": {},
   "outputs": [
    {
     "data": {
      "text/plain": [
       "['hol', 'amig', 'lik', 'python', 'programming']"
      ]
     },
     "execution_count": 144,
     "metadata": {},
     "output_type": "execute_result"
    }
   ],
   "source": [
    "tokens3"
   ]
  },
  {
   "cell_type": "markdown",
   "id": "c5be89a0-7d3e-424d-ad8d-36a14f5b5c08",
   "metadata": {},
   "source": [
    "# Lemmatizer\n",
    "- WordNetLemmatizer\n",
    "- noun -> n\n",
    "- adjective -> a\n",
    "- adverb -> r\n",
    "- verb ->v\n",
    "\n",
    "- NOTE : input should be in lower case"
   ]
  },
  {
   "cell_type": "code",
   "execution_count": 151,
   "id": "8e5a04e6-86b1-458f-9b4f-2bda32e6aefd",
   "metadata": {},
   "outputs": [],
   "source": [
    "from nltk.stem import WordNetLemmatizer\n",
    "wnl = WordNetLemmatizer()"
   ]
  },
  {
   "cell_type": "code",
   "execution_count": 156,
   "id": "c04a4713-612a-4bd1-b5db-c09a868887f8",
   "metadata": {},
   "outputs": [
    {
     "data": {
      "text/plain": [
       "'player'"
      ]
     },
     "metadata": {},
     "output_type": "display_data"
    },
    {
     "data": {
      "text/plain": [
       "'players'"
      ]
     },
     "metadata": {},
     "output_type": "display_data"
    },
    {
     "data": {
      "text/plain": [
       "'players'"
      ]
     },
     "metadata": {},
     "output_type": "display_data"
    },
    {
     "data": {
      "text/plain": [
       "'players'"
      ]
     },
     "metadata": {},
     "output_type": "display_data"
    }
   ],
   "source": [
    "display(wnl.lemmatize('players', pos = 'n')) # will only change if the correct pos is given\n",
    "display(wnl.lemmatize('players', pos = 'a'))\n",
    "display(wnl.lemmatize('players', pos = 'v'))\n",
    "display(wnl.lemmatize('players', pos = 'r'))"
   ]
  },
  {
   "cell_type": "code",
   "execution_count": 162,
   "id": "205fd610-ac8e-464a-8eea-bd703e4084e4",
   "metadata": {},
   "outputs": [
    {
     "data": {
      "text/plain": [
       "'playing'"
      ]
     },
     "metadata": {},
     "output_type": "display_data"
    },
    {
     "data": {
      "text/plain": [
       "'playing'"
      ]
     },
     "metadata": {},
     "output_type": "display_data"
    },
    {
     "data": {
      "text/plain": [
       "'play'"
      ]
     },
     "metadata": {},
     "output_type": "display_data"
    },
    {
     "data": {
      "text/plain": [
       "'playing'"
      ]
     },
     "metadata": {},
     "output_type": "display_data"
    }
   ],
   "source": [
    "display(wnl.lemmatize('playing', pos = 'n')) # playing as noun is not the first meaning\n",
    "display(wnl.lemmatize('playing', pos = 'a'))\n",
    "display(wnl.lemmatize('playing', pos = 'v')) # playing matches as a verb (the meaning of the words)\n",
    "display(wnl.lemmatize('playing', pos = 'r'))"
   ]
  },
  {
   "cell_type": "code",
   "execution_count": 176,
   "id": "b73596b3-7ec5-44ed-94d1-92d305306813",
   "metadata": {},
   "outputs": [
    {
     "name": "stdout",
     "output_type": "stream",
     "text": [
      "managing --> manage\n",
      "manage --> manage\n",
      "management --> management\n",
      "managerial --> managerial\n",
      "managed --> manage\n",
      "\n",
      "\n",
      "\n",
      "worked --> work\n",
      "workable --> workable\n",
      "working --> work\n",
      "worked --> work\n",
      "\n",
      "\n",
      "\n",
      "big --> big\n",
      "biggest --> big\n",
      "bigger --> big\n",
      "\n",
      "\n",
      "\n",
      "go --> go\n",
      "gone --> go\n",
      "went --> go\n",
      "going --> go\n",
      "\n",
      "\n",
      "\n",
      "association --> association\n",
      "associated --> associate\n",
      "associate --> associate\n"
     ]
    }
   ],
   "source": [
    "for word in words1:\n",
    "    print(word, '-->', wnl.lemmatize(word, pos = 'v'))\n",
    "print('\\n\\n')\n",
    "for word in words2:\n",
    "    print(word, '-->', wnl.lemmatize(word, pos = 'v'))\n",
    "print('\\n\\n')\n",
    "for word in words3:\n",
    "    print(word, '-->', wnl.lemmatize(word, pos = 'a'))\n",
    "print('\\n\\n')\n",
    "for word in words4:\n",
    "    print(word, '-->', wnl.lemmatize(word, pos = 'v'))\n",
    "print('\\n\\n')\n",
    "for word in words5:\n",
    "    print(word, '-->', wnl.lemmatize(word, pos = 'v'))"
   ]
  },
  {
   "cell_type": "code",
   "execution_count": 179,
   "id": "cbfe4b94-b33a-4f23-9f93-435b125107e6",
   "metadata": {},
   "outputs": [],
   "source": [
    "text='''India, officially the Republic of India,[j][20] is a country in South Asia. It is the seventh-largest country in the world by area and the most populous country. Bounded by the Indian Ocean on the south, the Arabian Sea on the southwest, and the Bay of Bengal on the southeast, it shares land borders with Pakistan to the west;[k] China, Nepal, and Bhutan to the north; and Bangladesh and Myanmar to the east. In the Indian Ocean, India is in the vicinity of Sri Lanka and the Maldives; its Andaman and Nicobar Islands share a maritime border with Thailand, Myanmar, and Indonesia.\n",
    "\n",
    "Modern humans arrived on the Indian subcontinent from Africa no later than 55,000 years ago.[22][23][24] Their long occupation, initially in varying forms of isolation as hunter-gatherers, has made the region highly diverse, second only to Africa in human genetic diversity.[25] Settled life emerged on the subcontinent in the western margins of the Indus river basin 9,000 years ago, evolving gradually into the Indus Valley Civilisation of the third millennium BCE.[26] By at least 1200 BCE, an archaic form of Sanskrit, an Indo-European language, had diffused into India from the northwest.[27][28] Its evidence today is found in the hymns of the Rigveda. Preserved by an oral tradition that was resolutely vigilant, the Rigveda records the dawning of Hinduism in India.[29] The Dravidian languages of India were supplanted in the northern and western regions.[30] By 400 BCE, stratification and exclusion by caste had emerged within Hinduism,[31] and Buddhism and Jainism had arisen, proclaiming social orders unlinked to heredity.[32] Early political consolidations gave rise to the loose-knit Maurya and Gupta Empires based in the Ganges Basin.[33] Their collective era was suffused with wide-ranging creativity,[34] but also marked by the declining status of women,[35] and the incorporation of untouchability into an organised system of belief.[l][36] The Middle kingdoms exported Sanskrit language, south Indian scripts and religions of Hinduism and Buddhism to the Southeast Asia.[37]'''"
   ]
  },
  {
   "cell_type": "code",
   "execution_count": 232,
   "id": "eb876e1e-83f4-4716-b6ac-a34679e96040",
   "metadata": {},
   "outputs": [],
   "source": [
    "token1 = [word for word in word_tokenize(text) if word not in string.punctuation]"
   ]
  },
  {
   "cell_type": "code",
   "execution_count": 234,
   "id": "58fa8ef3-7341-4f1e-841f-2cdc8b087b54",
   "metadata": {},
   "outputs": [],
   "source": [
    "token2 = [word for word in token1 if word.lower() not in swords]"
   ]
  },
  {
   "cell_type": "code",
   "execution_count": 246,
   "id": "a5f0201a-416b-45ce-812f-7ffdf4685ffa",
   "metadata": {},
   "outputs": [],
   "source": [
    "from nltk import pos_tag\n",
    "pos = pos_tag(token2)\n",
    "tokens3 = set()\n",
    "for word, tipe in pos:\n",
    "    if tipe.startswith('VB') and word.isalpha():\n",
    "        tokens3.add(wnl.lemmatize(word.lower(), pos = 'v'))"
   ]
  },
  {
   "cell_type": "code",
   "execution_count": 248,
   "id": "44ec9882-f667-41b7-8f01-8eec0555cf42",
   "metadata": {},
   "outputs": [
    {
     "data": {
      "text/plain": [
       "{'arrive',\n",
       " 'base',\n",
       " 'bound',\n",
       " 'dawn',\n",
       " 'decline',\n",
       " 'diffuse',\n",
       " 'emerge',\n",
       " 'evolve',\n",
       " 'export',\n",
       " 'find',\n",
       " 'give',\n",
       " 'l',\n",
       " 'land',\n",
       " 'make',\n",
       " 'mark',\n",
       " 'organise',\n",
       " 'proclaim',\n",
       " 'suffuse',\n",
       " 'supplant',\n",
       " 'vary'}"
      ]
     },
     "execution_count": 248,
     "metadata": {},
     "output_type": "execute_result"
    }
   ],
   "source": [
    "tokens3"
   ]
  },
  {
   "cell_type": "markdown",
   "id": "1dc4c7c4-8460-44bd-b8d8-eed5189f1385",
   "metadata": {},
   "source": [
    "## "
   ]
  }
 ],
 "metadata": {
  "kernelspec": {
   "display_name": "Python 3 (ipykernel)",
   "language": "python",
   "name": "python3"
  },
  "language_info": {
   "codemirror_mode": {
    "name": "ipython",
    "version": 3
   },
   "file_extension": ".py",
   "mimetype": "text/x-python",
   "name": "python",
   "nbconvert_exporter": "python",
   "pygments_lexer": "ipython3",
   "version": "3.12.3"
  }
 },
 "nbformat": 4,
 "nbformat_minor": 5
}
