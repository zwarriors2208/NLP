{
 "cells": [
  {
   "cell_type": "code",
   "execution_count": 1,
   "id": "1b13084c-4b74-4a0b-911f-65e2bf820f86",
   "metadata": {},
   "outputs": [],
   "source": [
    "# pip install svgling # for graphical visualization"
   ]
  },
  {
   "cell_type": "code",
   "execution_count": 2,
   "id": "9530a754-2585-443b-8460-24e5861dc3ab",
   "metadata": {},
   "outputs": [],
   "source": [
    "from nltk.tokenize import word_tokenize\n",
    "from nltk import pos_tag, RegexpParser"
   ]
  },
  {
   "cell_type": "code",
   "execution_count": 3,
   "id": "31d95c11-4546-475b-aff1-4d45995b41b2",
   "metadata": {},
   "outputs": [],
   "source": [
    "sent = 'It was a good work done by him. An amazing play.'"
   ]
  },
  {
   "cell_type": "code",
   "execution_count": 4,
   "id": "49830653-11c1-4904-b405-3bb3e69002f5",
   "metadata": {},
   "outputs": [],
   "source": [
    "# Create a chunk grammar with one regular expression rule:\n",
    "''' According to the rule you created , your chunks:\n",
    "Start with an optional(?) determiner ('DT')\n",
    "Can have any number(*) of adjectives (JJ)\n",
    "End with a noun(<NN>)\n",
    "    \n",
    "'''\n",
    "grammar = \"NP: {<DT><JJ><NN>}\" # NP = Noun Phrase DT= Determinants JJ= Adjectives \n"
   ]
  },
  {
   "cell_type": "code",
   "execution_count": 5,
   "id": "ceb4f24e-efbb-4215-874e-3fdb0fae4355",
   "metadata": {},
   "outputs": [
    {
     "data": {
      "text/plain": [
       "'NP: {<DT><JJ><NN>}'"
      ]
     },
     "execution_count": 5,
     "metadata": {},
     "output_type": "execute_result"
    }
   ],
   "source": [
    "grammar"
   ]
  },
  {
   "cell_type": "code",
   "execution_count": 6,
   "id": "cde45361-d1ae-4111-ba90-af019573b251",
   "metadata": {},
   "outputs": [
    {
     "data": {
      "image/svg+xml": [
       "<svg baseProfile=\"full\" height=\"168px\" preserveAspectRatio=\"xMidYMid meet\" style=\"font-family: times, serif; font-weight: normal; font-style: normal; font-size: 16px\" version=\"1.1\" viewBox=\"0,0,528.0,168.0\" width=\"528px\" xmlns=\"http://www.w3.org/2000/svg\" xmlns:ev=\"http://www.w3.org/2001/xml-events\" xmlns:xlink=\"http://www.w3.org/1999/xlink\"><defs /><svg width=\"100%\" x=\"0\" y=\"0px\"><defs /><text text-anchor=\"middle\" x=\"50%\" y=\"16px\">S</text></svg><svg width=\"7.57576%\" x=\"0%\" y=\"48px\"><defs /><svg width=\"100%\" x=\"0\" y=\"0px\"><defs /><text text-anchor=\"middle\" x=\"50%\" y=\"16px\">It</text></svg><svg width=\"100%\" x=\"0%\" y=\"48px\"><defs /><svg width=\"100%\" x=\"0\" y=\"0px\"><defs /><text text-anchor=\"middle\" x=\"50%\" y=\"16px\">PRP</text></svg></svg><line stroke=\"black\" x1=\"50%\" x2=\"50%\" y1=\"20px\" y2=\"48px\" /></svg><line stroke=\"black\" x1=\"50%\" x2=\"3.78788%\" y1=\"20px\" y2=\"48px\" /><svg width=\"7.57576%\" x=\"7.57576%\" y=\"48px\"><defs /><svg width=\"100%\" x=\"0\" y=\"0px\"><defs /><text text-anchor=\"middle\" x=\"50%\" y=\"16px\">was</text></svg><svg width=\"100%\" x=\"0%\" y=\"48px\"><defs /><svg width=\"100%\" x=\"0\" y=\"0px\"><defs /><text text-anchor=\"middle\" x=\"50%\" y=\"16px\">VBD</text></svg></svg><line stroke=\"black\" x1=\"50%\" x2=\"50%\" y1=\"20px\" y2=\"48px\" /></svg><line stroke=\"black\" x1=\"50%\" x2=\"11.3636%\" y1=\"20px\" y2=\"48px\" /><svg width=\"24.2424%\" x=\"15.1515%\" y=\"48px\"><defs /><svg width=\"100%\" x=\"0\" y=\"0px\"><defs /><text text-anchor=\"middle\" x=\"50%\" y=\"16px\">NP</text></svg><svg width=\"25%\" x=\"0%\" y=\"48px\"><defs /><svg width=\"100%\" x=\"0\" y=\"0px\"><defs /><text text-anchor=\"middle\" x=\"50%\" y=\"16px\">a</text></svg><svg width=\"100%\" x=\"0%\" y=\"48px\"><defs /><svg width=\"100%\" x=\"0\" y=\"0px\"><defs /><text text-anchor=\"middle\" x=\"50%\" y=\"16px\">DT</text></svg></svg><line stroke=\"black\" x1=\"50%\" x2=\"50%\" y1=\"20px\" y2=\"48px\" /></svg><line stroke=\"black\" x1=\"50%\" x2=\"12.5%\" y1=\"20px\" y2=\"48px\" /><svg width=\"37.5%\" x=\"25%\" y=\"48px\"><defs /><svg width=\"100%\" x=\"0\" y=\"0px\"><defs /><text text-anchor=\"middle\" x=\"50%\" y=\"16px\">good</text></svg><svg width=\"100%\" x=\"0%\" y=\"48px\"><defs /><svg width=\"100%\" x=\"0\" y=\"0px\"><defs /><text text-anchor=\"middle\" x=\"50%\" y=\"16px\">JJ</text></svg></svg><line stroke=\"black\" x1=\"50%\" x2=\"50%\" y1=\"20px\" y2=\"48px\" /></svg><line stroke=\"black\" x1=\"50%\" x2=\"43.75%\" y1=\"20px\" y2=\"48px\" /><svg width=\"37.5%\" x=\"62.5%\" y=\"48px\"><defs /><svg width=\"100%\" x=\"0\" y=\"0px\"><defs /><text text-anchor=\"middle\" x=\"50%\" y=\"16px\">work</text></svg><svg width=\"100%\" x=\"0%\" y=\"48px\"><defs /><svg width=\"100%\" x=\"0\" y=\"0px\"><defs /><text text-anchor=\"middle\" x=\"50%\" y=\"16px\">NN</text></svg></svg><line stroke=\"black\" x1=\"50%\" x2=\"50%\" y1=\"20px\" y2=\"48px\" /></svg><line stroke=\"black\" x1=\"50%\" x2=\"81.25%\" y1=\"20px\" y2=\"48px\" /></svg><line stroke=\"black\" x1=\"50%\" x2=\"27.2727%\" y1=\"20px\" y2=\"48px\" /><svg width=\"9.09091%\" x=\"39.3939%\" y=\"48px\"><defs /><svg width=\"100%\" x=\"0\" y=\"0px\"><defs /><text text-anchor=\"middle\" x=\"50%\" y=\"16px\">done</text></svg><svg width=\"100%\" x=\"0%\" y=\"48px\"><defs /><svg width=\"100%\" x=\"0\" y=\"0px\"><defs /><text text-anchor=\"middle\" x=\"50%\" y=\"16px\">VBN</text></svg></svg><line stroke=\"black\" x1=\"50%\" x2=\"50%\" y1=\"20px\" y2=\"48px\" /></svg><line stroke=\"black\" x1=\"50%\" x2=\"43.9394%\" y1=\"20px\" y2=\"48px\" /><svg width=\"6.06061%\" x=\"48.4848%\" y=\"48px\"><defs /><svg width=\"100%\" x=\"0\" y=\"0px\"><defs /><text text-anchor=\"middle\" x=\"50%\" y=\"16px\">by</text></svg><svg width=\"100%\" x=\"0%\" y=\"48px\"><defs /><svg width=\"100%\" x=\"0\" y=\"0px\"><defs /><text text-anchor=\"middle\" x=\"50%\" y=\"16px\">IN</text></svg></svg><line stroke=\"black\" x1=\"50%\" x2=\"50%\" y1=\"20px\" y2=\"48px\" /></svg><line stroke=\"black\" x1=\"50%\" x2=\"51.5152%\" y1=\"20px\" y2=\"48px\" /><svg width=\"7.57576%\" x=\"54.5455%\" y=\"48px\"><defs /><svg width=\"100%\" x=\"0\" y=\"0px\"><defs /><text text-anchor=\"middle\" x=\"50%\" y=\"16px\">him</text></svg><svg width=\"100%\" x=\"0%\" y=\"48px\"><defs /><svg width=\"100%\" x=\"0\" y=\"0px\"><defs /><text text-anchor=\"middle\" x=\"50%\" y=\"16px\">PRP</text></svg></svg><line stroke=\"black\" x1=\"50%\" x2=\"50%\" y1=\"20px\" y2=\"48px\" /></svg><line stroke=\"black\" x1=\"50%\" x2=\"58.3333%\" y1=\"20px\" y2=\"48px\" /><svg width=\"4.54545%\" x=\"62.1212%\" y=\"48px\"><defs /><svg width=\"100%\" x=\"0\" y=\"0px\"><defs /><text text-anchor=\"middle\" x=\"50%\" y=\"16px\">.</text></svg><svg width=\"100%\" x=\"0%\" y=\"48px\"><defs /><svg width=\"100%\" x=\"0\" y=\"0px\"><defs /><text text-anchor=\"middle\" x=\"50%\" y=\"16px\">.</text></svg></svg><line stroke=\"black\" x1=\"50%\" x2=\"50%\" y1=\"20px\" y2=\"48px\" /></svg><line stroke=\"black\" x1=\"50%\" x2=\"64.3939%\" y1=\"20px\" y2=\"48px\" /><svg width=\"28.7879%\" x=\"66.6667%\" y=\"48px\"><defs /><svg width=\"100%\" x=\"0\" y=\"0px\"><defs /><text text-anchor=\"middle\" x=\"50%\" y=\"16px\">NP</text></svg><svg width=\"21.0526%\" x=\"0%\" y=\"48px\"><defs /><svg width=\"100%\" x=\"0\" y=\"0px\"><defs /><text text-anchor=\"middle\" x=\"50%\" y=\"16px\">An</text></svg><svg width=\"100%\" x=\"0%\" y=\"48px\"><defs /><svg width=\"100%\" x=\"0\" y=\"0px\"><defs /><text text-anchor=\"middle\" x=\"50%\" y=\"16px\">DT</text></svg></svg><line stroke=\"black\" x1=\"50%\" x2=\"50%\" y1=\"20px\" y2=\"48px\" /></svg><line stroke=\"black\" x1=\"50%\" x2=\"10.5263%\" y1=\"20px\" y2=\"48px\" /><svg width=\"47.3684%\" x=\"21.0526%\" y=\"48px\"><defs /><svg width=\"100%\" x=\"0\" y=\"0px\"><defs /><text text-anchor=\"middle\" x=\"50%\" y=\"16px\">amazing</text></svg><svg width=\"100%\" x=\"0%\" y=\"48px\"><defs /><svg width=\"100%\" x=\"0\" y=\"0px\"><defs /><text text-anchor=\"middle\" x=\"50%\" y=\"16px\">JJ</text></svg></svg><line stroke=\"black\" x1=\"50%\" x2=\"50%\" y1=\"20px\" y2=\"48px\" /></svg><line stroke=\"black\" x1=\"50%\" x2=\"44.7368%\" y1=\"20px\" y2=\"48px\" /><svg width=\"31.5789%\" x=\"68.4211%\" y=\"48px\"><defs /><svg width=\"100%\" x=\"0\" y=\"0px\"><defs /><text text-anchor=\"middle\" x=\"50%\" y=\"16px\">play</text></svg><svg width=\"100%\" x=\"0%\" y=\"48px\"><defs /><svg width=\"100%\" x=\"0\" y=\"0px\"><defs /><text text-anchor=\"middle\" x=\"50%\" y=\"16px\">NN</text></svg></svg><line stroke=\"black\" x1=\"50%\" x2=\"50%\" y1=\"20px\" y2=\"48px\" /></svg><line stroke=\"black\" x1=\"50%\" x2=\"84.2105%\" y1=\"20px\" y2=\"48px\" /></svg><line stroke=\"black\" x1=\"50%\" x2=\"81.0606%\" y1=\"20px\" y2=\"48px\" /><svg width=\"4.54545%\" x=\"95.4545%\" y=\"48px\"><defs /><svg width=\"100%\" x=\"0\" y=\"0px\"><defs /><text text-anchor=\"middle\" x=\"50%\" y=\"16px\">.</text></svg><svg width=\"100%\" x=\"0%\" y=\"48px\"><defs /><svg width=\"100%\" x=\"0\" y=\"0px\"><defs /><text text-anchor=\"middle\" x=\"50%\" y=\"16px\">.</text></svg></svg><line stroke=\"black\" x1=\"50%\" x2=\"50%\" y1=\"20px\" y2=\"48px\" /></svg><line stroke=\"black\" x1=\"50%\" x2=\"97.7273%\" y1=\"20px\" y2=\"48px\" /></svg>"
      ],
      "text/plain": [
       "Tree('S', [('It', 'PRP'), ('was', 'VBD'), Tree('NP', [('a', 'DT'), ('good', 'JJ'), ('work', 'NN')]), ('done', 'VBN'), ('by', 'IN'), ('him', 'PRP'), ('.', '.'), Tree('NP', [('An', 'DT'), ('amazing', 'JJ'), ('play', 'NN')]), ('.', '.')])"
      ]
     },
     "execution_count": 6,
     "metadata": {},
     "output_type": "execute_result"
    }
   ],
   "source": [
    "chunk_parser = RegexpParser(grammar)\n",
    "tags = pos_tag(word_tokenize(sent))\n",
    "tree = chunk_parser.parse(tags)\n",
    "tree"
   ]
  },
  {
   "cell_type": "code",
   "execution_count": 7,
   "id": "74d70ca8-0ac8-4e8f-8da9-f0aa62e0d4e5",
   "metadata": {},
   "outputs": [],
   "source": [
    "tree.draw()"
   ]
  },
  {
   "cell_type": "code",
   "execution_count": 22,
   "id": "8ade79a3-a5ea-4e8f-9902-2bfa0ec0dd35",
   "metadata": {},
   "outputs": [],
   "source": [
    "grammar1= \"VP:{<PRP><VBD>}\"\n",
    "sent1= \"They were watching the game. It was just thrilling.\""
   ]
  },
  {
   "cell_type": "code",
   "execution_count": 26,
   "id": "10c6b373-9344-4da8-8790-f0b4d201a26f",
   "metadata": {},
   "outputs": [],
   "source": [
    "chunk_parser = RegexpParser(grammar1)\n",
    "tags2 = pos_tag(word_tokenize(sent1))\n",
    "tree2 = chunk_parser.parse(tags2)\n",
    "tree2.draw()"
   ]
  },
  {
   "cell_type": "code",
   "execution_count": 28,
   "id": "0484d95f-7db9-4252-93e9-e66b5dfc4239",
   "metadata": {},
   "outputs": [
    {
     "name": "stdout",
     "output_type": "stream",
     "text": [
      "Help on method draw in module nltk.tree.tree:\n",
      "\n",
      "draw() method of nltk.tree.tree.Tree instance\n",
      "    Open a new window containing a graphical diagram of this tree.\n",
      "\n"
     ]
    }
   ],
   "source": [
    "help(tree2.draw)"
   ]
  },
  {
   "cell_type": "code",
   "execution_count": 32,
   "id": "630e1af1-ef6c-405f-a749-2be89f52cbb6",
   "metadata": {},
   "outputs": [],
   "source": [
    "sent2= '''Exhausted from the long hike , we finally reached the summit, breathlessly admiring the breathtaking panoramic view.'''\n",
    "grammar2= 'VP: {<RB><VBG>}' #RB is for adverb "
   ]
  },
  {
   "cell_type": "code",
   "execution_count": 36,
   "id": "af31baa8-2b1f-4a58-a0c7-c05568adb377",
   "metadata": {},
   "outputs": [],
   "source": [
    "chunk_parser= RegexpParser(grammar2)\n",
    "tags= pos_tag(word_tokenize(sent2))\n",
    "tree= chunk_parser.parse(tags)\n",
    "tree.draw()"
   ]
  },
  {
   "cell_type": "code",
   "execution_count": 39,
   "id": "ef10cf17-3513-4d21-baae-18794caf0f12",
   "metadata": {},
   "outputs": [],
   "source": [
    "grammar = \"NP: {<DT>?<JJ><NN>}\" # DT becomes optional before JJ and NN\n",
    "sent = 'It was good work done by him. An amazing play.'"
   ]
  },
  {
   "cell_type": "code",
   "execution_count": 40,
   "id": "edf88ede-5582-4318-a363-5d74a0db5179",
   "metadata": {},
   "outputs": [],
   "source": [
    "chunk_parser= RegexpParser(grammar)\n",
    "tags= pos_tag(word_tokenize(sent))\n",
    "tree= chunk_parser.parse(tags)\n",
    "tree.draw()"
   ]
  },
  {
   "cell_type": "code",
   "execution_count": 53,
   "id": "c38655f3-3a16-4bf1-9f49-3e315b5d0958",
   "metadata": {},
   "outputs": [],
   "source": [
    "grammar = \"NP: {<DT><JJ>*<NN>}\"\n",
    "sent = 'It was a work done by him. An amazing play.'"
   ]
  },
  {
   "cell_type": "code",
   "execution_count": 55,
   "id": "219878f5-7841-44da-a8d7-df8bb5ded125",
   "metadata": {},
   "outputs": [],
   "source": [
    "chunk_parser= RegexpParser(grammar)\n",
    "tags= pos_tag(word_tokenize(sent))\n",
    "tree= chunk_parser.parse(tags)\n",
    "tree.draw()"
   ]
  },
  {
   "cell_type": "code",
   "execution_count": null,
   "id": "f19ece0b-d654-426f-8d98-15b3da86a096",
   "metadata": {},
   "outputs": [],
   "source": []
  }
 ],
 "metadata": {
  "kernelspec": {
   "display_name": "Python 3 (ipykernel)",
   "language": "python",
   "name": "python3"
  },
  "language_info": {
   "codemirror_mode": {
    "name": "ipython",
    "version": 3
   },
   "file_extension": ".py",
   "mimetype": "text/x-python",
   "name": "python",
   "nbconvert_exporter": "python",
   "pygments_lexer": "ipython3",
   "version": "3.12.3"
  }
 },
 "nbformat": 4,
 "nbformat_minor": 5
}
