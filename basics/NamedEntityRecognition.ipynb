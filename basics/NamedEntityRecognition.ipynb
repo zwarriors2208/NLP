{
 "cells": [
  {
   "cell_type": "code",
   "execution_count": 1,
   "id": "57413123-61f5-487c-945b-12d8f9c04c89",
   "metadata": {
    "scrolled": true
   },
   "outputs": [],
   "source": [
    "# pip install spacy"
   ]
  },
  {
   "cell_type": "code",
   "execution_count": 2,
   "id": "9d528ea7-0c6a-4130-9bac-1b495550a049",
   "metadata": {},
   "outputs": [],
   "source": [
    "# nltk.download('maxent_ne_chunker') # maxent_ne = MaximumEntropy named entity\n",
    "# nltk.download('maxent_ne_chunker_tab') # below 2 numpy required, 1.26.4 numpy \n",
    "# nltk.download('words')"
   ]
  },
  {
   "cell_type": "code",
   "execution_count": 3,
   "id": "10fd642a-8f2c-4053-a21c-bf5a391ef349",
   "metadata": {},
   "outputs": [],
   "source": [
    "# pip install numpy==1.26.4"
   ]
  },
  {
   "cell_type": "code",
   "execution_count": 4,
   "id": "eb2c803f-339a-4639-9e1f-6edfdf6e55b9",
   "metadata": {},
   "outputs": [],
   "source": [
    "from nltk import word_tokenize, pos_tag, ne_chunk\n",
    "import nltk\n",
    "# Sample text\n",
    "text= 'Sachin Tendulkar was born in Mumbai, India on April 24, 1974.'"
   ]
  },
  {
   "cell_type": "code",
   "execution_count": 5,
   "id": "e55d3efb-5b4c-4739-87fa-4c7a85ef062c",
   "metadata": {},
   "outputs": [
    {
     "name": "stdout",
     "output_type": "stream",
     "text": [
      "(S\n",
      "  (PERSON Sachin/NNP)\n",
      "  (PERSON Tendulkar/NNP)\n",
      "  was/VBD\n",
      "  born/VBN\n",
      "  in/IN\n",
      "  (GPE Mumbai/NNP)\n",
      "  ,/,\n",
      "  (GPE India/NNP)\n",
      "  on/IN\n",
      "  April/NNP\n",
      "  24/CD\n",
      "  ,/,\n",
      "  1974/CD\n",
      "  ./.)\n"
     ]
    }
   ],
   "source": [
    "#Tokenize the text into words\n",
    "tokens = word_tokenize(text)\n",
    "\n",
    "# POS Tagging\n",
    "tagged_tokens= pos_tag(tokens)\n",
    "\n",
    "# Perform Named Entity Recognition(NER)\n",
    "ner_tree= ne_chunk(tagged_tokens)\n",
    "\n",
    "#Display the NER tree\n",
    "print(ner_tree)\n"
   ]
  },
  {
   "cell_type": "code",
   "execution_count": 6,
   "id": "11397435-6f96-4c69-9dea-82bfbaac2e82",
   "metadata": {},
   "outputs": [],
   "source": [
    "# CD= Cardinal Digit "
   ]
  },
  {
   "cell_type": "code",
   "execution_count": 7,
   "id": "dd882de8-039a-4e9e-b6d3-3afc5725fd68",
   "metadata": {},
   "outputs": [],
   "source": [
    "ner_tree.draw()"
   ]
  },
  {
   "cell_type": "code",
   "execution_count": 8,
   "id": "a9e035ec-cb1a-4821-bd9d-15870c9284d4",
   "metadata": {},
   "outputs": [
    {
     "data": {
      "text/plain": [
       "[(('Sachin', 'NNP'), 'PERSON'),\n",
       " (('Tendulkar', 'NNP'), 'PERSON'),\n",
       " (('was', 'VBD'), 'S'),\n",
       " (('born', 'VBN'), 'S'),\n",
       " (('in', 'IN'), 'S'),\n",
       " (('Mumbai', 'NNP'), 'GPE'),\n",
       " ((',', ','), 'S'),\n",
       " (('India', 'NNP'), 'GPE'),\n",
       " (('on', 'IN'), 'S'),\n",
       " (('April', 'NNP'), 'S'),\n",
       " (('24', 'CD'), 'S'),\n",
       " ((',', ','), 'S'),\n",
       " (('1974', 'CD'), 'S'),\n",
       " (('.', '.'), 'S')]"
      ]
     },
     "execution_count": 8,
     "metadata": {},
     "output_type": "execute_result"
    }
   ],
   "source": [
    "ner_tree.pos() #Unlabelled is shown 'S'"
   ]
  },
  {
   "cell_type": "code",
   "execution_count": 9,
   "id": "d90a3c11-49b6-4824-b3e9-326f9cfe935c",
   "metadata": {},
   "outputs": [
    {
     "ename": "NameError",
     "evalue": "name 'l1' is not defined",
     "output_type": "error",
     "traceback": [
      "\u001b[1;31m---------------------------------------------------------------------------\u001b[0m",
      "\u001b[1;31mNameError\u001b[0m                                 Traceback (most recent call last)",
      "Cell \u001b[1;32mIn[9], line 1\u001b[0m\n\u001b[1;32m----> 1\u001b[0m [(i[\u001b[38;5;241m0\u001b[39m][\u001b[38;5;241m0\u001b[39m], i[\u001b[38;5;241m1\u001b[39m]) \u001b[38;5;28;01mfor\u001b[39;00m i \u001b[38;5;129;01min\u001b[39;00m \u001b[43ml1\u001b[49m \u001b[38;5;28;01mif\u001b[39;00m i[\u001b[38;5;241m1\u001b[39m] \u001b[38;5;241m!=\u001b[39m \u001b[38;5;124m'\u001b[39m\u001b[38;5;124mS\u001b[39m\u001b[38;5;124m'\u001b[39m]\n",
      "\u001b[1;31mNameError\u001b[0m: name 'l1' is not defined"
     ]
    }
   ],
   "source": [
    "[(i[0][0], i[1]) for i in l1 if i[1] != 'S']"
   ]
  },
  {
   "cell_type": "markdown",
   "id": "7509f88f-7bce-4890-813d-fe6d3363f668",
   "metadata": {},
   "source": [
    "# using spacy"
   ]
  },
  {
   "cell_type": "code",
   "execution_count": 17,
   "id": "df078332-151e-4a39-89eb-24ed951ebe5d",
   "metadata": {},
   "outputs": [],
   "source": [
    "import spacy"
   ]
  },
  {
   "cell_type": "code",
   "execution_count": 29,
   "id": "b1d1fbf1-358e-49b6-9a4e-aa9b289b9c82",
   "metadata": {},
   "outputs": [
    {
     "name": "stdout",
     "output_type": "stream",
     "text": [
      "Collecting en-core-web-sm==3.8.0\n",
      "  Downloading https://github.com/explosion/spacy-models/releases/download/en_core_web_sm-3.8.0/en_core_web_sm-3.8.0-py3-none-any.whl (12.8 MB)\n",
      "     ---------------------------------------- 0.0/12.8 MB ? eta -:--:--\n",
      "     ------- -------------------------------- 2.4/12.8 MB 76.0 MB/s eta 0:00:01\n",
      "     ------------------------ -------------- 7.9/12.8 MB 101.2 MB/s eta 0:00:01\n",
      "     ------------------------------------ - 12.3/12.8 MB 108.8 MB/s eta 0:00:01\n",
      "     -------------------------------------  12.8/12.8 MB 108.8 MB/s eta 0:00:01\n",
      "     --------------------------------------- 12.8/12.8 MB 65.5 MB/s eta 0:00:00\n",
      "Installing collected packages: en-core-web-sm\n",
      "Successfully installed en-core-web-sm-3.8.0\n",
      "\u001b[38;5;2m[+] Download and installation successful\u001b[0m\n",
      "You can now load the package via spacy.load('en_core_web_sm')\n"
     ]
    }
   ],
   "source": [
    "!python -m spacy download en_core_web_sm"
   ]
  },
  {
   "cell_type": "code",
   "execution_count": 33,
   "id": "1804e5e9-7dab-4969-963e-a9935392a5df",
   "metadata": {},
   "outputs": [],
   "source": [
    "nlp = spacy.load('en_core_web_sm')"
   ]
  },
  {
   "cell_type": "code",
   "execution_count": 57,
   "id": "c40b17fa-1602-41e5-bdd1-f4e1c8f5a425",
   "metadata": {},
   "outputs": [],
   "source": [
    "sent = nlp('''Mark Zukerberg will meet Aditya Joshi in New York, USA on Monday 21, 2024 4 pm for $3 Trillion deal.''')"
   ]
  },
  {
   "cell_type": "code",
   "execution_count": 59,
   "id": "571f8765-e14f-47f3-bcd4-0ea482b248b8",
   "metadata": {},
   "outputs": [
    {
     "data": {
      "text/plain": [
       "Mark Zukerberg will meet Aditya Joshi in New York, USA on Monday 21, 2024 4 pm for $3 Trillion deal."
      ]
     },
     "execution_count": 59,
     "metadata": {},
     "output_type": "execute_result"
    }
   ],
   "source": [
    "sent"
   ]
  },
  {
   "cell_type": "code",
   "execution_count": 61,
   "id": "0bd2ab87-20d2-4dfc-b843-0c46c11c83a6",
   "metadata": {},
   "outputs": [
    {
     "data": {
      "text/plain": [
       "(Mark Zukerberg,\n",
       " Aditya Joshi,\n",
       " New York,\n",
       " USA,\n",
       " Monday 21, 2024 4 pm,\n",
       " $3 Trillion)"
      ]
     },
     "execution_count": 61,
     "metadata": {},
     "output_type": "execute_result"
    }
   ],
   "source": [
    "sent.ents"
   ]
  },
  {
   "cell_type": "code",
   "execution_count": 63,
   "id": "3aa34004-ec0b-40da-8ebc-c912aea91903",
   "metadata": {},
   "outputs": [
    {
     "name": "stdout",
     "output_type": "stream",
     "text": [
      "Mark Zukerberg --> PERSON\n",
      "Aditya Joshi --> PERSON\n",
      "New York --> GPE\n",
      "USA --> GPE\n",
      "Monday 21, 2024 4 pm --> DATE\n",
      "$3 Trillion --> MONEY\n"
     ]
    }
   ],
   "source": [
    "for word in sent.ents:\n",
    "    print(word.ents[0], '-->', word.label_)\n"
   ]
  },
  {
   "cell_type": "code",
   "execution_count": 65,
   "id": "cb96ce44-36e6-4c0a-8726-e6a28bad3dbc",
   "metadata": {},
   "outputs": [
    {
     "name": "stdout",
     "output_type": "stream",
     "text": [
      "Sachin Tendulkar --> PERSON\n",
      "Mumbai --> GPE\n",
      "India --> GPE\n",
      "April 24, 1974 --> DATE\n"
     ]
    }
   ],
   "source": [
    "sent = nlp(text)\n",
    "for word in sent.ents:\n",
    "    print(word.ents[0], '-->', word.label_)"
   ]
  },
  {
   "cell_type": "code",
   "execution_count": 67,
   "id": "837fc1e1-d2ea-497d-842f-625b6e50adc9",
   "metadata": {},
   "outputs": [
    {
     "data": {
      "text/plain": [
       "'People, including fictional'"
      ]
     },
     "metadata": {},
     "output_type": "display_data"
    },
    {
     "data": {
      "text/plain": [
       "'Monetary values, including unit'"
      ]
     },
     "metadata": {},
     "output_type": "display_data"
    },
    {
     "data": {
      "text/plain": [
       "'Countries, cities, states'"
      ]
     },
     "metadata": {},
     "output_type": "display_data"
    },
    {
     "data": {
      "text/plain": [
       "'Numerals that do not fall under another type'"
      ]
     },
     "metadata": {},
     "output_type": "display_data"
    },
    {
     "data": {
      "text/plain": [
       "'Absolute or relative dates or periods'"
      ]
     },
     "metadata": {},
     "output_type": "display_data"
    }
   ],
   "source": [
    "display(spacy.explain('PERSON'))\n",
    "display(spacy.explain('MONEY'))\n",
    "display(spacy.explain('GPE'))\n",
    "display(spacy.explain('CARDINAL'))\n",
    "display(spacy.explain('DATE'))"
   ]
  },
  {
   "cell_type": "code",
   "execution_count": 69,
   "id": "b6a4d423-4b28-4a00-a92c-b3728d647f48",
   "metadata": {},
   "outputs": [],
   "source": [
    "raw_text = 'Indigenous people have lived in Alaska for thousands of years, and it is widely believed that the region served as the entry point for the initial settlement of North America by way of the Bering land bridge. The Russian Empire was the first to actively colonize the area beginning in the 18th century, eventually establishing Russian America, which spanned most of the current state and promoted and maintained a native Alaskan Creole population.[7] The expense and logistical difficulty of maintaining this distant possession prompted its sale to the U.S. in 1867 for US$7.2 million (equivalent to $157 million in 2023). The area went through several administrative changes before becoming organized as a territory on May 11, 1912. It was admitted as the 49th state of the U.S. on January 3, 1959.'"
   ]
  },
  {
   "cell_type": "code",
   "execution_count": 71,
   "id": "a17b0448-af7b-45b9-908c-47c47aa13245",
   "metadata": {},
   "outputs": [
    {
     "name": "stdout",
     "output_type": "stream",
     "text": [
      "Alaska --> GPE\n",
      "thousands of years --> DATE\n",
      "North America --> LOC\n",
      "Bering --> GPE\n",
      "The Russian Empire --> GPE\n",
      "first --> ORDINAL\n",
      "the 18th century --> DATE\n",
      "Russian America --> LOC\n",
      "Alaskan --> NORP\n",
      "U.S. --> GPE\n",
      "1867 --> DATE\n",
      "US$7.2 million --> MONEY\n",
      "$157 million --> MONEY\n",
      "2023 --> DATE\n",
      "May 11, 1912 --> DATE\n",
      "49th --> ORDINAL\n",
      "U.S. --> GPE\n",
      "January 3, 1959 --> DATE\n"
     ]
    }
   ],
   "source": [
    "sent = nlp(raw_text)\n",
    "for word in sent.ents:\n",
    "    print(word.ents[0], '-->', word.label_)"
   ]
  },
  {
   "cell_type": "code",
   "execution_count": 77,
   "id": "4ec758b5-8a33-4bf6-9c84-d8690f885c14",
   "metadata": {},
   "outputs": [
    {
     "data": {
      "text/plain": [
       "'Non-GPE locations, mountain ranges, bodies of water'"
      ]
     },
     "execution_count": 77,
     "metadata": {},
     "output_type": "execute_result"
    }
   ],
   "source": [
    "spacy.explain('LOC')"
   ]
  },
  {
   "cell_type": "code",
   "execution_count": 79,
   "id": "5520fb6f-2dc8-41cb-8eb9-5b11cdc30e53",
   "metadata": {},
   "outputs": [
    {
     "data": {
      "text/plain": [
       "'Nationalities or religious or political groups'"
      ]
     },
     "execution_count": 79,
     "metadata": {},
     "output_type": "execute_result"
    }
   ],
   "source": [
    "spacy.explain('NORP')"
   ]
  },
  {
   "cell_type": "code",
   "execution_count": 81,
   "id": "ce02abd3-fba9-40c7-969e-755a9f414f4e",
   "metadata": {},
   "outputs": [
    {
     "data": {
      "text/plain": [
       "'\"first\", \"second\", etc.'"
      ]
     },
     "execution_count": 81,
     "metadata": {},
     "output_type": "execute_result"
    }
   ],
   "source": [
    "spacy.explain('ORDINAL')"
   ]
  },
  {
   "cell_type": "code",
   "execution_count": 85,
   "id": "0e125e08-6cac-4066-8341-faf8a3447ba2",
   "metadata": {},
   "outputs": [
    {
     "name": "stdout",
     "output_type": "stream",
     "text": [
      "3.8.2\n"
     ]
    }
   ],
   "source": [
    "print(spacy.__version__)"
   ]
  },
  {
   "cell_type": "code",
   "execution_count": 87,
   "id": "f552e467-c160-43b1-84a2-d8e3ca86b113",
   "metadata": {},
   "outputs": [],
   "source": [
    "#### display the NER in interactive way"
   ]
  },
  {
   "cell_type": "code",
   "execution_count": 89,
   "id": "b6b19766-f5ab-4a88-82d3-79496753f95b",
   "metadata": {},
   "outputs": [],
   "source": [
    "from spacy import displacy"
   ]
  },
  {
   "cell_type": "code",
   "execution_count": 95,
   "id": "50c6d097-845b-477f-8e73-30b52255e212",
   "metadata": {},
   "outputs": [
    {
     "data": {
      "text/html": [
       "<span class=\"tex2jax_ignore\"><div class=\"entities\" style=\"line-height: 2.5; direction: ltr\">Indigenous people have lived in \n",
       "<mark class=\"entity\" style=\"background: #feca74; padding: 0.45em 0.6em; margin: 0 0.25em; line-height: 1; border-radius: 0.35em;\">\n",
       "    Alaska\n",
       "    <span style=\"font-size: 0.8em; font-weight: bold; line-height: 1; border-radius: 0.35em; vertical-align: middle; margin-left: 0.5rem\">GPE</span>\n",
       "</mark>\n",
       " for \n",
       "<mark class=\"entity\" style=\"background: #bfe1d9; padding: 0.45em 0.6em; margin: 0 0.25em; line-height: 1; border-radius: 0.35em;\">\n",
       "    thousands of years\n",
       "    <span style=\"font-size: 0.8em; font-weight: bold; line-height: 1; border-radius: 0.35em; vertical-align: middle; margin-left: 0.5rem\">DATE</span>\n",
       "</mark>\n",
       ", and it is widely believed that the region served as the entry point for the initial settlement of \n",
       "<mark class=\"entity\" style=\"background: #ff9561; padding: 0.45em 0.6em; margin: 0 0.25em; line-height: 1; border-radius: 0.35em;\">\n",
       "    North America\n",
       "    <span style=\"font-size: 0.8em; font-weight: bold; line-height: 1; border-radius: 0.35em; vertical-align: middle; margin-left: 0.5rem\">LOC</span>\n",
       "</mark>\n",
       " by way of the \n",
       "<mark class=\"entity\" style=\"background: #feca74; padding: 0.45em 0.6em; margin: 0 0.25em; line-height: 1; border-radius: 0.35em;\">\n",
       "    Bering\n",
       "    <span style=\"font-size: 0.8em; font-weight: bold; line-height: 1; border-radius: 0.35em; vertical-align: middle; margin-left: 0.5rem\">GPE</span>\n",
       "</mark>\n",
       " land bridge. \n",
       "<mark class=\"entity\" style=\"background: #feca74; padding: 0.45em 0.6em; margin: 0 0.25em; line-height: 1; border-radius: 0.35em;\">\n",
       "    The Russian Empire\n",
       "    <span style=\"font-size: 0.8em; font-weight: bold; line-height: 1; border-radius: 0.35em; vertical-align: middle; margin-left: 0.5rem\">GPE</span>\n",
       "</mark>\n",
       " was the \n",
       "<mark class=\"entity\" style=\"background: #e4e7d2; padding: 0.45em 0.6em; margin: 0 0.25em; line-height: 1; border-radius: 0.35em;\">\n",
       "    first\n",
       "    <span style=\"font-size: 0.8em; font-weight: bold; line-height: 1; border-radius: 0.35em; vertical-align: middle; margin-left: 0.5rem\">ORDINAL</span>\n",
       "</mark>\n",
       " to actively colonize the area beginning in \n",
       "<mark class=\"entity\" style=\"background: #bfe1d9; padding: 0.45em 0.6em; margin: 0 0.25em; line-height: 1; border-radius: 0.35em;\">\n",
       "    the 18th century\n",
       "    <span style=\"font-size: 0.8em; font-weight: bold; line-height: 1; border-radius: 0.35em; vertical-align: middle; margin-left: 0.5rem\">DATE</span>\n",
       "</mark>\n",
       ", eventually establishing \n",
       "<mark class=\"entity\" style=\"background: #ff9561; padding: 0.45em 0.6em; margin: 0 0.25em; line-height: 1; border-radius: 0.35em;\">\n",
       "    Russian America\n",
       "    <span style=\"font-size: 0.8em; font-weight: bold; line-height: 1; border-radius: 0.35em; vertical-align: middle; margin-left: 0.5rem\">LOC</span>\n",
       "</mark>\n",
       ", which spanned most of the current state and promoted and maintained a native \n",
       "<mark class=\"entity\" style=\"background: #c887fb; padding: 0.45em 0.6em; margin: 0 0.25em; line-height: 1; border-radius: 0.35em;\">\n",
       "    Alaskan\n",
       "    <span style=\"font-size: 0.8em; font-weight: bold; line-height: 1; border-radius: 0.35em; vertical-align: middle; margin-left: 0.5rem\">NORP</span>\n",
       "</mark>\n",
       " Creole population.[7] The expense and logistical difficulty of maintaining this distant possession prompted its sale to the \n",
       "<mark class=\"entity\" style=\"background: #feca74; padding: 0.45em 0.6em; margin: 0 0.25em; line-height: 1; border-radius: 0.35em;\">\n",
       "    U.S.\n",
       "    <span style=\"font-size: 0.8em; font-weight: bold; line-height: 1; border-radius: 0.35em; vertical-align: middle; margin-left: 0.5rem\">GPE</span>\n",
       "</mark>\n",
       " in \n",
       "<mark class=\"entity\" style=\"background: #bfe1d9; padding: 0.45em 0.6em; margin: 0 0.25em; line-height: 1; border-radius: 0.35em;\">\n",
       "    1867\n",
       "    <span style=\"font-size: 0.8em; font-weight: bold; line-height: 1; border-radius: 0.35em; vertical-align: middle; margin-left: 0.5rem\">DATE</span>\n",
       "</mark>\n",
       " for \n",
       "<mark class=\"entity\" style=\"background: #e4e7d2; padding: 0.45em 0.6em; margin: 0 0.25em; line-height: 1; border-radius: 0.35em;\">\n",
       "    US$7.2 million\n",
       "    <span style=\"font-size: 0.8em; font-weight: bold; line-height: 1; border-radius: 0.35em; vertical-align: middle; margin-left: 0.5rem\">MONEY</span>\n",
       "</mark>\n",
       " (equivalent to \n",
       "<mark class=\"entity\" style=\"background: #e4e7d2; padding: 0.45em 0.6em; margin: 0 0.25em; line-height: 1; border-radius: 0.35em;\">\n",
       "    $157 million\n",
       "    <span style=\"font-size: 0.8em; font-weight: bold; line-height: 1; border-radius: 0.35em; vertical-align: middle; margin-left: 0.5rem\">MONEY</span>\n",
       "</mark>\n",
       " in \n",
       "<mark class=\"entity\" style=\"background: #bfe1d9; padding: 0.45em 0.6em; margin: 0 0.25em; line-height: 1; border-radius: 0.35em;\">\n",
       "    2023\n",
       "    <span style=\"font-size: 0.8em; font-weight: bold; line-height: 1; border-radius: 0.35em; vertical-align: middle; margin-left: 0.5rem\">DATE</span>\n",
       "</mark>\n",
       "). The area went through several administrative changes before becoming organized as a territory on \n",
       "<mark class=\"entity\" style=\"background: #bfe1d9; padding: 0.45em 0.6em; margin: 0 0.25em; line-height: 1; border-radius: 0.35em;\">\n",
       "    May 11, 1912\n",
       "    <span style=\"font-size: 0.8em; font-weight: bold; line-height: 1; border-radius: 0.35em; vertical-align: middle; margin-left: 0.5rem\">DATE</span>\n",
       "</mark>\n",
       ". It was admitted as the \n",
       "<mark class=\"entity\" style=\"background: #e4e7d2; padding: 0.45em 0.6em; margin: 0 0.25em; line-height: 1; border-radius: 0.35em;\">\n",
       "    49th\n",
       "    <span style=\"font-size: 0.8em; font-weight: bold; line-height: 1; border-radius: 0.35em; vertical-align: middle; margin-left: 0.5rem\">ORDINAL</span>\n",
       "</mark>\n",
       " state of the \n",
       "<mark class=\"entity\" style=\"background: #feca74; padding: 0.45em 0.6em; margin: 0 0.25em; line-height: 1; border-radius: 0.35em;\">\n",
       "    U.S.\n",
       "    <span style=\"font-size: 0.8em; font-weight: bold; line-height: 1; border-radius: 0.35em; vertical-align: middle; margin-left: 0.5rem\">GPE</span>\n",
       "</mark>\n",
       " on \n",
       "<mark class=\"entity\" style=\"background: #bfe1d9; padding: 0.45em 0.6em; margin: 0 0.25em; line-height: 1; border-radius: 0.35em;\">\n",
       "    January 3, 1959\n",
       "    <span style=\"font-size: 0.8em; font-weight: bold; line-height: 1; border-radius: 0.35em; vertical-align: middle; margin-left: 0.5rem\">DATE</span>\n",
       "</mark>\n",
       ".</div></span>"
      ],
      "text/plain": [
       "<IPython.core.display.HTML object>"
      ]
     },
     "metadata": {},
     "output_type": "display_data"
    }
   ],
   "source": [
    "displacy.render(sent, style = 'ent', jupyter = True)"
   ]
  },
  {
   "cell_type": "code",
   "execution_count": null,
   "id": "f0d401f6-58dc-40aa-8d1d-44a86df17792",
   "metadata": {},
   "outputs": [],
   "source": [
    "=-===-=-=-=-=-=-=-=-=-==-=-=-=--=-=-=-=-=-=-==-=-=-=-=-=-=-=-=-=-==-=-==-==-=-="
   ]
  }
 ],
 "metadata": {
  "kernelspec": {
   "display_name": "Python 3 (ipykernel)",
   "language": "python",
   "name": "python3"
  },
  "language_info": {
   "codemirror_mode": {
    "name": "ipython",
    "version": 3
   },
   "file_extension": ".py",
   "mimetype": "text/x-python",
   "name": "python",
   "nbconvert_exporter": "python",
   "pygments_lexer": "ipython3",
   "version": "3.12.3"
  }
 },
 "nbformat": 4,
 "nbformat_minor": 5
}
