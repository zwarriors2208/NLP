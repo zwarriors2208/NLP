{
 "cells": [
  {
   "cell_type": "markdown",
   "id": "86ce691f-b5ea-4c01-964c-7ba588f7ad6d",
   "metadata": {},
   "source": [
    "# Automatic Speech Recognition"
   ]
  },
  {
   "cell_type": "markdown",
   "id": "5d479dcc-eb14-400b-9e5e-35825ce92f4e",
   "metadata": {},
   "source": [
    "## installing libraries"
   ]
  },
  {
   "cell_type": "code",
   "execution_count": 3,
   "id": "a5cc1bef-213c-4348-9b09-88d6ad19b553",
   "metadata": {
    "scrolled": true
   },
   "outputs": [],
   "source": [
    "# pip install speechrecognition pyaudio -U"
   ]
  },
  {
   "cell_type": "markdown",
   "id": "b58b970e-fc61-4a1a-9e0c-8b142d7a3781",
   "metadata": {},
   "source": [
    "## importing libraries"
   ]
  },
  {
   "cell_type": "code",
   "execution_count": 5,
   "id": "e653d1d0-152d-4888-98ab-acb584273a09",
   "metadata": {},
   "outputs": [],
   "source": [
    "import speech_recognition as sr"
   ]
  },
  {
   "cell_type": "markdown",
   "id": "c32feda2-df42-48fd-a061-e48c889010cf",
   "metadata": {},
   "source": [
    "## Notes\n",
    "`sr.Recognizer()`:\n",
    "Creates a Recognizer object, which processes the audio input to convert speech to text.\n",
    "\n",
    "\n",
    "`sr.Microphone()`:\n",
    "This is used to access the microphone as the source of audio input.\n",
    "\n",
    "\n",
    "`r.adjust_for_ambient_noise(source)`:\n",
    "Adjusts for background noise to improve the accuracy of the speech recognition by calibrating the energy threshold for ambient noise.\n",
    "\n",
    "\n",
    "`audio = r.listen(source)`:\n",
    "Listens to the audio from the microphone and captures it as an audio object.\n",
    "\n",
    "\n",
    "`r.recognize_google(audio)`:\n",
    "Sends the recorded audio to Google's speech recognition API and returns the transcribed text."
   ]
  },
  {
   "cell_type": "markdown",
   "id": "adea8c47-57c8-49e9-aadb-018168ee8072",
   "metadata": {},
   "source": [
    "### instatiate the objext"
   ]
  },
  {
   "cell_type": "code",
   "execution_count": 8,
   "id": "e9e890eb-81f9-4ce8-8c6e-3a8de0869f1e",
   "metadata": {},
   "outputs": [],
   "source": [
    "r = sr.Recognizer()"
   ]
  },
  {
   "cell_type": "markdown",
   "id": "6a6588f7-3a80-486d-87af-d5a2ae2f4129",
   "metadata": {},
   "source": [
    "### REad the audio"
   ]
  },
  {
   "cell_type": "code",
   "execution_count": 10,
   "id": "5c1b5f21-c2b7-4642-aab2-704f482fa6b0",
   "metadata": {},
   "outputs": [],
   "source": [
    "# import speech_recognition as sr\n",
    "\n",
    "# r = sr.Recognizer()\n",
    "\n",
    "# with sr.Microphone() as source:\n",
    "#     print(\"Adjusting for ambient noise, please wait...\")\n",
    "#     r.adjust_for_ambient_noise(source, duration=1)\n",
    "#     print('Speak: ')\n",
    "#     try:\n",
    "#         audio = r.listen(source)\n",
    "#         print('You said:', r.recognize_google(audio))\n",
    "#     except sr.UnknownValueError:\n",
    "#         print(\"Sorry, I couldn't understand the audio.\")\n",
    "#     except sr.RequestError as e:\n",
    "#         print(f\"Could not request results from Google Speech Recognition service; {e}\")\n"
   ]
  },
  {
   "cell_type": "code",
   "execution_count": 17,
   "id": "c7d94fbb-d1ea-4595-ab36-1d2aa2b0deae",
   "metadata": {},
   "outputs": [
    {
     "name": "stdout",
     "output_type": "stream",
     "text": [
      "Speak: \n",
      "You said: hello world\n"
     ]
    }
   ],
   "source": [
    "with sr.Microphone() as source:\n",
    "    r.adjust_for_ambient_noise(source)\n",
    "    print('Speak: ')\n",
    "    audio = r.listen(source)\n",
    "    print('You said:', r.recognize_google(audio))"
   ]
  },
  {
   "cell_type": "markdown",
   "id": "50c047c7-8777-4ec5-b491-077b6fef2249",
   "metadata": {},
   "source": [
    "# Another library"
   ]
  },
  {
   "cell_type": "markdown",
   "id": "c3a79976-db9a-45a8-bd3a-0a211fd3c2ac",
   "metadata": {},
   "source": [
    "- `Sphinx recognizer`, which is an offline alternative to Google's online recognizer."
   ]
  },
  {
   "cell_type": "markdown",
   "id": "016b4972-1734-4833-ad4b-a5586367c112",
   "metadata": {},
   "source": [
    "## installing libraries"
   ]
  },
  {
   "cell_type": "code",
   "execution_count": null,
   "id": "6721d832-6a0c-4045-a0f4-09ea4ff4fbad",
   "metadata": {
    "scrolled": true
   },
   "outputs": [],
   "source": [
    "# pip install pocketsphinx -U"
   ]
  },
  {
   "cell_type": "code",
   "execution_count": 19,
   "id": "f3278856-bcba-4998-90bd-7ebed1393f41",
   "metadata": {},
   "outputs": [
    {
     "name": "stdout",
     "output_type": "stream",
     "text": [
      "Speak: \n",
      "You said: illegally on a given by storm\n"
     ]
    }
   ],
   "source": [
    "with sr.Microphone() as source:\n",
    "    r.adjust_for_ambient_noise(source)\n",
    "    print('Speak: ')\n",
    "    audio = r.listen(source)\n",
    "    print('You said:', r.recognize_sphinx(audio))"
   ]
  },
  {
   "cell_type": "code",
   "execution_count": 21,
   "id": "74d4a9b3-7d41-4762-99ee-f49cc0adf4b4",
   "metadata": {},
   "outputs": [],
   "source": [
    "# i did'nt said that you bitch"
   ]
  },
  {
   "cell_type": "code",
   "execution_count": null,
   "id": "526ed552-e64f-479f-bbf7-9da054275179",
   "metadata": {},
   "outputs": [],
   "source": []
  }
 ],
 "metadata": {
  "kernelspec": {
   "display_name": "Python 3 (ipykernel)",
   "language": "python",
   "name": "python3"
  },
  "language_info": {
   "codemirror_mode": {
    "name": "ipython",
    "version": 3
   },
   "file_extension": ".py",
   "mimetype": "text/x-python",
   "name": "python",
   "nbconvert_exporter": "python",
   "pygments_lexer": "ipython3",
   "version": "3.12.3"
  }
 },
 "nbformat": 4,
 "nbformat_minor": 5
}
