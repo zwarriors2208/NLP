{
 "cells": [
  {
   "cell_type": "code",
   "execution_count": 5,
   "id": "6bc6be13-9844-4e63-9a38-9bee1d2f6320",
   "metadata": {},
   "outputs": [
    {
     "name": "stdout",
     "output_type": "stream",
     "text": [
      "Collecting goslate\n",
      "  Using cached goslate-1.5.4.tar.gz (14 kB)\n",
      "  Preparing metadata (setup.py): started\n",
      "  Preparing metadata (setup.py): finished with status 'done'\n",
      "Collecting futures (from goslate)\n",
      "  Using cached futures-3.0.5.tar.gz (25 kB)\n",
      "  Preparing metadata (setup.py): started\n",
      "  Preparing metadata (setup.py): finished with status 'error'\n"
     ]
    },
    {
     "name": "stderr",
     "output_type": "stream",
     "text": [
      "  error: subprocess-exited-with-error\n",
      "  \n",
      "  python setup.py egg_info did not run successfully.\n",
      "  exit code: 1\n",
      "  \n",
      "  [30 lines of output]\n",
      "  Traceback (most recent call last):\n",
      "    File \"<string>\", line 2, in <module>\n",
      "    File \"<pip-setuptools-caller>\", line 14, in <module>\n",
      "    File \"C:\\Users\\DAI.STUDENTSDC\\AppData\\Local\\anaconda3\\Lib\\site-packages\\setuptools\\__init__.py\", line 271, in <module>\n",
      "      monkey.patch_all()\n",
      "    File \"C:\\Users\\DAI.STUDENTSDC\\AppData\\Local\\anaconda3\\Lib\\site-packages\\setuptools\\monkey.py\", line 86, in patch_all\n",
      "      patch_for_msvc_specialized_compiler()\n",
      "    File \"C:\\Users\\DAI.STUDENTSDC\\AppData\\Local\\anaconda3\\Lib\\site-packages\\setuptools\\monkey.py\", line 153, in patch_for_msvc_specialized_compiler\n",
      "      patch_func(*msvc14('_get_vc_env'))\n",
      "                  ^^^^^^^^^^^^^^^^^^^^^\n",
      "    File \"C:\\Users\\DAI.STUDENTSDC\\AppData\\Local\\anaconda3\\Lib\\site-packages\\setuptools\\monkey.py\", line 143, in patch_params\n",
      "      mod = import_module(mod_name)\n",
      "            ^^^^^^^^^^^^^^^^^^^^^^^\n",
      "    File \"C:\\Users\\DAI.STUDENTSDC\\AppData\\Local\\anaconda3\\Lib\\importlib\\__init__.py\", line 90, in import_module\n",
      "      return _bootstrap._gcd_import(name[level:], package, level)\n",
      "             ^^^^^^^^^^^^^^^^^^^^^^^^^^^^^^^^^^^^^^^^^^^^^^^^^^^^\n",
      "    File \"C:\\Users\\DAI.STUDENTSDC\\AppData\\Local\\anaconda3\\Lib\\site-packages\\setuptools\\_distutils\\_msvccompiler.py\", line 19, in <module>\n",
      "      import unittest.mock as mock\n",
      "    File \"C:\\Users\\DAI.STUDENTSDC\\AppData\\Local\\anaconda3\\Lib\\unittest\\mock.py\", line 26, in <module>\n",
      "      import asyncio\n",
      "    File \"C:\\Users\\DAI.STUDENTSDC\\AppData\\Local\\anaconda3\\Lib\\asyncio\\__init__.py\", line 8, in <module>\n",
      "      from .base_events import *\n",
      "    File \"C:\\Users\\DAI.STUDENTSDC\\AppData\\Local\\anaconda3\\Lib\\asyncio\\base_events.py\", line 18, in <module>\n",
      "      import concurrent.futures\n",
      "    File \"C:\\Users\\DAI.STUDENTSDC\\AppData\\Local\\Temp\\pip-install-huq5tv2h\\futures_02a732d6a5d54f99bbf9590a7a5ea416\\concurrent\\futures\\__init__.py\", line 8, in <module>\n",
      "      from concurrent.futures._base import (FIRST_COMPLETED,\n",
      "    File \"C:\\Users\\DAI.STUDENTSDC\\AppData\\Local\\Temp\\pip-install-huq5tv2h\\futures_02a732d6a5d54f99bbf9590a7a5ea416\\concurrent\\futures\\_base.py\", line 357\n",
      "      raise type(self._exception), self._exception, self._traceback\n",
      "                                 ^\n",
      "  SyntaxError: invalid syntax\n",
      "  [end of output]\n",
      "  \n",
      "  note: This error originates from a subprocess, and is likely not a problem with pip.\n",
      "error: metadata-generation-failed\n",
      "\n",
      "Encountered error while generating package metadata.\n",
      "\n",
      "See above for output.\n",
      "\n",
      "note: This is an issue with the package mentioned above, not pip.\n",
      "hint: See above for details.\n"
     ]
    }
   ],
   "source": [
    "!pip install goslate"
   ]
  },
  {
   "cell_type": "code",
   "execution_count": 1,
   "id": "cd9398b7-e2c0-4a1e-b473-567728e327df",
   "metadata": {},
   "outputs": [
    {
     "ename": "ModuleNotFoundError",
     "evalue": "No module named 'goslate'",
     "output_type": "error",
     "traceback": [
      "\u001b[1;31m---------------------------------------------------------------------------\u001b[0m",
      "\u001b[1;31mModuleNotFoundError\u001b[0m                       Traceback (most recent call last)",
      "Cell \u001b[1;32mIn[1], line 1\u001b[0m\n\u001b[1;32m----> 1\u001b[0m \u001b[38;5;28;01mfrom\u001b[39;00m \u001b[38;5;21;01mgoslate\u001b[39;00m \u001b[38;5;28;01mimport\u001b[39;00m Goslate\n",
      "\u001b[1;31mModuleNotFoundError\u001b[0m: No module named 'goslate'"
     ]
    }
   ],
   "source": [
    "from goslate import Goslate"
   ]
  },
  {
   "cell_type": "code",
   "execution_count": 3,
   "id": "d7a32024-583b-4901-b3e2-87aa7e011754",
   "metadata": {},
   "outputs": [
    {
     "ename": "NameError",
     "evalue": "name 'Goslate' is not defined",
     "output_type": "error",
     "traceback": [
      "\u001b[1;31m---------------------------------------------------------------------------\u001b[0m",
      "\u001b[1;31mNameError\u001b[0m                                 Traceback (most recent call last)",
      "Cell \u001b[1;32mIn[3], line 2\u001b[0m\n\u001b[0;32m      1\u001b[0m text \u001b[38;5;241m=\u001b[39m \u001b[38;5;124m'\u001b[39m\u001b[38;5;124mHello friends. I will learn this course.\u001b[39m\u001b[38;5;124m'\u001b[39m\n\u001b[1;32m----> 2\u001b[0m trans \u001b[38;5;241m=\u001b[39m \u001b[43mGoslate\u001b[49m(text \u001b[38;5;241m=\u001b[39m text, target_language \u001b[38;5;241m=\u001b[39m \u001b[38;5;124m'\u001b[39m\u001b[38;5;124mhi\u001b[39m\u001b[38;5;124m'\u001b[39m)\n",
      "\u001b[1;31mNameError\u001b[0m: name 'Goslate' is not defined"
     ]
    }
   ],
   "source": [
    "text = 'Hello friends. I will learn this course.'\n",
    "trans = Goslate(text = text, target_language = 'hi')"
   ]
  },
  {
   "cell_type": "code",
   "execution_count": null,
   "id": "a80d0ca9-c6ca-4edd-a189-680b49e1ea1c",
   "metadata": {},
   "outputs": [],
   "source": [
    "=_lan."
   ]
  }
 ],
 "metadata": {
  "kernelspec": {
   "display_name": "Python 3 (ipykernel)",
   "language": "python",
   "name": "python3"
  },
  "language_info": {
   "codemirror_mode": {
    "name": "ipython",
    "version": 3
   },
   "file_extension": ".py",
   "mimetype": "text/x-python",
   "name": "python",
   "nbconvert_exporter": "python",
   "pygments_lexer": "ipython3",
   "version": "3.12.3"
  }
 },
 "nbformat": 4,
 "nbformat_minor": 5
}
