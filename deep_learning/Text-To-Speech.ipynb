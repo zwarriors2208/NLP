{
 "cells": [
  {
   "cell_type": "markdown",
   "id": "ed474bb6-0708-4ef7-b188-63a518adab3c",
   "metadata": {},
   "source": [
    "## installing the libraries"
   ]
  },
  {
   "cell_type": "code",
   "execution_count": 4,
   "id": "1a98a547-11d0-4b68-bd91-aa88da1ccb15",
   "metadata": {
    "scrolled": true
   },
   "outputs": [
    {
     "name": "stdout",
     "output_type": "stream",
     "text": [
      "Collecting gtts\n",
      "  Downloading gTTS-2.5.4-py3-none-any.whl.metadata (4.1 kB)\n",
      "Collecting playsound\n",
      "  Downloading playsound-1.3.0.tar.gz (7.7 kB)\n",
      "  Preparing metadata (setup.py): started\n",
      "  Preparing metadata (setup.py): finished with status 'done'\n",
      "Collecting pyttsx3\n",
      "  Downloading pyttsx3-2.98-py3-none-any.whl.metadata (3.8 kB)\n",
      "Requirement already satisfied: requests<3,>=2.27 in c:\\users\\dai.studentsdc\\appdata\\local\\programs\\python\\python312\\lib\\site-packages (from gtts) (2.32.3)\n",
      "Requirement already satisfied: click<8.2,>=7.1 in c:\\users\\dai.studentsdc\\appdata\\local\\programs\\python\\python312\\lib\\site-packages (from gtts) (8.1.7)\n",
      "Collecting comtypes (from pyttsx3)\n",
      "  Downloading comtypes-1.4.8-py3-none-any.whl.metadata (7.1 kB)\n",
      "Collecting pypiwin32 (from pyttsx3)\n",
      "  Downloading pypiwin32-223-py3-none-any.whl.metadata (236 bytes)\n",
      "Requirement already satisfied: pywin32 in c:\\users\\dai.studentsdc\\appdata\\roaming\\python\\python312\\site-packages (from pyttsx3) (308)\n",
      "Requirement already satisfied: colorama in c:\\users\\dai.studentsdc\\appdata\\local\\programs\\python\\python312\\lib\\site-packages (from click<8.2,>=7.1->gtts) (0.4.6)\n",
      "Requirement already satisfied: charset-normalizer<4,>=2 in c:\\users\\dai.studentsdc\\appdata\\local\\programs\\python\\python312\\lib\\site-packages (from requests<3,>=2.27->gtts) (3.3.2)\n",
      "Requirement already satisfied: idna<4,>=2.5 in c:\\users\\dai.studentsdc\\appdata\\local\\programs\\python\\python312\\lib\\site-packages (from requests<3,>=2.27->gtts) (3.10)\n",
      "Requirement already satisfied: urllib3<3,>=1.21.1 in c:\\users\\dai.studentsdc\\appdata\\local\\programs\\python\\python312\\lib\\site-packages (from requests<3,>=2.27->gtts) (2.2.3)\n",
      "Requirement already satisfied: certifi>=2017.4.17 in c:\\users\\dai.studentsdc\\appdata\\local\\programs\\python\\python312\\lib\\site-packages (from requests<3,>=2.27->gtts) (2024.8.30)\n",
      "Downloading gTTS-2.5.4-py3-none-any.whl (29 kB)\n",
      "Downloading pyttsx3-2.98-py3-none-any.whl (34 kB)\n",
      "Downloading comtypes-1.4.8-py3-none-any.whl (229 kB)\n",
      "Downloading pypiwin32-223-py3-none-any.whl (1.7 kB)\n",
      "Building wheels for collected packages: playsound\n",
      "  Building wheel for playsound (setup.py): started\n",
      "  Building wheel for playsound (setup.py): finished with status 'done'\n",
      "  Created wheel for playsound: filename=playsound-1.3.0-py3-none-any.whl size=7044 sha256=863d7eb193aa1e91f85201ad7426274cdd2e44836b58aed1e92046f36b70144b\n",
      "  Stored in directory: c:\\users\\dai.studentsdc\\appdata\\local\\pip\\cache\\wheels\\cf\\42\\ff\\7c587bae55eec67b909ca316b250d9b4daedbf272a3cbeb907\n",
      "Successfully built playsound\n",
      "Installing collected packages: playsound, pypiwin32, comtypes, pyttsx3, gtts\n",
      "Successfully installed comtypes-1.4.8 gtts-2.5.4 playsound-1.3.0 pypiwin32-223 pyttsx3-2.98\n",
      "Note: you may need to restart the kernel to use updated packages.\n"
     ]
    }
   ],
   "source": [
    "# pip install gtts playsound pyttsx3 -U"
   ]
  },
  {
   "cell_type": "markdown",
   "id": "9aec1902-6463-4ad4-acc8-a5793d94e6c0",
   "metadata": {},
   "source": [
    "### importing the libraries"
   ]
  },
  {
   "cell_type": "code",
   "execution_count": 32,
   "id": "0870e71a-27aa-4d98-bb62-d181c4a4911f",
   "metadata": {},
   "outputs": [],
   "source": [
    "from gtts import gTTS             #Class\n",
    "from playsound import playsound   # function"
   ]
  },
  {
   "cell_type": "code",
   "execution_count": 34,
   "id": "6443f674-8b7c-432e-bc6f-7119674b2a9b",
   "metadata": {},
   "outputs": [],
   "source": [
    "# create the TTS class object\n",
    "# tts = gTTS(text = \"Hola Amigo! Let's code\", lang = 'en')\n",
    "tts = gTTS(text = \"ऑस्ट्रेलिया की आधी टीम लौटी पवेलियन, सिराज ने स्टीव का किया शिकार. \", lang = 'hi')"
   ]
  },
  {
   "cell_type": "code",
   "execution_count": 36,
   "id": "2b7c9ca1-3920-4351-b7c9-aff1e87a8af4",
   "metadata": {},
   "outputs": [
    {
     "ename": "PermissionError",
     "evalue": "[Errno 13] Permission denied: 'audio3.mp3'",
     "output_type": "error",
     "traceback": [
      "\u001b[1;31m---------------------------------------------------------------------------\u001b[0m",
      "\u001b[1;31mPermissionError\u001b[0m                           Traceback (most recent call last)",
      "Cell \u001b[1;32mIn[36], line 2\u001b[0m\n\u001b[0;32m      1\u001b[0m \u001b[38;5;66;03m# Save the audio\u001b[39;00m\n\u001b[1;32m----> 2\u001b[0m \u001b[43mtts\u001b[49m\u001b[38;5;241;43m.\u001b[39;49m\u001b[43msave\u001b[49m\u001b[43m(\u001b[49m\u001b[38;5;124;43m'\u001b[39;49m\u001b[38;5;124;43maudio3.mp3\u001b[39;49m\u001b[38;5;124;43m'\u001b[39;49m\u001b[43m)\u001b[49m\n",
      "File \u001b[1;32m~\\AppData\\Local\\Programs\\Python\\Python312\\Lib\\site-packages\\gtts\\tts.py:334\u001b[0m, in \u001b[0;36mgTTS.save\u001b[1;34m(self, savefile)\u001b[0m\n\u001b[0;32m    324\u001b[0m \u001b[38;5;28;01mdef\u001b[39;00m \u001b[38;5;21msave\u001b[39m(\u001b[38;5;28mself\u001b[39m, savefile):\n\u001b[0;32m    325\u001b[0m \u001b[38;5;250m    \u001b[39m\u001b[38;5;124;03m\"\"\"Do the TTS API request and write result to file.\u001b[39;00m\n\u001b[0;32m    326\u001b[0m \n\u001b[0;32m    327\u001b[0m \u001b[38;5;124;03m    Args:\u001b[39;00m\n\u001b[1;32m   (...)\u001b[0m\n\u001b[0;32m    332\u001b[0m \n\u001b[0;32m    333\u001b[0m \u001b[38;5;124;03m    \"\"\"\u001b[39;00m\n\u001b[1;32m--> 334\u001b[0m     \u001b[38;5;28;01mwith\u001b[39;00m \u001b[38;5;28;43mopen\u001b[39;49m\u001b[43m(\u001b[49m\u001b[38;5;28;43mstr\u001b[39;49m\u001b[43m(\u001b[49m\u001b[43msavefile\u001b[49m\u001b[43m)\u001b[49m\u001b[43m,\u001b[49m\u001b[43m \u001b[49m\u001b[38;5;124;43m\"\u001b[39;49m\u001b[38;5;124;43mwb\u001b[39;49m\u001b[38;5;124;43m\"\u001b[39;49m\u001b[43m)\u001b[49m \u001b[38;5;28;01mas\u001b[39;00m f:\n\u001b[0;32m    335\u001b[0m         \u001b[38;5;28mself\u001b[39m\u001b[38;5;241m.\u001b[39mwrite_to_fp(f)\n\u001b[0;32m    336\u001b[0m         f\u001b[38;5;241m.\u001b[39mflush()\n",
      "\u001b[1;31mPermissionError\u001b[0m: [Errno 13] Permission denied: 'audio3.mp3'"
     ]
    }
   ],
   "source": [
    "# Save the audio\n",
    "tts.save('audio3.mp3')"
   ]
  },
  {
   "cell_type": "code",
   "execution_count": 3,
   "id": "d30f4289-8bea-4f92-b6f1-e30bc46c3857",
   "metadata": {},
   "outputs": [
    {
     "name": "stderr",
     "output_type": "stream",
     "text": [
      "\n",
      "    Error 263 for command:\n",
      "        close audio3.mp3\n",
      "    The specified device is not open or is not recognized by MCI.\n",
      "Failed to close the file: audio3.mp3\n"
     ]
    }
   ],
   "source": [
    "playsound('audio3.mp3')"
   ]
  },
  {
   "cell_type": "code",
   "execution_count": 38,
   "id": "f717e7e0-d38b-4713-b26d-b7af29053f2d",
   "metadata": {},
   "outputs": [
    {
     "ename": "TypeError",
     "evalue": "'NoneType' object is not callable",
     "output_type": "error",
     "traceback": [
      "\u001b[1;31m---------------------------------------------------------------------------\u001b[0m",
      "\u001b[1;31mTypeError\u001b[0m                                 Traceback (most recent call last)",
      "Cell \u001b[1;32mIn[38], line 1\u001b[0m\n\u001b[1;32m----> 1\u001b[0m \u001b[43mtts\u001b[49m\u001b[38;5;241;43m.\u001b[39;49m\u001b[43mspeed\u001b[49m\u001b[43m(\u001b[49m\u001b[38;5;241;43m1.2\u001b[39;49m\u001b[43m)\u001b[49m\n",
      "\u001b[1;31mTypeError\u001b[0m: 'NoneType' object is not callable"
     ]
    }
   ],
   "source": [
    "tts.speed(1.2)"
   ]
  },
  {
   "cell_type": "code",
   "execution_count": 15,
   "id": "9e97caf3-b874-438f-a000-9a119d280e1e",
   "metadata": {
    "scrolled": true
   },
   "outputs": [
    {
     "name": "stdout",
     "output_type": "stream",
     "text": [
      "Help on class gTTS in module gtts.tts:\n",
      "\n",
      "class gTTS(builtins.object)\n",
      " |  gTTS(text, tld='com', lang='en', slow=False, lang_check=True, pre_processor_funcs=[<function tone_marks at 0x000002357FE55120>, <function end_of_line at 0x000002357FECD620>, <function abbreviations at 0x000002357FECCD60>, <function word_sub at 0x000002357FECD760>], tokenizer_func=<bound method Tokenizer.run of re.compile('(?<=\\\\?).|(?<=!).|(?<=？).|(?<=！).|(?<!\\\\.[a-z])\\\\. |(?<!\\\\.[a-z]), |(?<!\\\\d):|…|\\\\)|¿|‥|，|\\\\(|\\\\[|،|;|。|：|¡|、|—|\\\\\\n|\\\\]', re.IGNORECASE) from: [<function tone_marks at 0x000002357FECCC20>, <function period_comma at 0x000002357FECD940>, <function colon at 0x000002357FECD9E0>, <function other_punctuation at 0x000002357FECDA80>]>, timeout=None)\n",
      " |\n",
      " |  gTTS -- Google Text-to-Speech.\n",
      " |\n",
      " |  An interface to Google Translate's Text-to-Speech API.\n",
      " |\n",
      " |  Args:\n",
      " |      text (string): The text to be read.\n",
      " |      tld (string): Top-level domain for the Google Translate host,\n",
      " |          i.e `https://translate.google.<tld>`. Different Google domains\n",
      " |          can produce different localized 'accents' for a given\n",
      " |          language. This is also useful when ``google.com`` might be blocked\n",
      " |          within a network but a local or different Google host\n",
      " |          (e.g. ``google.com.hk``) is not. Default is ``com``.\n",
      " |      lang (string, optional): The language (IETF language tag) to\n",
      " |          read the text in. Default is ``en``.\n",
      " |      slow (bool, optional): Reads text more slowly. Defaults to ``False``.\n",
      " |      lang_check (bool, optional): Strictly enforce an existing ``lang``,\n",
      " |          to catch a language error early. If set to ``True``,\n",
      " |          a ``ValueError`` is raised if ``lang`` doesn't exist.\n",
      " |          Setting ``lang_check`` to ``False`` skips Web requests\n",
      " |          (to validate language) and therefore speeds up instantiation.\n",
      " |          Default is ``True``.\n",
      " |      pre_processor_funcs (list): A list of zero or more functions that are\n",
      " |          called to transform (pre-process) text before tokenizing. Those\n",
      " |          functions must take a string and return a string. Defaults to::\n",
      " |\n",
      " |              [\n",
      " |                  pre_processors.tone_marks,\n",
      " |                  pre_processors.end_of_line,\n",
      " |                  pre_processors.abbreviations,\n",
      " |                  pre_processors.word_sub\n",
      " |              ]\n",
      " |\n",
      " |      tokenizer_func (callable): A function that takes in a string and\n",
      " |          returns a list of string (tokens). Defaults to::\n",
      " |\n",
      " |              Tokenizer([\n",
      " |                  tokenizer_cases.tone_marks,\n",
      " |                  tokenizer_cases.period_comma,\n",
      " |                  tokenizer_cases.colon,\n",
      " |                  tokenizer_cases.other_punctuation\n",
      " |              ]).run\n",
      " |\n",
      " |      timeout (float or tuple, optional): Seconds to wait for the server to\n",
      " |          send data before giving up, as a float, or a ``(connect timeout,\n",
      " |          read timeout)`` tuple. ``None`` will wait forever (default).\n",
      " |\n",
      " |  See Also:\n",
      " |      :doc:`Pre-processing and tokenizing <tokenizer>`\n",
      " |\n",
      " |  Raises:\n",
      " |      AssertionError: When ``text`` is ``None`` or empty; when there's nothing\n",
      " |          left to speak after pre-processing, tokenizing and cleaning.\n",
      " |      ValueError: When ``lang_check`` is ``True`` and ``lang`` is not supported.\n",
      " |      RuntimeError: When ``lang_check`` is ``True`` but there's an error loading\n",
      " |          the languages dictionary.\n",
      " |\n",
      " |  Methods defined here:\n",
      " |\n",
      " |  __init__(self, text, tld='com', lang='en', slow=False, lang_check=True, pre_processor_funcs=[<function tone_marks at 0x000002357FE55120>, <function end_of_line at 0x000002357FECD620>, <function abbreviations at 0x000002357FECCD60>, <function word_sub at 0x000002357FECD760>], tokenizer_func=<bound method Tokenizer.run of re.compile('(?<=\\\\?).|(?<=!).|(?<=？).|(?<=！).|(?<!\\\\.[a-z])\\\\. |(?<!\\\\.[a-z]), |(?<!\\\\d):|…|\\\\)|¿|‥|，|\\\\(|\\\\[|،|;|。|：|¡|、|—|\\\\\\n|\\\\]', re.IGNORECASE) from: [<function tone_marks at 0x000002357FECCC20>, <function period_comma at 0x000002357FECD940>, <function colon at 0x000002357FECD9E0>, <function other_punctuation at 0x000002357FECDA80>]>, timeout=None)\n",
      " |      Initialize self.  See help(type(self)) for accurate signature.\n",
      " |\n",
      " |  get_bodies(self)\n",
      " |      Get TTS API request bodies(s) that would be sent to the TTS API.\n",
      " |\n",
      " |      Returns:\n",
      " |          list: A list of TTS API request bodies to make.\n",
      " |\n",
      " |  save(self, savefile)\n",
      " |      Do the TTS API request and write result to file.\n",
      " |\n",
      " |      Args:\n",
      " |          savefile (string): The path and file name to save the ``mp3`` to.\n",
      " |\n",
      " |      Raises:\n",
      " |          :class:`gTTSError`: When there's an error with the API request.\n",
      " |\n",
      " |  stream(self)\n",
      " |      Do the TTS API request(s) and stream bytes\n",
      " |\n",
      " |      Raises:\n",
      " |          :class:`gTTSError`: When there's an error with the API request.\n",
      " |\n",
      " |  write_to_fp(self, fp)\n",
      " |      Do the TTS API request(s) and write bytes to a file-like object.\n",
      " |\n",
      " |      Args:\n",
      " |          fp (file object): Any file-like object to write the ``mp3`` to.\n",
      " |\n",
      " |      Raises:\n",
      " |          :class:`gTTSError`: When there's an error with the API request.\n",
      " |          TypeError: When ``fp`` is not a file-like object that takes bytes.\n",
      " |\n",
      " |  ----------------------------------------------------------------------\n",
      " |  Data descriptors defined here:\n",
      " |\n",
      " |  __dict__\n",
      " |      dictionary for instance variables\n",
      " |\n",
      " |  __weakref__\n",
      " |      list of weak references to the object\n",
      " |\n",
      " |  ----------------------------------------------------------------------\n",
      " |  Data and other attributes defined here:\n",
      " |\n",
      " |  GOOGLE_TTS_HEADERS = {'Content-Type': 'application/x-www-form-urlencod...\n",
      " |\n",
      " |  GOOGLE_TTS_MAX_CHARS = 100\n",
      " |\n",
      " |  GOOGLE_TTS_RPC = 'jQ1olc'\n",
      "\n"
     ]
    }
   ],
   "source": [
    "help(gTTS)"
   ]
  },
  {
   "cell_type": "markdown",
   "id": "6c6972d1-3b2b-458e-912c-10513284ac6a",
   "metadata": {},
   "source": [
    "## Using pyttsx3 library"
   ]
  },
  {
   "cell_type": "code",
   "execution_count": 35,
   "id": "e481e884-b8cb-4ab5-bcef-fdeb4b0422da",
   "metadata": {},
   "outputs": [],
   "source": [
    "import pyttsx3\n",
    "\n",
    "# initialize the pyttsx3 engine\n",
    "engine = pyttsx3.init()\n",
    "\n",
    "# set properties (optional)\n",
    "\n",
    "engine.setProperty('rate', 120) #Speed of the speech(word per minute)\n",
    "engine.setProperty('volume', 1)  #Volume (0.0 to 1.0)\n",
    "\n",
    "# define the engine to speak the text\n",
    "text = \"Hello, welcome to Python Programming.\"\n",
    "engine.say(text)\n",
    "\n",
    "# wait for the speech to finish\n",
    "engine.runAndWait()"
   ]
  },
  {
   "cell_type": "code",
   "execution_count": 11,
   "id": "f5e2ca87-6d57-4741-a1e1-412a18215b51",
   "metadata": {},
   "outputs": [
    {
     "name": "stdout",
     "output_type": "stream",
     "text": [
      "Help on method setProperty in module pyttsx3.engine:\n",
      "\n",
      "setProperty(name, value) method of pyttsx3.engine.Engine instance\n",
      "    Adds a property value to set to the event queue. Valid names and values\n",
      "    include:\n",
      "\n",
      "    voice: String ID of the voice\n",
      "    rate: Integer speech rate in words per minute\n",
      "    volume: Floating point volume of speech in the range [0.0, 1.0]\n",
      "\n",
      "    Numeric values outside the valid range supported by the driver are\n",
      "    clipped.\n",
      "\n",
      "    @param name: Name of the property to fetch\n",
      "    @type name: str\n",
      "    @param: Value to set for the property\n",
      "    @rtype: object\n",
      "    @raise KeyError: When the property name is unknown\n",
      "\n"
     ]
    }
   ],
   "source": [
    "help(engine.setProperty)"
   ]
  },
  {
   "cell_type": "code",
   "execution_count": 40,
   "id": "ff87bc73-d4c5-4493-9c58-cbd94da80805",
   "metadata": {},
   "outputs": [
    {
     "data": {
      "text/plain": [
       "[<pyttsx3.voice.Voice at 0x2104e90f020>,\n",
       " <pyttsx3.voice.Voice at 0x2105002e240>]"
      ]
     },
     "execution_count": 40,
     "metadata": {},
     "output_type": "execute_result"
    }
   ],
   "source": [
    "voices = engine.getProperty('voices')\n",
    "voices"
   ]
  },
  {
   "cell_type": "code",
   "execution_count": 48,
   "id": "b3efd966-ca35-4717-a6d3-bd825d6b66be",
   "metadata": {},
   "outputs": [],
   "source": [
    "voices = engine.getProperty('voices')\n",
    "engine.setProperty('voice', voices[1].id)\n",
    "text = \"sleepy morning\"\n",
    "engine.say(text)\n",
    "engine.runAndWait()"
   ]
  },
  {
   "cell_type": "code",
   "execution_count": 52,
   "id": "2cdbbd33-6c84-4104-be63-1630731ccd39",
   "metadata": {},
   "outputs": [
    {
     "name": "stdout",
     "output_type": "stream",
     "text": [
      "ID: HKEY_LOCAL_MACHINE\\SOFTWARE\\Microsoft\\Speech\\Voices\\Tokens\\TTS_MS_EN-US_DAVID_11.0, Name: Microsoft David Desktop - English (United States), Language: []\n",
      "ID: HKEY_LOCAL_MACHINE\\SOFTWARE\\Microsoft\\Speech\\Voices\\Tokens\\TTS_MS_EN-US_ZIRA_11.0, Name: Microsoft Zira Desktop - English (United States), Language: []\n"
     ]
    }
   ],
   "source": [
    "import pyttsx3\n",
    "\n",
    "# Initialize the pyttsx3 engine\n",
    "engine = pyttsx3.init()\n",
    "\n",
    "# Get the list of available voices\n",
    "voices = engine.getProperty('voices')\n",
    "\n",
    "# Print out all available voices\n",
    "for voice in voices:\n",
    "    print(f\"ID: {voice.id}, Name: {voice.name}, Language: {voice.languages}\")"
   ]
  },
  {
   "cell_type": "code",
   "execution_count": null,
   "id": "6c52c62d-ec9e-44cc-89b3-7f21d3d1eb6d",
   "metadata": {},
   "outputs": [],
   "source": []
  }
 ],
 "metadata": {
  "kernelspec": {
   "display_name": "Python (base)",
   "language": "python",
   "name": "base"
  },
  "language_info": {
   "codemirror_mode": {
    "name": "ipython",
    "version": 3
   },
   "file_extension": ".py",
   "mimetype": "text/x-python",
   "name": "python",
   "nbconvert_exporter": "python",
   "pygments_lexer": "ipython3",
   "version": "3.12.5"
  }
 },
 "nbformat": 4,
 "nbformat_minor": 5
}
