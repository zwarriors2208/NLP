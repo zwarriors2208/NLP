{
 "cells": [
  {
   "cell_type": "code",
   "execution_count": 1,
   "id": "d8da14a6-a94f-4982-9625-50c6c39a8ce3",
   "metadata": {},
   "outputs": [
    {
     "name": "stdout",
     "output_type": "stream",
     "text": [
      "Collecting language_tool_python\n",
      "  Downloading language_tool_python-2.8.1-py3-none-any.whl.metadata (12 kB)\n",
      "Requirement already satisfied: pip in c:\\users\\dai.studentsdc\\appdata\\local\\anaconda3\\lib\\site-packages (from language_tool_python) (24.0)\n",
      "Requirement already satisfied: requests in c:\\users\\dai.studentsdc\\appdata\\local\\anaconda3\\lib\\site-packages (from language_tool_python) (2.32.2)\n",
      "Requirement already satisfied: tqdm in c:\\users\\dai.studentsdc\\appdata\\local\\anaconda3\\lib\\site-packages (from language_tool_python) (4.66.5)\n",
      "Requirement already satisfied: wheel in c:\\users\\dai.studentsdc\\appdata\\local\\anaconda3\\lib\\site-packages (from language_tool_python) (0.43.0)\n",
      "Requirement already satisfied: charset-normalizer<4,>=2 in c:\\users\\dai.studentsdc\\appdata\\local\\anaconda3\\lib\\site-packages (from requests->language_tool_python) (2.0.4)\n",
      "Requirement already satisfied: idna<4,>=2.5 in c:\\users\\dai.studentsdc\\appdata\\local\\anaconda3\\lib\\site-packages (from requests->language_tool_python) (3.7)\n",
      "Requirement already satisfied: urllib3<3,>=1.21.1 in c:\\users\\dai.studentsdc\\appdata\\local\\anaconda3\\lib\\site-packages (from requests->language_tool_python) (2.2.2)\n",
      "Requirement already satisfied: certifi>=2017.4.17 in c:\\users\\dai.studentsdc\\appdata\\local\\anaconda3\\lib\\site-packages (from requests->language_tool_python) (2024.8.30)\n",
      "Requirement already satisfied: colorama in c:\\users\\dai.studentsdc\\appdata\\local\\anaconda3\\lib\\site-packages (from tqdm->language_tool_python) (0.4.6)\n",
      "Downloading language_tool_python-2.8.1-py3-none-any.whl (35 kB)\n",
      "Installing collected packages: language_tool_python\n",
      "Successfully installed language_tool_python-2.8.1\n",
      "Note: you may need to restart the kernel to use updated packages.\n"
     ]
    }
   ],
   "source": [
    "pip install language_tool_python"
   ]
  },
  {
   "cell_type": "code",
   "execution_count": 2,
   "id": "eb9be2d2-0f83-4476-8059-24b1c0f4568f",
   "metadata": {},
   "outputs": [],
   "source": [
    "import language_tool_python"
   ]
  },
  {
   "cell_type": "code",
   "execution_count": 13,
   "id": "48895f81-9c62-481c-8b29-ad3ca76dfcaf",
   "metadata": {
    "scrolled": true
   },
   "outputs": [
    {
     "name": "stdout",
     "output_type": "stream",
     "text": [
      "Help on class LanguageTool in module language_tool_python.server:\n",
      "\n",
      "class LanguageTool(builtins.object)\n",
      " |  LanguageTool(language=None, motherTongue=None, remote_server=None, newSpellings=None, new_spellings_persist=True, host=None, config=None, language_tool_download_version: str = '6.4')\n",
      " |\n",
      " |  Main class used for checking text against different rules.\n",
      " |  LanguageTool v2 API documentation:\n",
      " |  https://languagetool.org/http-api/swagger-ui/#!/default/post_check\n",
      " |\n",
      " |  Methods defined here:\n",
      " |\n",
      " |  __del__(self)\n",
      " |\n",
      " |  __enter__(self)\n",
      " |\n",
      " |  __exit__(self, exc_type, exc_val, exc_tb)\n",
      " |\n",
      " |  __init__(self, language=None, motherTongue=None, remote_server=None, newSpellings=None, new_spellings_persist=True, host=None, config=None, language_tool_download_version: str = '6.4')\n",
      " |      Initialize self.  See help(type(self)) for accurate signature.\n",
      " |\n",
      " |  __repr__(self)\n",
      " |      Return repr(self).\n",
      " |\n",
      " |  check(self, text: str) -> List[language_tool_python.match.Match]\n",
      " |      Match text against enabled rules.\n",
      " |\n",
      " |  close(self)\n",
      " |\n",
      " |  correct(self, text: str) -> str\n",
      " |      Automatically apply suggestions to the text.\n",
      " |\n",
      " |  disable_spellchecking(self)\n",
      " |      Disable spell-checking rules.\n",
      " |\n",
      " |  enable_spellchecking(self)\n",
      " |      Enable spell-checking rules.\n",
      " |\n",
      " |  ----------------------------------------------------------------------\n",
      " |  Data descriptors defined here:\n",
      " |\n",
      " |  __dict__\n",
      " |      dictionary for instance variables\n",
      " |\n",
      " |  __weakref__\n",
      " |      list of weak references to the object\n",
      " |\n",
      " |  language\n",
      " |      The language to be used.\n",
      " |\n",
      " |  motherTongue\n",
      " |      The user's mother tongue or None.\n",
      " |      The mother tongue may also be used as a source language for\n",
      " |      checking bilingual texts.\n",
      " |\n",
      " |  ----------------------------------------------------------------------\n",
      " |  Data and other attributes defined here:\n",
      " |\n",
      " |  __annotations__ = {'_consumer_thread': <class 'threading.Thread'>, '_s...\n",
      "\n"
     ]
    }
   ],
   "source": [
    "help(language_tool_python.LanguageTool)"
   ]
  },
  {
   "cell_type": "code",
   "execution_count": 11,
   "id": "35ded812-61d8-4ff6-9f99-89b6fb4ca03e",
   "metadata": {},
   "outputs": [],
   "source": [
    "my_tool = language_tool_python.LanguageTool('en-US')"
   ]
  },
  {
   "cell_type": "code",
   "execution_count": 15,
   "id": "74aa3675-f6d1-4fc2-889b-637e3e82b74a",
   "metadata": {},
   "outputs": [],
   "source": [
    "# define the text\n",
    "my_text = 'He have collected a documents. I is thers.'"
   ]
  },
  {
   "cell_type": "code",
   "execution_count": 17,
   "id": "83b928b5-ce06-495a-bfcc-80faa251d0cd",
   "metadata": {},
   "outputs": [],
   "source": [
    "# get the text\n",
    "matches = my_tool.check(my_text)"
   ]
  },
  {
   "cell_type": "code",
   "execution_count": 18,
   "id": "4541e45b-f649-43d6-819a-eafb34cbc0b3",
   "metadata": {},
   "outputs": [
    {
     "data": {
      "text/plain": [
       "4"
      ]
     },
     "execution_count": 18,
     "metadata": {},
     "output_type": "execute_result"
    }
   ],
   "source": [
    "len(matches)"
   ]
  },
  {
   "cell_type": "code",
   "execution_count": 21,
   "id": "eb92df9e-cb26-4173-bc91-3a3012266060",
   "metadata": {},
   "outputs": [
    {
     "name": "stdout",
     "output_type": "stream",
     "text": [
      "Offset 3, length 4, Rule ID: HE_VERB_AGR\n",
      "Message: The pronoun ‘He’ is usually used with a third-person or a past tense verb.\n",
      "Suggestion: has; had\n",
      "He have collected a documents. I is thers.\n",
      "   ^^^^\n",
      "Offset 18, length 11, Rule ID: A_NNS\n",
      "Message: The plural noun “documents” cannot be used with the article “a”. Did you mean “a document” or “documents”?\n",
      "Suggestion: a document; documents\n",
      "He have collected a documents. I is thers.\n",
      "                  ^^^^^^^^^^^\n",
      "Offset 33, length 2, Rule ID: PERS_PRONOUN_AGREEMENT\n",
      "Message: Did you mean “am” or “will be”?\n",
      "Suggestion: am; will be\n",
      "He have collected a documents. I is thers.\n",
      "                                 ^^\n",
      "Offset 36, length 5, Rule ID: MORFOLOGIK_RULE_EN_US\n",
      "Message: Possible spelling mistake found.\n",
      "Suggestion: there; others; hers; theirs; tiers; ethers; therm; Thurs; therms; thees; thews\n",
      "He have collected a documents. I is thers.\n",
      "                                    ^^^^^\n"
     ]
    }
   ],
   "source": [
    "for m in matches:\n",
    "    print(m)"
   ]
  },
  {
   "cell_type": "code",
   "execution_count": 23,
   "id": "ab6fad9a-40b8-4bd7-b5e4-0cb20043650c",
   "metadata": {},
   "outputs": [
    {
     "data": {
      "text/plain": [
       "'He has collected a document. I am there.'"
      ]
     },
     "execution_count": 23,
     "metadata": {},
     "output_type": "execute_result"
    }
   ],
   "source": [
    "my_tool.correct(my_text)"
   ]
  },
  {
   "cell_type": "code",
   "execution_count": 25,
   "id": "545cf25f-d961-4812-8163-a5407e3ffd53",
   "metadata": {},
   "outputs": [
    {
     "name": "stdout",
     "output_type": "stream",
     "text": [
      "Help on method correct in module language_tool_python.server:\n",
      "\n",
      "correct(text: str) -> str method of language_tool_python.server.LanguageTool instance\n",
      "    Automatically apply suggestions to the text.\n",
      "\n"
     ]
    }
   ],
   "source": [
    "help(my_tool.correct)"
   ]
  },
  {
   "cell_type": "code",
   "execution_count": null,
   "id": "56aad7d8-228e-41ff-a672-10ebc3c621ab",
   "metadata": {},
   "outputs": [],
   "source": []
  }
 ],
 "metadata": {
  "kernelspec": {
   "display_name": "Python 3 (ipykernel)",
   "language": "python",
   "name": "python3"
  },
  "language_info": {
   "codemirror_mode": {
    "name": "ipython",
    "version": 3
   },
   "file_extension": ".py",
   "mimetype": "text/x-python",
   "name": "python",
   "nbconvert_exporter": "python",
   "pygments_lexer": "ipython3",
   "version": "3.12.3"
  }
 },
 "nbformat": 4,
 "nbformat_minor": 5
}
