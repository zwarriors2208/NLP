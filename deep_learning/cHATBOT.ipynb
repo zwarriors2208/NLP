{
 "cells": [
  {
   "cell_type": "code",
   "execution_count": 1,
   "id": "278987f0-7ed4-4980-a852-b6ae30e0082d",
   "metadata": {},
   "outputs": [],
   "source": [
    "import nltk\n",
    "import random\n",
    "from nltk.stem import WordNetLemmatizer"
   ]
  },
  {
   "cell_type": "code",
   "execution_count": 53,
   "id": "9eea2e8c-21bf-45d3-a7e9-055dafeccd04",
   "metadata": {},
   "outputs": [],
   "source": [
    "# define the chatbot responses an intents\n",
    "responses = {\n",
    "    'greeting':['Hello!', 'Hi There!', 'Hey!', 'Howdy!'],\n",
    "    'goodbye':['Goodbye!', 'See you later', 'Take care', 'Bye'],\n",
    "    'thanks':['You\\'re welcome', 'Glad to help!', 'Anytime', 'Happy to assist!'],\n",
    "    'default':['Sorry I did not understand', 'Can you tell again?', 'I am not sure.']\n",
    "}\n",
    "    "
   ]
  },
  {
   "cell_type": "code",
   "execution_count": 55,
   "id": "309f1266-cdad-4457-8412-8f234b6a03b2",
   "metadata": {},
   "outputs": [],
   "source": [
    "# simple set of questions and resposes /patterns\n",
    "patterns = {\n",
    "    'hi' : 'greeting',\n",
    "    'hello': 'greeting',\n",
    "    'hey': 'greeting',\n",
    "    'bye': 'goodbye',\n",
    "    'thanks':'thanks',\n",
    "    'thank':'thanks',\n",
    "}"
   ]
  },
  {
   "cell_type": "code",
   "execution_count": 57,
   "id": "1fdc15af-afbf-4ef1-86bd-d724971e25d4",
   "metadata": {},
   "outputs": [
    {
     "data": {
      "text/plain": [
       "'play'"
      ]
     },
     "execution_count": 57,
     "metadata": {},
     "output_type": "execute_result"
    }
   ],
   "source": [
    "wnl = WordNetLemmatizer()\n",
    "wnl.lemmatize('playing', pos = 'v')"
   ]
  },
  {
   "cell_type": "code",
   "execution_count": 59,
   "id": "977e5a53-38dc-44d7-bf57-ed6628005d48",
   "metadata": {},
   "outputs": [],
   "source": [
    "# matches the user input\n",
    "def respond(user_input):\n",
    "    for word in nltk.word_tokenize(user_input.lower()):\n",
    "        if word in patterns:\n",
    "            intent = patterns[word]\n",
    "            return random.choice(responses[intent])\n",
    "    return random.choice(responses['default'])"
   ]
  },
  {
   "cell_type": "code",
   "execution_count": 61,
   "id": "071b5dad-9afc-4e0e-80af-57d47b4520e2",
   "metadata": {},
   "outputs": [
    {
     "data": {
      "text/plain": [
       "'Howdy!'"
      ]
     },
     "execution_count": 61,
     "metadata": {},
     "output_type": "execute_result"
    }
   ],
   "source": [
    "respond('Hello')"
   ]
  },
  {
   "cell_type": "code",
   "execution_count": 63,
   "id": "fd11357e-ea08-44fe-a466-09006901445f",
   "metadata": {},
   "outputs": [
    {
     "data": {
      "text/plain": [
       "'I am not sure.'"
      ]
     },
     "execution_count": 63,
     "metadata": {},
     "output_type": "execute_result"
    }
   ],
   "source": [
    "respond('fluff you')"
   ]
  },
  {
   "cell_type": "code",
   "execution_count": 65,
   "id": "34826ded-fe58-460a-bb97-458ada2fa38e",
   "metadata": {},
   "outputs": [],
   "source": [
    "def chat():\n",
    "    print(\"Chatbot: How can I help you today? (Type \\\"exit\\\" to quit\")\n",
    "    while True:\n",
    "        user_input = input('You: ')\n",
    "        if user_input == 'exit':\n",
    "            print(\"Chatbot: Good Bye!\")\n",
    "            break\n",
    "        response = respond(user_input)\n",
    "        print('Chatbot: ', response)"
   ]
  },
  {
   "cell_type": "code",
   "execution_count": 72,
   "id": "5f5ca502-6999-48eb-ba71-4ed94f056ebd",
   "metadata": {},
   "outputs": [
    {
     "name": "stdout",
     "output_type": "stream",
     "text": [
      "Chatbot: How can I help you today? (Type \"exit\" to quit\n"
     ]
    },
    {
     "name": "stdin",
     "output_type": "stream",
     "text": [
      "You:  hey whatsup\n"
     ]
    },
    {
     "name": "stdout",
     "output_type": "stream",
     "text": [
      "Chatbot:  Hi There!\n"
     ]
    },
    {
     "name": "stdin",
     "output_type": "stream",
     "text": [
      "You:  waddaup\n"
     ]
    },
    {
     "name": "stdout",
     "output_type": "stream",
     "text": [
      "Chatbot:  I am not sure.\n"
     ]
    },
    {
     "name": "stdin",
     "output_type": "stream",
     "text": [
      "You:  bye\n"
     ]
    },
    {
     "name": "stdout",
     "output_type": "stream",
     "text": [
      "Chatbot:  Take care\n"
     ]
    },
    {
     "name": "stdin",
     "output_type": "stream",
     "text": [
      "You:  you too\n"
     ]
    },
    {
     "name": "stdout",
     "output_type": "stream",
     "text": [
      "Chatbot:  Can you tell again?\n"
     ]
    },
    {
     "name": "stdin",
     "output_type": "stream",
     "text": [
      "You:  you dumb bitch \n"
     ]
    },
    {
     "name": "stdout",
     "output_type": "stream",
     "text": [
      "Chatbot:  I am not sure.\n"
     ]
    },
    {
     "name": "stdin",
     "output_type": "stream",
     "text": [
      "You:  bye\n"
     ]
    },
    {
     "name": "stdout",
     "output_type": "stream",
     "text": [
      "Chatbot:  Bye\n"
     ]
    },
    {
     "name": "stdin",
     "output_type": "stream",
     "text": [
      "You:  exit\n"
     ]
    },
    {
     "name": "stdout",
     "output_type": "stream",
     "text": [
      "Chatbot: Good Bye!\n"
     ]
    }
   ],
   "source": [
    "chat()"
   ]
  },
  {
   "cell_type": "code",
   "execution_count": null,
   "id": "156225d3-6175-4353-89d5-3c76664852c3",
   "metadata": {},
   "outputs": [],
   "source": []
  }
 ],
 "metadata": {
  "kernelspec": {
   "display_name": "Python 3 (ipykernel)",
   "language": "python",
   "name": "python3"
  },
  "language_info": {
   "codemirror_mode": {
    "name": "ipython",
    "version": 3
   },
   "file_extension": ".py",
   "mimetype": "text/x-python",
   "name": "python",
   "nbconvert_exporter": "python",
   "pygments_lexer": "ipython3",
   "version": "3.12.3"
  }
 },
 "nbformat": 4,
 "nbformat_minor": 5
}
